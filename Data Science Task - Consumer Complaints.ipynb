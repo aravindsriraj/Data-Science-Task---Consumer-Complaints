{
 "cells": [
  {
   "cell_type": "markdown",
   "metadata": {},
   "source": [
    "#### Installing Required Libraries"
   ]
  },
  {
   "cell_type": "code",
   "execution_count": 1,
   "metadata": {
    "execution": {
     "iopub.execute_input": "2023-09-22T12:27:44.643930Z",
     "iopub.status.busy": "2023-09-22T12:27:44.643550Z",
     "iopub.status.idle": "2023-09-22T12:28:13.615242Z",
     "shell.execute_reply": "2023-09-22T12:28:13.613935Z",
     "shell.execute_reply.started": "2023-09-22T12:27:44.643901Z"
    }
   },
   "outputs": [
    {
     "name": "stdout",
     "output_type": "stream",
     "text": [
      "Collecting gdown\n",
      "  Downloading gdown-4.7.1-py3-none-any.whl (15 kB)\n",
      "Collecting grpcio-status==1.33.2\n",
      "  Downloading grpcio-status-1.33.2.tar.gz (8.7 kB)\n",
      "  Preparing metadata (setup.py) ... \u001b[?25ldone\n",
      "\u001b[?25hCollecting protobuf==3.19.6\n",
      "  Downloading protobuf-3.19.6-cp38-cp38-manylinux_2_17_x86_64.manylinux2014_x86_64.whl (1.1 MB)\n",
      "\u001b[2K     \u001b[90m━━━━━━━━━━━━━━━━━━━━━━━━━━━━━━━━━━━━━━━━\u001b[0m \u001b[32m1.1/1.1 MB\u001b[0m \u001b[31m17.2 MB/s\u001b[0m eta \u001b[36m0:00:00\u001b[0ma \u001b[36m0:00:01\u001b[0m\n",
      "\u001b[?25hCollecting seaborn\n",
      "  Downloading seaborn-0.12.2-py3-none-any.whl (293 kB)\n",
      "\u001b[2K     \u001b[90m━━━━━━━━━━━━━━━━━━━━━━━━━━━━━━━━━━━━━━\u001b[0m \u001b[32m293.3/293.3 kB\u001b[0m \u001b[31m22.2 MB/s\u001b[0m eta \u001b[36m0:00:00\u001b[0m\n",
      "\u001b[?25hCollecting xgboost\n",
      "  Downloading xgboost-2.0.0-py3-none-manylinux2014_x86_64.whl (297.1 MB)\n",
      "\u001b[2K     \u001b[90m━━━━━━━━━━━━━━━━━━━━━━━━━━━━━━━━━━━━━━━\u001b[0m \u001b[32m297.1/297.1 MB\u001b[0m \u001b[31m1.6 MB/s\u001b[0m eta \u001b[36m0:00:00\u001b[0m00:01\u001b[0m00:01\u001b[0m\n",
      "\u001b[?25hRequirement already satisfied: scikit-learn in /usr/local/lib/python3.8/site-packages (1.3.0)\n",
      "Collecting nltk\n",
      "  Downloading nltk-3.8.1-py3-none-any.whl (1.5 MB)\n",
      "\u001b[2K     \u001b[90m━━━━━━━━━━━━━━━━━━━━━━━━━━━━━━━━━━━━━━━━\u001b[0m \u001b[32m1.5/1.5 MB\u001b[0m \u001b[31m49.7 MB/s\u001b[0m eta \u001b[36m0:00:00\u001b[0m\n",
      "\u001b[?25hRequirement already satisfied: grpcio>=1.33.2 in /usr/local/lib/python3.8/site-packages (from grpcio-status==1.33.2) (1.56.0)\n",
      "Requirement already satisfied: googleapis-common-protos>=1.5.5 in /usr/local/lib/python3.8/site-packages (from grpcio-status==1.33.2) (1.59.1)\n",
      "Requirement already satisfied: six in /usr/local/lib/python3.8/site-packages (from gdown) (1.16.0)\n",
      "Requirement already satisfied: filelock in /usr/local/lib/python3.8/site-packages (from gdown) (3.12.2)\n",
      "Requirement already satisfied: beautifulsoup4 in /usr/local/lib/python3.8/site-packages (from gdown) (4.12.2)\n",
      "Requirement already satisfied: tqdm in /usr/local/lib/python3.8/site-packages (from gdown) (4.65.0)\n",
      "Requirement already satisfied: requests[socks] in /usr/local/lib/python3.8/site-packages (from gdown) (2.31.0)\n",
      "Requirement already satisfied: pandas>=0.25 in /usr/local/lib/python3.8/site-packages (from seaborn) (2.0.3)\n",
      "Requirement already satisfied: numpy!=1.24.0,>=1.17 in /usr/local/lib/python3.8/site-packages (from seaborn) (1.23.5)\n",
      "Requirement already satisfied: matplotlib!=3.6.1,>=3.1 in /usr/local/lib/python3.8/site-packages (from seaborn) (3.7.2)\n",
      "Requirement already satisfied: scipy in /usr/local/lib/python3.8/site-packages (from xgboost) (1.10.1)\n",
      "Requirement already satisfied: threadpoolctl>=2.0.0 in /usr/local/lib/python3.8/site-packages (from scikit-learn) (3.1.0)\n",
      "Requirement already satisfied: joblib>=1.1.1 in /usr/local/lib/python3.8/site-packages (from scikit-learn) (1.3.1)\n",
      "Requirement already satisfied: click in /usr/local/lib/python3.8/site-packages (from nltk) (8.1.4)\n",
      "Collecting regex>=2021.8.3\n",
      "  Downloading regex-2023.8.8-cp38-cp38-manylinux_2_17_x86_64.manylinux2014_x86_64.whl (774 kB)\n",
      "\u001b[2K     \u001b[90m━━━━━━━━━━━━━━━━━━━━━━━━━━━━━━━━━━━━━━\u001b[0m \u001b[32m774.3/774.3 kB\u001b[0m \u001b[31m36.8 MB/s\u001b[0m eta \u001b[36m0:00:00\u001b[0m\n",
      "\u001b[?25hRequirement already satisfied: kiwisolver>=1.0.1 in /usr/local/lib/python3.8/site-packages (from matplotlib!=3.6.1,>=3.1->seaborn) (1.4.4)\n",
      "Requirement already satisfied: packaging>=20.0 in /usr/local/lib/python3.8/site-packages (from matplotlib!=3.6.1,>=3.1->seaborn) (23.1)\n",
      "Requirement already satisfied: python-dateutil>=2.7 in /usr/local/lib/python3.8/site-packages (from matplotlib!=3.6.1,>=3.1->seaborn) (2.8.2)\n",
      "Requirement already satisfied: pillow>=6.2.0 in /usr/local/lib/python3.8/site-packages (from matplotlib!=3.6.1,>=3.1->seaborn) (10.0.0)\n",
      "Requirement already satisfied: fonttools>=4.22.0 in /usr/local/lib/python3.8/site-packages (from matplotlib!=3.6.1,>=3.1->seaborn) (4.40.0)\n",
      "Requirement already satisfied: contourpy>=1.0.1 in /usr/local/lib/python3.8/site-packages (from matplotlib!=3.6.1,>=3.1->seaborn) (1.1.0)\n",
      "Requirement already satisfied: importlib-resources>=3.2.0 in /usr/local/lib/python3.8/site-packages (from matplotlib!=3.6.1,>=3.1->seaborn) (6.0.0)\n",
      "Requirement already satisfied: pyparsing<3.1,>=2.3.1 in /usr/local/lib/python3.8/site-packages (from matplotlib!=3.6.1,>=3.1->seaborn) (3.0.9)\n",
      "Requirement already satisfied: cycler>=0.10 in /usr/local/lib/python3.8/site-packages (from matplotlib!=3.6.1,>=3.1->seaborn) (0.11.0)\n",
      "Requirement already satisfied: tzdata>=2022.1 in /usr/local/lib/python3.8/site-packages (from pandas>=0.25->seaborn) (2023.3)\n",
      "Requirement already satisfied: pytz>=2020.1 in /usr/local/lib/python3.8/site-packages (from pandas>=0.25->seaborn) (2023.3)\n",
      "Requirement already satisfied: soupsieve>1.2 in /usr/local/lib/python3.8/site-packages (from beautifulsoup4->gdown) (2.4.1)\n",
      "Requirement already satisfied: idna<4,>=2.5 in /usr/local/lib/python3.8/site-packages (from requests[socks]->gdown) (3.4)\n",
      "Requirement already satisfied: certifi>=2017.4.17 in /usr/local/lib/python3.8/site-packages (from requests[socks]->gdown) (2023.5.7)\n",
      "Requirement already satisfied: urllib3<3,>=1.21.1 in /usr/local/lib/python3.8/site-packages (from requests[socks]->gdown) (1.26.16)\n",
      "Requirement already satisfied: charset-normalizer<4,>=2 in /usr/local/lib/python3.8/site-packages (from requests[socks]->gdown) (3.2.0)\n",
      "Collecting PySocks!=1.5.7,>=1.5.6\n",
      "  Downloading PySocks-1.7.1-py3-none-any.whl (16 kB)\n",
      "Requirement already satisfied: zipp>=3.1.0 in /usr/local/lib/python3.8/site-packages (from importlib-resources>=3.2.0->matplotlib!=3.6.1,>=3.1->seaborn) (3.15.0)\n",
      "Building wheels for collected packages: grpcio-status\n",
      "  Building wheel for grpcio-status (setup.py) ... \u001b[?25ldone\n",
      "\u001b[?25h  Created wheel for grpcio-status: filename=grpcio_status-1.33.2-py3-none-any.whl size=9303 sha256=deb2288606c9a2aed9bd66be2ce7b4d517b991a831192206813a57f1ba412115\n",
      "  Stored in directory: /root/.cache/pip/wheels/62/d6/3d/82c5881e016620d21e47f047ec46f10c6b1ae07bed6d75a9f2\n",
      "Successfully built grpcio-status\n",
      "Installing collected packages: regex, PySocks, protobuf, xgboost, nltk, seaborn, grpcio-status, gdown\n",
      "  Attempting uninstall: protobuf\n",
      "    Found existing installation: protobuf 4.23.4\n",
      "    Uninstalling protobuf-4.23.4:\n",
      "      Successfully uninstalled protobuf-4.23.4\n",
      "\u001b[31mERROR: pip's dependency resolver does not currently take into account all the packages that are installed. This behaviour is the source of the following dependency conflicts.\n",
      "tensorflow 2.12.0 requires protobuf!=4.21.0,!=4.21.1,!=4.21.2,!=4.21.3,!=4.21.4,!=4.21.5,<5.0.0dev,>=3.20.3, but you have protobuf 3.19.6 which is incompatible.\n",
      "tensorflow-metadata 1.13.1 requires protobuf<5,>=3.20.3, but you have protobuf 3.19.6 which is incompatible.\n",
      "tensorflow-datasets 4.9.2 requires protobuf>=3.20, but you have protobuf 3.19.6 which is incompatible.\n",
      "tensorboardx 2.6.1 requires protobuf>=4.22.3, but you have protobuf 3.19.6 which is incompatible.\u001b[0m\u001b[31m\n",
      "\u001b[0mSuccessfully installed PySocks-1.7.1 gdown-4.7.1 grpcio-status-1.33.2 nltk-3.8.1 protobuf-3.19.6 regex-2023.8.8 seaborn-0.12.2 xgboost-2.0.0\n",
      "\u001b[33mWARNING: Running pip as the 'root' user can result in broken permissions and conflicting behaviour with the system package manager. It is recommended to use a virtual environment instead: https://pip.pypa.io/warnings/venv\u001b[0m\u001b[33m\n",
      "\u001b[0m\n",
      "\u001b[1m[\u001b[0m\u001b[34;49mnotice\u001b[0m\u001b[1;39;49m]\u001b[0m\u001b[39;49m A new release of pip is available: \u001b[0m\u001b[31;49m23.0.1\u001b[0m\u001b[39;49m -> \u001b[0m\u001b[32;49m23.2.1\u001b[0m\n",
      "\u001b[1m[\u001b[0m\u001b[34;49mnotice\u001b[0m\u001b[1;39;49m]\u001b[0m\u001b[39;49m To update, run: \u001b[0m\u001b[32;49mpip install --upgrade pip\u001b[0m\n"
     ]
    }
   ],
   "source": [
    "!pip install gdown grpcio-status==1.33.2 protobuf==3.19.6 seaborn xgboost scikit-learn nltk"
   ]
  },
  {
   "cell_type": "code",
   "execution_count": 2,
   "metadata": {
    "execution": {
     "iopub.execute_input": "2023-09-22T12:28:13.617474Z",
     "iopub.status.busy": "2023-09-22T12:28:13.617163Z",
     "iopub.status.idle": "2023-09-22T12:28:24.058875Z",
     "shell.execute_reply": "2023-09-22T12:28:24.057676Z",
     "shell.execute_reply.started": "2023-09-22T12:28:13.617444Z"
    }
   },
   "outputs": [
    {
     "name": "stdout",
     "output_type": "stream",
     "text": [
      "Requirement already satisfied: protobuf in /usr/local/lib/python3.8/site-packages (3.19.6)\n",
      "Collecting protobuf\n",
      "  Downloading protobuf-4.24.3-cp37-abi3-manylinux2014_x86_64.whl (311 kB)\n",
      "\u001b[2K     \u001b[90m━━━━━━━━━━━━━━━━━━━━━━━━━━━━━━━━━━━━━━━\u001b[0m \u001b[32m311.6/311.6 kB\u001b[0m \u001b[31m5.9 MB/s\u001b[0m eta \u001b[36m0:00:00\u001b[0ma \u001b[36m0:00:01\u001b[0m\n",
      "\u001b[?25hInstalling collected packages: protobuf\n",
      "  Attempting uninstall: protobuf\n",
      "    Found existing installation: protobuf 3.19.6\n",
      "    Uninstalling protobuf-3.19.6:\n",
      "      Successfully uninstalled protobuf-3.19.6\n",
      "\u001b[31mERROR: pip's dependency resolver does not currently take into account all the packages that are installed. This behaviour is the source of the following dependency conflicts.\n",
      "google-api-core 1.34.0 requires protobuf!=3.20.0,!=3.20.1,!=4.21.0,!=4.21.1,!=4.21.2,!=4.21.3,!=4.21.4,!=4.21.5,<4.0.0dev,>=3.19.5, but you have protobuf 4.24.3 which is incompatible.\u001b[0m\u001b[31m\n",
      "\u001b[0mSuccessfully installed protobuf-4.24.3\n",
      "\u001b[33mWARNING: Running pip as the 'root' user can result in broken permissions and conflicting behaviour with the system package manager. It is recommended to use a virtual environment instead: https://pip.pypa.io/warnings/venv\u001b[0m\u001b[33m\n",
      "\u001b[0m\n",
      "\u001b[1m[\u001b[0m\u001b[34;49mnotice\u001b[0m\u001b[1;39;49m]\u001b[0m\u001b[39;49m A new release of pip is available: \u001b[0m\u001b[31;49m23.0.1\u001b[0m\u001b[39;49m -> \u001b[0m\u001b[32;49m23.2.1\u001b[0m\n",
      "\u001b[1m[\u001b[0m\u001b[34;49mnotice\u001b[0m\u001b[1;39;49m]\u001b[0m\u001b[39;49m To update, run: \u001b[0m\u001b[32;49mpip install --upgrade pip\u001b[0m\n"
     ]
    }
   ],
   "source": [
    "!pip install --upgrade protobuf"
   ]
  },
  {
   "cell_type": "code",
   "execution_count": 3,
   "metadata": {
    "execution": {
     "iopub.execute_input": "2023-09-22T12:28:24.060993Z",
     "iopub.status.busy": "2023-09-22T12:28:24.060652Z",
     "iopub.status.idle": "2023-09-22T12:28:24.065027Z",
     "shell.execute_reply": "2023-09-22T12:28:24.064325Z",
     "shell.execute_reply.started": "2023-09-22T12:28:24.060950Z"
    }
   },
   "outputs": [],
   "source": [
    "import os\n",
    "os.environ[\"PROTOCOL_BUFFERS_PYTHON_IMPLEMENTATION\"]=\"python\""
   ]
  },
  {
   "cell_type": "markdown",
   "metadata": {},
   "source": [
    "#### Downloading the Dataset from Gdrive"
   ]
  },
  {
   "cell_type": "code",
   "execution_count": 4,
   "metadata": {
    "execution": {
     "iopub.execute_input": "2023-09-22T12:28:24.067204Z",
     "iopub.status.busy": "2023-09-22T12:28:24.066871Z",
     "iopub.status.idle": "2023-09-22T12:28:54.279272Z",
     "shell.execute_reply": "2023-09-22T12:28:54.278000Z",
     "shell.execute_reply.started": "2023-09-22T12:28:24.067166Z"
    },
    "id": "gwijkCv24yXj",
    "outputId": "408cd600-f590-4887-b159-a5552b5876ec"
   },
   "outputs": [
    {
     "name": "stdout",
     "output_type": "stream",
     "text": [
      "Downloading...\n",
      "From (uriginal): https://drive.google.com/uc?id=11so6cfFTwIU4EeRw7ns_LHfDV9BqPmPh\n",
      "From (redirected): https://drive.google.com/uc?id=11so6cfFTwIU4EeRw7ns_LHfDV9BqPmPh&confirm=t&uuid=ed9d66a5-7f89-4d1e-8208-f76de08520da\n",
      "To: /kaggle/working/complaints.csv\n",
      "100%|██████████████████████████████████████| 2.77G/2.77G [00:27<00:00, 99.7MB/s]\n"
     ]
    }
   ],
   "source": [
    "!gdown 11so6cfFTwIU4EeRw7ns_LHfDV9BqPmPh"
   ]
  },
  {
   "cell_type": "markdown",
   "metadata": {},
   "source": [
    "#### Importing Libraries"
   ]
  },
  {
   "cell_type": "code",
   "execution_count": 5,
   "metadata": {
    "execution": {
     "iopub.execute_input": "2023-09-22T12:28:54.281132Z",
     "iopub.status.busy": "2023-09-22T12:28:54.280811Z",
     "iopub.status.idle": "2023-09-22T12:29:39.380597Z",
     "shell.execute_reply": "2023-09-22T12:29:39.379628Z",
     "shell.execute_reply.started": "2023-09-22T12:28:54.281098Z"
    },
    "id": "0qEZWPIyCEsV"
   },
   "outputs": [
    {
     "name": "stderr",
     "output_type": "stream",
     "text": [
      "D0922 12:29:31.081700598      15 config.cc:119]                        gRPC EXPERIMENT tcp_frame_size_tuning               OFF (default:OFF)\n",
      "D0922 12:29:31.081725659      15 config.cc:119]                        gRPC EXPERIMENT tcp_rcv_lowat                       OFF (default:OFF)\n",
      "D0922 12:29:31.081729236      15 config.cc:119]                        gRPC EXPERIMENT peer_state_based_framing            OFF (default:OFF)\n",
      "D0922 12:29:31.081732140      15 config.cc:119]                        gRPC EXPERIMENT flow_control_fixes                  ON  (default:ON)\n",
      "D0922 12:29:31.081734683      15 config.cc:119]                        gRPC EXPERIMENT memory_pressure_controller          OFF (default:OFF)\n",
      "D0922 12:29:31.081737414      15 config.cc:119]                        gRPC EXPERIMENT unconstrained_max_quota_buffer_size OFF (default:OFF)\n",
      "D0922 12:29:31.081740164      15 config.cc:119]                        gRPC EXPERIMENT new_hpack_huffman_decoder           ON  (default:ON)\n",
      "D0922 12:29:31.081742760      15 config.cc:119]                        gRPC EXPERIMENT event_engine_client                 OFF (default:OFF)\n",
      "D0922 12:29:31.081745250      15 config.cc:119]                        gRPC EXPERIMENT monitoring_experiment               ON  (default:ON)\n",
      "D0922 12:29:31.081747703      15 config.cc:119]                        gRPC EXPERIMENT promise_based_client_call           OFF (default:OFF)\n",
      "D0922 12:29:31.081750176      15 config.cc:119]                        gRPC EXPERIMENT free_large_allocator                OFF (default:OFF)\n",
      "D0922 12:29:31.081753428      15 config.cc:119]                        gRPC EXPERIMENT promise_based_server_call           OFF (default:OFF)\n",
      "D0922 12:29:31.081756021      15 config.cc:119]                        gRPC EXPERIMENT transport_supplies_client_latency   OFF (default:OFF)\n",
      "D0922 12:29:31.081758520      15 config.cc:119]                        gRPC EXPERIMENT event_engine_listener               OFF (default:OFF)\n",
      "I0922 12:29:31.081965915      15 ev_epoll1_linux.cc:122]               grpc epoll fd: 62\n",
      "D0922 12:29:31.087207314      15 ev_posix.cc:144]                      Using polling engine: epoll1\n",
      "D0922 12:29:31.087233807      15 dns_resolver_ares.cc:822]             Using ares dns resolver\n",
      "D0922 12:29:31.087676487      15 lb_policy_registry.cc:46]             registering LB policy factory for \"priority_experimental\"\n",
      "D0922 12:29:31.087687808      15 lb_policy_registry.cc:46]             registering LB policy factory for \"outlier_detection_experimental\"\n",
      "D0922 12:29:31.087691352      15 lb_policy_registry.cc:46]             registering LB policy factory for \"weighted_target_experimental\"\n",
      "D0922 12:29:31.087694764      15 lb_policy_registry.cc:46]             registering LB policy factory for \"pick_first\"\n",
      "D0922 12:29:31.087697943      15 lb_policy_registry.cc:46]             registering LB policy factory for \"round_robin\"\n",
      "D0922 12:29:31.087701093      15 lb_policy_registry.cc:46]             registering LB policy factory for \"weighted_round_robin_experimental\"\n",
      "D0922 12:29:31.087707709      15 lb_policy_registry.cc:46]             registering LB policy factory for \"ring_hash_experimental\"\n",
      "D0922 12:29:31.087724188      15 lb_policy_registry.cc:46]             registering LB policy factory for \"grpclb\"\n",
      "D0922 12:29:31.087750423      15 lb_policy_registry.cc:46]             registering LB policy factory for \"rls_experimental\"\n",
      "D0922 12:29:31.087763731      15 lb_policy_registry.cc:46]             registering LB policy factory for \"xds_cluster_manager_experimental\"\n",
      "D0922 12:29:31.087767479      15 lb_policy_registry.cc:46]             registering LB policy factory for \"xds_cluster_impl_experimental\"\n",
      "D0922 12:29:31.087770761      15 lb_policy_registry.cc:46]             registering LB policy factory for \"cds_experimental\"\n",
      "D0922 12:29:31.087777076      15 lb_policy_registry.cc:46]             registering LB policy factory for \"xds_cluster_resolver_experimental\"\n",
      "D0922 12:29:31.087781021      15 lb_policy_registry.cc:46]             registering LB policy factory for \"xds_override_host_experimental\"\n",
      "D0922 12:29:31.087784192      15 lb_policy_registry.cc:46]             registering LB policy factory for \"xds_wrr_locality_experimental\"\n",
      "D0922 12:29:31.087788998      15 certificate_provider_registry.cc:35]  registering certificate provider factory for \"file_watcher\"\n",
      "I0922 12:29:31.090575537      15 socket_utils_common_posix.cc:408]     Disabling AF_INET6 sockets because ::1 is not available.\n",
      "I0922 12:29:31.107520172     396 socket_utils_common_posix.cc:337]     TCP_USER_TIMEOUT is available. TCP_USER_TIMEOUT will be used thereafter\n",
      "E0922 12:29:31.124812866     396 oauth2_credentials.cc:236]            oauth_fetch: UNKNOWN:C-ares status is not ARES_SUCCESS qtype=A name=metadata.google.internal. is_balancer=0: Domain name not found {created_time:\"2023-09-22T12:29:31.124793169+00:00\", grpc_status:2}\n"
     ]
    }
   ],
   "source": [
    "import pandas as pd\n",
    "import numpy as np\n",
    "import matplotlib.pyplot as plt\n",
    "import seaborn as sns\n",
    "import pandas as pd\n",
    "import numpy as np\n",
    "import xgboost as xgb\n",
    "from tqdm import tqdm\n",
    "from sklearn.svm import SVC\n",
    "from tensorflow.keras.models import Sequential\n",
    "from tensorflow.keras.layers import LSTM, GRU\n",
    "from tensorflow.keras.layers import Dense, Activation, Dropout\n",
    "from tensorflow.keras.layers import Embedding\n",
    "from tensorflow.keras.layers import BatchNormalization\n",
    "from sklearn import preprocessing, decomposition, model_selection, metrics, pipeline\n",
    "from sklearn.model_selection import GridSearchCV\n",
    "from sklearn.feature_extraction.text import TfidfVectorizer, CountVectorizer\n",
    "from sklearn.decomposition import TruncatedSVD\n",
    "from sklearn.linear_model import LogisticRegression\n",
    "from sklearn.model_selection import train_test_split\n",
    "from sklearn.naive_bayes import MultinomialNB\n",
    "from tensorflow.keras.layers import GlobalMaxPooling1D, Conv1D, MaxPooling1D, Flatten, Bidirectional, SpatialDropout1D\n",
    "from tensorflow.keras.preprocessing import sequence, text\n",
    "from tensorflow.keras.callbacks import EarlyStopping\n",
    "from nltk import word_tokenize\n",
    "from nltk.corpus import stopwords\n",
    "from sklearn.ensemble import RandomForestClassifier\n",
    "from sklearn.linear_model import SGDClassifier\n",
    "from tensorflow.keras.layers import LSTM, GRU,SimpleRNN, RNN\n",
    "from tensorflow.keras.layers import Dense, Embedding, LSTM, SpatialDropout1D\n",
    "import tensorflow as tf"
   ]
  },
  {
   "cell_type": "code",
   "execution_count": 6,
   "metadata": {
    "execution": {
     "iopub.execute_input": "2023-09-22T12:29:39.382289Z",
     "iopub.status.busy": "2023-09-22T12:29:39.381772Z",
     "iopub.status.idle": "2023-09-22T12:29:39.392307Z",
     "shell.execute_reply": "2023-09-22T12:29:39.391553Z",
     "shell.execute_reply.started": "2023-09-22T12:29:39.382253Z"
    }
   },
   "outputs": [],
   "source": [
    "import tensorflow as tf"
   ]
  },
  {
   "cell_type": "markdown",
   "metadata": {},
   "source": [
    "#### Initializing TPU"
   ]
  },
  {
   "cell_type": "code",
   "execution_count": 7,
   "metadata": {
    "execution": {
     "iopub.execute_input": "2023-09-22T12:29:39.393629Z",
     "iopub.status.busy": "2023-09-22T12:29:39.393291Z",
     "iopub.status.idle": "2023-09-22T12:29:47.300371Z",
     "shell.execute_reply": "2023-09-22T12:29:47.299473Z",
     "shell.execute_reply.started": "2023-09-22T12:29:39.393603Z"
    }
   },
   "outputs": [
    {
     "name": "stdout",
     "output_type": "stream",
     "text": [
      "Device: \n",
      "INFO:tensorflow:Deallocate tpu buffers before initializing tpu system.\n",
      "INFO:tensorflow:Initializing the TPU system: local\n",
      "INFO:tensorflow:Finished initializing TPU system.\n"
     ]
    },
    {
     "name": "stderr",
     "output_type": "stream",
     "text": [
      "WARNING:absl:`tf.distribute.experimental.TPUStrategy` is deprecated, please use  the non experimental symbol `tf.distribute.TPUStrategy` instead.\n"
     ]
    },
    {
     "name": "stdout",
     "output_type": "stream",
     "text": [
      "INFO:tensorflow:Found TPU system:\n"
     ]
    },
    {
     "name": "stderr",
     "output_type": "stream",
     "text": [
      "INFO:tensorflow:Found TPU system:\n"
     ]
    },
    {
     "name": "stdout",
     "output_type": "stream",
     "text": [
      "INFO:tensorflow:*** Num TPU Cores: 8\n"
     ]
    },
    {
     "name": "stderr",
     "output_type": "stream",
     "text": [
      "INFO:tensorflow:*** Num TPU Cores: 8\n"
     ]
    },
    {
     "name": "stdout",
     "output_type": "stream",
     "text": [
      "INFO:tensorflow:*** Num TPU Workers: 1\n"
     ]
    },
    {
     "name": "stderr",
     "output_type": "stream",
     "text": [
      "INFO:tensorflow:*** Num TPU Workers: 1\n"
     ]
    },
    {
     "name": "stdout",
     "output_type": "stream",
     "text": [
      "INFO:tensorflow:*** Num TPU Cores Per Worker: 8\n"
     ]
    },
    {
     "name": "stderr",
     "output_type": "stream",
     "text": [
      "INFO:tensorflow:*** Num TPU Cores Per Worker: 8\n"
     ]
    },
    {
     "name": "stdout",
     "output_type": "stream",
     "text": [
      "INFO:tensorflow:*** Available Device: _DeviceAttributes(/job:localhost/replica:0/task:0/device:CPU:0, CPU, 0, 0)\n"
     ]
    },
    {
     "name": "stderr",
     "output_type": "stream",
     "text": [
      "INFO:tensorflow:*** Available Device: _DeviceAttributes(/job:localhost/replica:0/task:0/device:CPU:0, CPU, 0, 0)\n"
     ]
    },
    {
     "name": "stdout",
     "output_type": "stream",
     "text": [
      "INFO:tensorflow:*** Available Device: _DeviceAttributes(/job:localhost/replica:0/task:0/device:TPU:0, TPU, 0, 0)\n"
     ]
    },
    {
     "name": "stderr",
     "output_type": "stream",
     "text": [
      "INFO:tensorflow:*** Available Device: _DeviceAttributes(/job:localhost/replica:0/task:0/device:TPU:0, TPU, 0, 0)\n"
     ]
    },
    {
     "name": "stdout",
     "output_type": "stream",
     "text": [
      "INFO:tensorflow:*** Available Device: _DeviceAttributes(/job:localhost/replica:0/task:0/device:TPU:1, TPU, 0, 0)\n"
     ]
    },
    {
     "name": "stderr",
     "output_type": "stream",
     "text": [
      "INFO:tensorflow:*** Available Device: _DeviceAttributes(/job:localhost/replica:0/task:0/device:TPU:1, TPU, 0, 0)\n"
     ]
    },
    {
     "name": "stdout",
     "output_type": "stream",
     "text": [
      "INFO:tensorflow:*** Available Device: _DeviceAttributes(/job:localhost/replica:0/task:0/device:TPU:2, TPU, 0, 0)\n"
     ]
    },
    {
     "name": "stderr",
     "output_type": "stream",
     "text": [
      "INFO:tensorflow:*** Available Device: _DeviceAttributes(/job:localhost/replica:0/task:0/device:TPU:2, TPU, 0, 0)\n"
     ]
    },
    {
     "name": "stdout",
     "output_type": "stream",
     "text": [
      "INFO:tensorflow:*** Available Device: _DeviceAttributes(/job:localhost/replica:0/task:0/device:TPU:3, TPU, 0, 0)\n"
     ]
    },
    {
     "name": "stderr",
     "output_type": "stream",
     "text": [
      "INFO:tensorflow:*** Available Device: _DeviceAttributes(/job:localhost/replica:0/task:0/device:TPU:3, TPU, 0, 0)\n"
     ]
    },
    {
     "name": "stdout",
     "output_type": "stream",
     "text": [
      "INFO:tensorflow:*** Available Device: _DeviceAttributes(/job:localhost/replica:0/task:0/device:TPU:4, TPU, 0, 0)\n"
     ]
    },
    {
     "name": "stderr",
     "output_type": "stream",
     "text": [
      "INFO:tensorflow:*** Available Device: _DeviceAttributes(/job:localhost/replica:0/task:0/device:TPU:4, TPU, 0, 0)\n"
     ]
    },
    {
     "name": "stdout",
     "output_type": "stream",
     "text": [
      "INFO:tensorflow:*** Available Device: _DeviceAttributes(/job:localhost/replica:0/task:0/device:TPU:5, TPU, 0, 0)\n"
     ]
    },
    {
     "name": "stderr",
     "output_type": "stream",
     "text": [
      "INFO:tensorflow:*** Available Device: _DeviceAttributes(/job:localhost/replica:0/task:0/device:TPU:5, TPU, 0, 0)\n"
     ]
    },
    {
     "name": "stdout",
     "output_type": "stream",
     "text": [
      "INFO:tensorflow:*** Available Device: _DeviceAttributes(/job:localhost/replica:0/task:0/device:TPU:6, TPU, 0, 0)\n"
     ]
    },
    {
     "name": "stderr",
     "output_type": "stream",
     "text": [
      "INFO:tensorflow:*** Available Device: _DeviceAttributes(/job:localhost/replica:0/task:0/device:TPU:6, TPU, 0, 0)\n"
     ]
    },
    {
     "name": "stdout",
     "output_type": "stream",
     "text": [
      "INFO:tensorflow:*** Available Device: _DeviceAttributes(/job:localhost/replica:0/task:0/device:TPU:7, TPU, 0, 0)\n"
     ]
    },
    {
     "name": "stderr",
     "output_type": "stream",
     "text": [
      "INFO:tensorflow:*** Available Device: _DeviceAttributes(/job:localhost/replica:0/task:0/device:TPU:7, TPU, 0, 0)\n"
     ]
    },
    {
     "name": "stdout",
     "output_type": "stream",
     "text": [
      "INFO:tensorflow:*** Available Device: _DeviceAttributes(/job:localhost/replica:0/task:0/device:TPU_SYSTEM:0, TPU_SYSTEM, 0, 0)\n"
     ]
    },
    {
     "name": "stderr",
     "output_type": "stream",
     "text": [
      "INFO:tensorflow:*** Available Device: _DeviceAttributes(/job:localhost/replica:0/task:0/device:TPU_SYSTEM:0, TPU_SYSTEM, 0, 0)\n"
     ]
    },
    {
     "name": "stdout",
     "output_type": "stream",
     "text": [
      "Number of replicas: 8\n"
     ]
    }
   ],
   "source": [
    "try:\n",
    "    tpu = tf.distribute.cluster_resolver.TPUClusterResolver()\n",
    "    print('Device:', tpu.master())\n",
    "    tf.config.experimental_connect_to_cluster(tpu)\n",
    "    tf.tpu.experimental.initialize_tpu_system(tpu)\n",
    "    strategy = tf.distribute.experimental.TPUStrategy(tpu)\n",
    "except:\n",
    "    strategy = tf.distribute.get_strategy()\n",
    "print('Number of replicas:', strategy.num_replicas_in_sync)"
   ]
  },
  {
   "cell_type": "markdown",
   "metadata": {},
   "source": [
    "### Exploratory Data Analysis and Feature Engineering"
   ]
  },
  {
   "cell_type": "markdown",
   "metadata": {},
   "source": [
    "#### Understanding the data"
   ]
  },
  {
   "cell_type": "code",
   "execution_count": 8,
   "metadata": {
    "execution": {
     "iopub.execute_input": "2023-09-22T12:36:49.587298Z",
     "iopub.status.busy": "2023-09-22T12:36:49.586357Z",
     "iopub.status.idle": "2023-09-22T12:37:19.706040Z",
     "shell.execute_reply": "2023-09-22T12:37:19.704985Z",
     "shell.execute_reply.started": "2023-09-22T12:36:49.587260Z"
    },
    "id": "5NdlibDiCRIY",
    "outputId": "9ca93ef4-08b1-4207-eac5-5597935fbbaf"
   },
   "outputs": [
    {
     "data": {
      "text/html": [
       "<div>\n",
       "<style scoped>\n",
       "    .dataframe tbody tr th:only-of-type {\n",
       "        vertical-align: middle;\n",
       "    }\n",
       "\n",
       "    .dataframe tbody tr th {\n",
       "        vertical-align: top;\n",
       "    }\n",
       "\n",
       "    .dataframe thead th {\n",
       "        text-align: right;\n",
       "    }\n",
       "</style>\n",
       "<table border=\"1\" class=\"dataframe\">\n",
       "  <thead>\n",
       "    <tr style=\"text-align: right;\">\n",
       "      <th></th>\n",
       "      <th>Date received</th>\n",
       "      <th>Product</th>\n",
       "      <th>Sub-product</th>\n",
       "      <th>Issue</th>\n",
       "      <th>Sub-issue</th>\n",
       "      <th>Consumer complaint narrative</th>\n",
       "      <th>Company public response</th>\n",
       "      <th>Company</th>\n",
       "      <th>State</th>\n",
       "      <th>ZIP code</th>\n",
       "      <th>Tags</th>\n",
       "      <th>Consumer consent provided?</th>\n",
       "      <th>Submitted via</th>\n",
       "      <th>Date sent to company</th>\n",
       "      <th>Company response to consumer</th>\n",
       "      <th>Timely response?</th>\n",
       "      <th>Consumer disputed?</th>\n",
       "      <th>Complaint ID</th>\n",
       "    </tr>\n",
       "  </thead>\n",
       "  <tbody>\n",
       "    <tr>\n",
       "      <th>0</th>\n",
       "      <td>2023-08-25</td>\n",
       "      <td>Credit reporting or other personal consumer re...</td>\n",
       "      <td>Credit reporting</td>\n",
       "      <td>Incorrect information on your report</td>\n",
       "      <td>Information belongs to someone else</td>\n",
       "      <td>NaN</td>\n",
       "      <td>NaN</td>\n",
       "      <td>EQUIFAX, INC.</td>\n",
       "      <td>FL</td>\n",
       "      <td>33009</td>\n",
       "      <td>NaN</td>\n",
       "      <td>NaN</td>\n",
       "      <td>Web</td>\n",
       "      <td>2023-08-25</td>\n",
       "      <td>Closed with explanation</td>\n",
       "      <td>Yes</td>\n",
       "      <td>NaN</td>\n",
       "      <td>7523056</td>\n",
       "    </tr>\n",
       "    <tr>\n",
       "      <th>1</th>\n",
       "      <td>2023-08-25</td>\n",
       "      <td>Credit reporting or other personal consumer re...</td>\n",
       "      <td>Credit reporting</td>\n",
       "      <td>Improper use of your report</td>\n",
       "      <td>Credit inquiries on your report that you don't...</td>\n",
       "      <td>NaN</td>\n",
       "      <td>NaN</td>\n",
       "      <td>EQUIFAX, INC.</td>\n",
       "      <td>MI</td>\n",
       "      <td>48234</td>\n",
       "      <td>NaN</td>\n",
       "      <td>NaN</td>\n",
       "      <td>Web</td>\n",
       "      <td>2023-08-25</td>\n",
       "      <td>Closed with explanation</td>\n",
       "      <td>Yes</td>\n",
       "      <td>NaN</td>\n",
       "      <td>7523057</td>\n",
       "    </tr>\n",
       "    <tr>\n",
       "      <th>2</th>\n",
       "      <td>2023-08-23</td>\n",
       "      <td>Credit reporting, credit repair services, or o...</td>\n",
       "      <td>Credit reporting</td>\n",
       "      <td>Problem with a credit reporting company's inve...</td>\n",
       "      <td>Their investigation did not fix an error on yo...</td>\n",
       "      <td>NaN</td>\n",
       "      <td>NaN</td>\n",
       "      <td>EQUIFAX, INC.</td>\n",
       "      <td>GA</td>\n",
       "      <td>30034</td>\n",
       "      <td>NaN</td>\n",
       "      <td>NaN</td>\n",
       "      <td>Web</td>\n",
       "      <td>2023-08-23</td>\n",
       "      <td>In progress</td>\n",
       "      <td>Yes</td>\n",
       "      <td>NaN</td>\n",
       "      <td>7446803</td>\n",
       "    </tr>\n",
       "    <tr>\n",
       "      <th>3</th>\n",
       "      <td>2023-08-23</td>\n",
       "      <td>Credit reporting, credit repair services, or o...</td>\n",
       "      <td>Credit reporting</td>\n",
       "      <td>Problem with a credit reporting company's inve...</td>\n",
       "      <td>Was not notified of investigation status or re...</td>\n",
       "      <td>NaN</td>\n",
       "      <td>NaN</td>\n",
       "      <td>EQUIFAX, INC.</td>\n",
       "      <td>CO</td>\n",
       "      <td>80249</td>\n",
       "      <td>NaN</td>\n",
       "      <td>NaN</td>\n",
       "      <td>Web</td>\n",
       "      <td>2023-08-23</td>\n",
       "      <td>In progress</td>\n",
       "      <td>Yes</td>\n",
       "      <td>NaN</td>\n",
       "      <td>7446804</td>\n",
       "    </tr>\n",
       "    <tr>\n",
       "      <th>4</th>\n",
       "      <td>2023-08-23</td>\n",
       "      <td>Credit reporting, credit repair services, or o...</td>\n",
       "      <td>Credit reporting</td>\n",
       "      <td>Problem with a credit reporting company's inve...</td>\n",
       "      <td>Their investigation did not fix an error on yo...</td>\n",
       "      <td>NaN</td>\n",
       "      <td>NaN</td>\n",
       "      <td>TRANSUNION INTERMEDIATE HOLDINGS, INC.</td>\n",
       "      <td>NY</td>\n",
       "      <td>XXXXX</td>\n",
       "      <td>NaN</td>\n",
       "      <td>NaN</td>\n",
       "      <td>Web</td>\n",
       "      <td>2023-08-23</td>\n",
       "      <td>In progress</td>\n",
       "      <td>Yes</td>\n",
       "      <td>NaN</td>\n",
       "      <td>7442566</td>\n",
       "    </tr>\n",
       "    <tr>\n",
       "      <th>5</th>\n",
       "      <td>2023-08-23</td>\n",
       "      <td>Credit reporting, credit repair services, or o...</td>\n",
       "      <td>Credit reporting</td>\n",
       "      <td>Improper use of your report</td>\n",
       "      <td>Credit inquiries on your report that you don't...</td>\n",
       "      <td>NaN</td>\n",
       "      <td>NaN</td>\n",
       "      <td>EQUIFAX, INC.</td>\n",
       "      <td>CA</td>\n",
       "      <td>95648</td>\n",
       "      <td>NaN</td>\n",
       "      <td>Other</td>\n",
       "      <td>Web</td>\n",
       "      <td>2023-08-23</td>\n",
       "      <td>In progress</td>\n",
       "      <td>Yes</td>\n",
       "      <td>NaN</td>\n",
       "      <td>7446815</td>\n",
       "    </tr>\n",
       "    <tr>\n",
       "      <th>6</th>\n",
       "      <td>2023-08-23</td>\n",
       "      <td>Credit reporting, credit repair services, or o...</td>\n",
       "      <td>Credit reporting</td>\n",
       "      <td>Problem with a credit reporting company's inve...</td>\n",
       "      <td>Their investigation did not fix an error on yo...</td>\n",
       "      <td>NaN</td>\n",
       "      <td>NaN</td>\n",
       "      <td>EQUIFAX, INC.</td>\n",
       "      <td>NY</td>\n",
       "      <td>XXXXX</td>\n",
       "      <td>NaN</td>\n",
       "      <td>NaN</td>\n",
       "      <td>Web</td>\n",
       "      <td>2023-08-23</td>\n",
       "      <td>In progress</td>\n",
       "      <td>Yes</td>\n",
       "      <td>NaN</td>\n",
       "      <td>7446610</td>\n",
       "    </tr>\n",
       "    <tr>\n",
       "      <th>7</th>\n",
       "      <td>2023-08-23</td>\n",
       "      <td>Credit reporting, credit repair services, or o...</td>\n",
       "      <td>Credit reporting</td>\n",
       "      <td>Improper use of your report</td>\n",
       "      <td>Reporting company used your report improperly</td>\n",
       "      <td>NaN</td>\n",
       "      <td>NaN</td>\n",
       "      <td>Experian Information Solutions Inc.</td>\n",
       "      <td>OR</td>\n",
       "      <td>97209</td>\n",
       "      <td>NaN</td>\n",
       "      <td>NaN</td>\n",
       "      <td>Web</td>\n",
       "      <td>2023-08-23</td>\n",
       "      <td>In progress</td>\n",
       "      <td>Yes</td>\n",
       "      <td>NaN</td>\n",
       "      <td>7442804</td>\n",
       "    </tr>\n",
       "    <tr>\n",
       "      <th>8</th>\n",
       "      <td>2023-08-23</td>\n",
       "      <td>Credit reporting, credit repair services, or o...</td>\n",
       "      <td>Credit reporting</td>\n",
       "      <td>Incorrect information on your report</td>\n",
       "      <td>Information belongs to someone else</td>\n",
       "      <td>NaN</td>\n",
       "      <td>NaN</td>\n",
       "      <td>Experian Information Solutions Inc.</td>\n",
       "      <td>NY</td>\n",
       "      <td>11550</td>\n",
       "      <td>NaN</td>\n",
       "      <td>NaN</td>\n",
       "      <td>Web</td>\n",
       "      <td>2023-08-23</td>\n",
       "      <td>In progress</td>\n",
       "      <td>Yes</td>\n",
       "      <td>NaN</td>\n",
       "      <td>7442745</td>\n",
       "    </tr>\n",
       "    <tr>\n",
       "      <th>9</th>\n",
       "      <td>2023-08-23</td>\n",
       "      <td>Credit reporting, credit repair services, or o...</td>\n",
       "      <td>Credit reporting</td>\n",
       "      <td>Incorrect information on your report</td>\n",
       "      <td>Information belongs to someone else</td>\n",
       "      <td>NaN</td>\n",
       "      <td>NaN</td>\n",
       "      <td>Experian Information Solutions Inc.</td>\n",
       "      <td>GA</td>\n",
       "      <td>30228</td>\n",
       "      <td>NaN</td>\n",
       "      <td>NaN</td>\n",
       "      <td>Web</td>\n",
       "      <td>2023-08-23</td>\n",
       "      <td>In progress</td>\n",
       "      <td>Yes</td>\n",
       "      <td>NaN</td>\n",
       "      <td>7442823</td>\n",
       "    </tr>\n",
       "  </tbody>\n",
       "</table>\n",
       "</div>"
      ],
      "text/plain": [
       "  Date received                                            Product  \\\n",
       "0    2023-08-25  Credit reporting or other personal consumer re...   \n",
       "1    2023-08-25  Credit reporting or other personal consumer re...   \n",
       "2    2023-08-23  Credit reporting, credit repair services, or o...   \n",
       "3    2023-08-23  Credit reporting, credit repair services, or o...   \n",
       "4    2023-08-23  Credit reporting, credit repair services, or o...   \n",
       "5    2023-08-23  Credit reporting, credit repair services, or o...   \n",
       "6    2023-08-23  Credit reporting, credit repair services, or o...   \n",
       "7    2023-08-23  Credit reporting, credit repair services, or o...   \n",
       "8    2023-08-23  Credit reporting, credit repair services, or o...   \n",
       "9    2023-08-23  Credit reporting, credit repair services, or o...   \n",
       "\n",
       "        Sub-product                                              Issue  \\\n",
       "0  Credit reporting               Incorrect information on your report   \n",
       "1  Credit reporting                        Improper use of your report   \n",
       "2  Credit reporting  Problem with a credit reporting company's inve...   \n",
       "3  Credit reporting  Problem with a credit reporting company's inve...   \n",
       "4  Credit reporting  Problem with a credit reporting company's inve...   \n",
       "5  Credit reporting                        Improper use of your report   \n",
       "6  Credit reporting  Problem with a credit reporting company's inve...   \n",
       "7  Credit reporting                        Improper use of your report   \n",
       "8  Credit reporting               Incorrect information on your report   \n",
       "9  Credit reporting               Incorrect information on your report   \n",
       "\n",
       "                                           Sub-issue  \\\n",
       "0                Information belongs to someone else   \n",
       "1  Credit inquiries on your report that you don't...   \n",
       "2  Their investigation did not fix an error on yo...   \n",
       "3  Was not notified of investigation status or re...   \n",
       "4  Their investigation did not fix an error on yo...   \n",
       "5  Credit inquiries on your report that you don't...   \n",
       "6  Their investigation did not fix an error on yo...   \n",
       "7      Reporting company used your report improperly   \n",
       "8                Information belongs to someone else   \n",
       "9                Information belongs to someone else   \n",
       "\n",
       "  Consumer complaint narrative Company public response  \\\n",
       "0                          NaN                     NaN   \n",
       "1                          NaN                     NaN   \n",
       "2                          NaN                     NaN   \n",
       "3                          NaN                     NaN   \n",
       "4                          NaN                     NaN   \n",
       "5                          NaN                     NaN   \n",
       "6                          NaN                     NaN   \n",
       "7                          NaN                     NaN   \n",
       "8                          NaN                     NaN   \n",
       "9                          NaN                     NaN   \n",
       "\n",
       "                                  Company State ZIP code Tags  \\\n",
       "0                           EQUIFAX, INC.    FL    33009  NaN   \n",
       "1                           EQUIFAX, INC.    MI    48234  NaN   \n",
       "2                           EQUIFAX, INC.    GA    30034  NaN   \n",
       "3                           EQUIFAX, INC.    CO    80249  NaN   \n",
       "4  TRANSUNION INTERMEDIATE HOLDINGS, INC.    NY    XXXXX  NaN   \n",
       "5                           EQUIFAX, INC.    CA    95648  NaN   \n",
       "6                           EQUIFAX, INC.    NY    XXXXX  NaN   \n",
       "7     Experian Information Solutions Inc.    OR    97209  NaN   \n",
       "8     Experian Information Solutions Inc.    NY    11550  NaN   \n",
       "9     Experian Information Solutions Inc.    GA    30228  NaN   \n",
       "\n",
       "  Consumer consent provided? Submitted via Date sent to company  \\\n",
       "0                        NaN           Web           2023-08-25   \n",
       "1                        NaN           Web           2023-08-25   \n",
       "2                        NaN           Web           2023-08-23   \n",
       "3                        NaN           Web           2023-08-23   \n",
       "4                        NaN           Web           2023-08-23   \n",
       "5                      Other           Web           2023-08-23   \n",
       "6                        NaN           Web           2023-08-23   \n",
       "7                        NaN           Web           2023-08-23   \n",
       "8                        NaN           Web           2023-08-23   \n",
       "9                        NaN           Web           2023-08-23   \n",
       "\n",
       "  Company response to consumer Timely response? Consumer disputed?  \\\n",
       "0      Closed with explanation              Yes                NaN   \n",
       "1      Closed with explanation              Yes                NaN   \n",
       "2                  In progress              Yes                NaN   \n",
       "3                  In progress              Yes                NaN   \n",
       "4                  In progress              Yes                NaN   \n",
       "5                  In progress              Yes                NaN   \n",
       "6                  In progress              Yes                NaN   \n",
       "7                  In progress              Yes                NaN   \n",
       "8                  In progress              Yes                NaN   \n",
       "9                  In progress              Yes                NaN   \n",
       "\n",
       "   Complaint ID  \n",
       "0       7523056  \n",
       "1       7523057  \n",
       "2       7446803  \n",
       "3       7446804  \n",
       "4       7442566  \n",
       "5       7446815  \n",
       "6       7446610  \n",
       "7       7442804  \n",
       "8       7442745  \n",
       "9       7442823  "
      ]
     },
     "execution_count": 8,
     "metadata": {},
     "output_type": "execute_result"
    }
   ],
   "source": [
    "# Top 10 rows\n",
    "df = pd.read_csv(\"complaints.csv\")\n",
    "df.head(10)"
   ]
  },
  {
   "cell_type": "code",
   "execution_count": 9,
   "metadata": {
    "execution": {
     "iopub.execute_input": "2023-09-22T12:43:28.055553Z",
     "iopub.status.busy": "2023-09-22T12:43:28.054727Z",
     "iopub.status.idle": "2023-09-22T12:43:28.062144Z",
     "shell.execute_reply": "2023-09-22T12:43:28.061078Z",
     "shell.execute_reply.started": "2023-09-22T12:43:28.055506Z"
    },
    "id": "qcnmh724Cb0v",
    "outputId": "8123e2f4-c9b4-4f1d-fe3d-e69038bd9a57"
   },
   "outputs": [
    {
     "data": {
      "text/plain": [
       "(4051252, 18)"
      ]
     },
     "execution_count": 9,
     "metadata": {},
     "output_type": "execute_result"
    }
   ],
   "source": [
    "# Shape of dataset\n",
    "df.shape"
   ]
  },
  {
   "cell_type": "code",
   "execution_count": 10,
   "metadata": {
    "execution": {
     "iopub.execute_input": "2023-09-22T12:43:28.489901Z",
     "iopub.status.busy": "2023-09-22T12:43:28.489486Z",
     "iopub.status.idle": "2023-09-22T12:43:28.504162Z",
     "shell.execute_reply": "2023-09-22T12:43:28.503134Z",
     "shell.execute_reply.started": "2023-09-22T12:43:28.489868Z"
    },
    "id": "-TV1RHzODklA",
    "outputId": "a071716e-741f-4a3c-8827-ba5526301e0d"
   },
   "outputs": [
    {
     "name": "stdout",
     "output_type": "stream",
     "text": [
      "<class 'pandas.core.frame.DataFrame'>\n",
      "RangeIndex: 4051252 entries, 0 to 4051251\n",
      "Data columns (total 18 columns):\n",
      " #   Column                        Dtype \n",
      "---  ------                        ----- \n",
      " 0   Date received                 object\n",
      " 1   Product                       object\n",
      " 2   Sub-product                   object\n",
      " 3   Issue                         object\n",
      " 4   Sub-issue                     object\n",
      " 5   Consumer complaint narrative  object\n",
      " 6   Company public response       object\n",
      " 7   Company                       object\n",
      " 8   State                         object\n",
      " 9   ZIP code                      object\n",
      " 10  Tags                          object\n",
      " 11  Consumer consent provided?    object\n",
      " 12  Submitted via                 object\n",
      " 13  Date sent to company          object\n",
      " 14  Company response to consumer  object\n",
      " 15  Timely response?              object\n",
      " 16  Consumer disputed?            object\n",
      " 17  Complaint ID                  int64 \n",
      "dtypes: int64(1), object(17)\n",
      "memory usage: 556.4+ MB\n"
     ]
    }
   ],
   "source": [
    "# Dataset information\n",
    "df.info()"
   ]
  },
  {
   "cell_type": "markdown",
   "metadata": {},
   "source": [
    "#### Checking Missing values in the data"
   ]
  },
  {
   "cell_type": "code",
   "execution_count": 11,
   "metadata": {
    "execution": {
     "iopub.execute_input": "2023-09-22T12:43:29.124460Z",
     "iopub.status.busy": "2023-09-22T12:43:29.123829Z",
     "iopub.status.idle": "2023-09-22T12:43:31.861283Z",
     "shell.execute_reply": "2023-09-22T12:43:31.860296Z",
     "shell.execute_reply.started": "2023-09-22T12:43:29.124416Z"
    },
    "id": "7ITlEEGdD8Mk",
    "outputId": "89f7cdb4-b9f9-4ce6-947e-54e448a5742a"
   },
   "outputs": [
    {
     "data": {
      "text/plain": [
       "Date received                   False\n",
       "Product                         False\n",
       "Sub-product                      True\n",
       "Issue                           False\n",
       "Sub-issue                        True\n",
       "Consumer complaint narrative     True\n",
       "Company public response          True\n",
       "Company                         False\n",
       "State                            True\n",
       "ZIP code                         True\n",
       "Tags                             True\n",
       "Consumer consent provided?       True\n",
       "Submitted via                   False\n",
       "Date sent to company            False\n",
       "Company response to consumer     True\n",
       "Timely response?                False\n",
       "Consumer disputed?               True\n",
       "Complaint ID                    False\n",
       "dtype: bool"
      ]
     },
     "execution_count": 11,
     "metadata": {},
     "output_type": "execute_result"
    }
   ],
   "source": [
    "# Checking Missing values in the data\n",
    "df.isnull().any()"
   ]
  },
  {
   "cell_type": "code",
   "execution_count": 12,
   "metadata": {
    "execution": {
     "iopub.execute_input": "2023-09-22T12:43:31.863164Z",
     "iopub.status.busy": "2023-09-22T12:43:31.862850Z",
     "iopub.status.idle": "2023-09-22T12:43:34.725097Z",
     "shell.execute_reply": "2023-09-22T12:43:34.723970Z",
     "shell.execute_reply.started": "2023-09-22T12:43:31.863138Z"
    },
    "id": "ehhZSy6MIhih",
    "outputId": "f1c3ec28-dd51-488c-e39e-143f90112c9d"
   },
   "outputs": [
    {
     "data": {
      "text/plain": [
       "Date received                         0\n",
       "Product                               0\n",
       "Sub-product                      235291\n",
       "Issue                                 0\n",
       "Sub-issue                        715933\n",
       "Consumer complaint narrative    2584946\n",
       "Company public response         2180903\n",
       "Company                               0\n",
       "State                             43182\n",
       "ZIP code                          30209\n",
       "Tags                            3626984\n",
       "Consumer consent provided?       903030\n",
       "Submitted via                         0\n",
       "Date sent to company                  0\n",
       "Company response to consumer          5\n",
       "Timely response?                      0\n",
       "Consumer disputed?              3282894\n",
       "Complaint ID                          0\n",
       "dtype: int64"
      ]
     },
     "execution_count": 12,
     "metadata": {},
     "output_type": "execute_result"
    }
   ],
   "source": [
    "# Number of missing values in each column\n",
    "df.isnull().sum()"
   ]
  },
  {
   "cell_type": "code",
   "execution_count": 13,
   "metadata": {
    "execution": {
     "iopub.execute_input": "2023-09-22T12:43:34.726607Z",
     "iopub.status.busy": "2023-09-22T12:43:34.726277Z",
     "iopub.status.idle": "2023-09-22T12:43:34.732364Z",
     "shell.execute_reply": "2023-09-22T12:43:34.731370Z",
     "shell.execute_reply.started": "2023-09-22T12:43:34.726576Z"
    },
    "id": "wq47HaOrEYf1",
    "outputId": "dd9872eb-dc76-4a12-a4c4-32f981b5733b"
   },
   "outputs": [
    {
     "name": "stdout",
     "output_type": "stream",
     "text": [
      "['Sub-product', 'Sub-issue', 'Consumer complaint narrative', 'Company public response', 'State', 'ZIP code', 'Tags', 'Consumer consent provided?', 'Company response to consumer', 'Consumer disputed?']\n"
     ]
    }
   ],
   "source": [
    "# Columns with missing values\n",
    "missing_cols = ['Sub-product','Sub-issue','Consumer complaint narrative','Company public response','State','ZIP code','Tags','Consumer consent provided?',\n",
    "                   'Company response to consumer','Consumer disputed?']\n",
    "print(missing_cols)"
   ]
  },
  {
   "cell_type": "code",
   "execution_count": 14,
   "metadata": {
    "execution": {
     "iopub.execute_input": "2023-09-22T12:43:34.734967Z",
     "iopub.status.busy": "2023-09-22T12:43:34.734584Z",
     "iopub.status.idle": "2023-09-22T12:43:39.642717Z",
     "shell.execute_reply": "2023-09-22T12:43:39.641759Z",
     "shell.execute_reply.started": "2023-09-22T12:43:34.734937Z"
    },
    "id": "TqEqYgryDlzH",
    "outputId": "81e98332-3461-424f-8cb3-ff28cee178b9"
   },
   "outputs": [
    {
     "data": {
      "image/png": "[encoded data removed]",
      "text/plain": [
       "<Figure size 640x480 with 1 Axes>"
      ]
     },
     "metadata": {},
     "output_type": "display_data"
    }
   ],
   "source": [
    "# Bar plot of missing value columns\n",
    "sns.barplot(x=df[missing_cols].isnull().sum().index, y=df[missing_cols].isnull().sum().values)\n",
    "plt.xticks(rotation=90)\n",
    "plt.title('Missing Values in columns')\n",
    "plt.show()"
   ]
  },
  {
   "cell_type": "markdown",
   "metadata": {},
   "source": [
    "There are so many product categories, but there are many duplicates\n",
    "\n",
    "We will group similar categories and categorize them into 4 main categories:\n",
    "- Credit reporting, repair, or other\n",
    "- Debt collection\n",
    "- Consumer Loan\n",
    "- Mortgage\n",
    "\n",
    "**Product** column is our target variable."
   ]
  },
  {
   "cell_type": "code",
   "execution_count": 15,
   "metadata": {
    "execution": {
     "iopub.execute_input": "2023-09-22T12:43:39.644036Z",
     "iopub.status.busy": "2023-09-22T12:43:39.643762Z",
     "iopub.status.idle": "2023-09-22T12:43:39.941243Z",
     "shell.execute_reply": "2023-09-22T12:43:39.940148Z",
     "shell.execute_reply.started": "2023-09-22T12:43:39.644010Z"
    },
    "id": "UZoIn96wFwpo",
    "outputId": "7fcfd287-0f9e-4d0f-ba85-80ed92eb2837"
   },
   "outputs": [
    {
     "data": {
      "text/plain": [
       "Product\n",
       "Credit reporting, credit repair services, or other personal consumer reports    2167566\n",
       "Debt collection                                                                  504522\n",
       "Mortgage                                                                         383525\n",
       "Credit card or prepaid card                                                      206191\n",
       "Checking or savings account                                                      181224\n",
       "Credit reporting                                                                 140429\n",
       "Credit card                                                                       90195\n",
       "Bank account or service                                                           86205\n",
       "Student loan                                                                      76337\n",
       "Money transfer, virtual currency, or money service                                58354\n",
       "Vehicle loan or lease                                                             47298\n",
       "Consumer Loan                                                                     31575\n",
       "Credit reporting or other personal consumer reports                               31298\n",
       "Payday loan, title loan, or personal loan                                         30597\n",
       "Payday loan                                                                        5541\n",
       "Money transfers                                                                    5354\n",
       "Prepaid card                                                                       3858\n",
       "Other financial service                                                            1058\n",
       "Payday loan, title loan, personal loan, or advance loan                              78\n",
       "Debt or credit management                                                            29\n",
       "Virtual currency                                                                     18\n",
       "Name: count, dtype: int64"
      ]
     },
     "execution_count": 15,
     "metadata": {},
     "output_type": "execute_result"
    }
   ],
   "source": [
    "df['Product'].value_counts()"
   ]
  },
  {
   "cell_type": "code",
   "execution_count": 16,
   "metadata": {
    "execution": {
     "iopub.execute_input": "2023-09-22T12:43:39.942676Z",
     "iopub.status.busy": "2023-09-22T12:43:39.942376Z",
     "iopub.status.idle": "2023-09-22T12:43:41.874252Z",
     "shell.execute_reply": "2023-09-22T12:43:41.873140Z",
     "shell.execute_reply.started": "2023-09-22T12:43:39.942650Z"
    },
    "id": "JY4m1f-BLJvX"
   },
   "outputs": [],
   "source": [
    "# \"Credit reporting, repair, or other\"\n",
    "df['Product'].replace(['Credit reporting, credit repair services, or other personal consumer reports','Credit card or prepaid card',\n",
    "                       'Credit card or prepaid card','Checking or savings account','Credit reporting','Credit card',\n",
    "                       'Bank account or service','Money transfer, virtual currency, or money service','Credit reporting or other personal consumer reports',\n",
    "                       'Money transfers','Prepaid card','Other financial service','Virtual currency'],'Credit reporting, repair, or other',inplace=True)\n"
   ]
  },
  {
   "cell_type": "code",
   "execution_count": 17,
   "metadata": {
    "execution": {
     "iopub.execute_input": "2023-09-22T12:43:41.875922Z",
     "iopub.status.busy": "2023-09-22T12:43:41.875594Z",
     "iopub.status.idle": "2023-09-22T12:43:42.386782Z",
     "shell.execute_reply": "2023-09-22T12:43:42.385656Z",
     "shell.execute_reply.started": "2023-09-22T12:43:41.875892Z"
    },
    "id": "3ac9gjJ1QNvV"
   },
   "outputs": [],
   "source": [
    "# \"Debt collection\"\n",
    "df['Product'].replace(['Debt collection','Debt or credit management'],'Debt collection',inplace=True)"
   ]
  },
  {
   "cell_type": "code",
   "execution_count": 18,
   "metadata": {
    "execution": {
     "iopub.execute_input": "2023-09-22T12:43:42.388333Z",
     "iopub.status.busy": "2023-09-22T12:43:42.388007Z",
     "iopub.status.idle": "2023-09-22T12:43:43.235772Z",
     "shell.execute_reply": "2023-09-22T12:43:43.234722Z",
     "shell.execute_reply.started": "2023-09-22T12:43:42.388303Z"
    },
    "id": "ASKjeizlQji2"
   },
   "outputs": [],
   "source": [
    "# \"Consumer loan\"\n",
    "df['Product'].replace(['Student loan','Vehicle loan or lease','Consumer Loan','Payday loan, title loan, or personal loan','Payday loan',\n",
    "                       'Payday loan, title loan, personal loan, or advance loan'],'Consumer Loan',inplace=True)"
   ]
  },
  {
   "cell_type": "markdown",
   "metadata": {},
   "source": [
    "We have categorized all the products into 4 main categories"
   ]
  },
  {
   "cell_type": "code",
   "execution_count": 19,
   "metadata": {
    "execution": {
     "iopub.execute_input": "2023-09-22T12:43:43.237259Z",
     "iopub.status.busy": "2023-09-22T12:43:43.236947Z",
     "iopub.status.idle": "2023-09-22T12:43:43.435762Z",
     "shell.execute_reply": "2023-09-22T12:43:43.434624Z",
     "shell.execute_reply.started": "2023-09-22T12:43:43.237230Z"
    },
    "id": "RDwHdAvMQ-QS",
    "outputId": "d02ce7a0-85eb-4d3d-91ee-0d8d77018d8e"
   },
   "outputs": [
    {
     "data": {
      "text/plain": [
       "Product\n",
       "Credit reporting, repair, or other    2971750\n",
       "Debt collection                        504551\n",
       "Mortgage                               383525\n",
       "Consumer Loan                          191426\n",
       "Name: count, dtype: int64"
      ]
     },
     "execution_count": 19,
     "metadata": {},
     "output_type": "execute_result"
    }
   ],
   "source": [
    "df['Product'].value_counts()"
   ]
  },
  {
   "cell_type": "markdown",
   "metadata": {},
   "source": [
    "#### Product Types vs Number of Complaints"
   ]
  },
  {
   "cell_type": "code",
   "execution_count": 20,
   "metadata": {
    "execution": {
     "iopub.execute_input": "2023-09-22T12:43:43.439890Z",
     "iopub.status.busy": "2023-09-22T12:43:43.439525Z",
     "iopub.status.idle": "2023-09-22T12:43:46.166399Z",
     "shell.execute_reply": "2023-09-22T12:43:46.165391Z",
     "shell.execute_reply.started": "2023-09-22T12:43:43.439860Z"
    },
    "id": "KehXNyn4HuhH",
    "outputId": "d09d44e7-4d6d-4763-e84a-ef04825810f6"
   },
   "outputs": [
    {
     "data": {
      "image/png": "[encoded data removed]",
      "text/plain": [
       "<Figure size 640x480 with 1 Axes>"
      ]
     },
     "metadata": {},
     "output_type": "display_data"
    }
   ],
   "source": [
    "sns.countplot(x='Product',data=df)\n",
    "plt.xticks(rotation=90)\n",
    "plt.title('Product Types vs Number of Complaints')\n",
    "plt.ylabel('Number of complaints')\n",
    "plt.show()"
   ]
  },
  {
   "cell_type": "markdown",
   "metadata": {},
   "source": [
    "#### Distribution of Company Response to consumer"
   ]
  },
  {
   "cell_type": "code",
   "execution_count": 21,
   "metadata": {
    "execution": {
     "iopub.execute_input": "2023-09-22T12:43:46.167877Z",
     "iopub.status.busy": "2023-09-22T12:43:46.167576Z",
     "iopub.status.idle": "2023-09-22T12:43:48.813018Z",
     "shell.execute_reply": "2023-09-22T12:43:48.811843Z",
     "shell.execute_reply.started": "2023-09-22T12:43:46.167849Z"
    },
    "id": "AsqP9VJ3TYzX",
    "outputId": "b5284bf5-1123-4616-a9a4-ab9498619f13"
   },
   "outputs": [
    {
     "data": {
      "image/png": "[encoded data removed]",
      "text/plain": [
       "<Figure size 640x480 with 1 Axes>"
      ]
     },
     "metadata": {},
     "output_type": "display_data"
    }
   ],
   "source": [
    "sns.countplot(data=df,x='Company response to consumer')\n",
    "plt.xticks(rotation=90)\n",
    "plt.title('Distribution of Company response to customer')\n",
    "plt.show()"
   ]
  },
  {
   "cell_type": "markdown",
   "metadata": {},
   "source": [
    "#### Consumer Disputed"
   ]
  },
  {
   "cell_type": "code",
   "execution_count": 22,
   "metadata": {
    "execution": {
     "iopub.execute_input": "2023-09-22T12:43:48.814456Z",
     "iopub.status.busy": "2023-09-22T12:43:48.814161Z",
     "iopub.status.idle": "2023-09-22T12:43:48.971682Z",
     "shell.execute_reply": "2023-09-22T12:43:48.970676Z",
     "shell.execute_reply.started": "2023-09-22T12:43:48.814429Z"
    },
    "id": "zA7c98WE9XQ4",
    "outputId": "044d88b4-6aa8-44dc-f460-10322451b057"
   },
   "outputs": [
    {
     "data": {
      "text/plain": [
       "Consumer disputed?\n",
       "No     619980\n",
       "Yes    148378\n",
       "Name: count, dtype: int64"
      ]
     },
     "execution_count": 22,
     "metadata": {},
     "output_type": "execute_result"
    }
   ],
   "source": [
    "disputed_cnt = df['Consumer disputed?'].value_counts()\n",
    "disputed_cnt"
   ]
  },
  {
   "cell_type": "code",
   "execution_count": 23,
   "metadata": {
    "execution": {
     "iopub.execute_input": "2023-09-22T12:43:48.973157Z",
     "iopub.status.busy": "2023-09-22T12:43:48.972859Z",
     "iopub.status.idle": "2023-09-22T12:43:50.844863Z",
     "shell.execute_reply": "2023-09-22T12:43:50.843901Z",
     "shell.execute_reply.started": "2023-09-22T12:43:48.973129Z"
    },
    "id": "Mnepw_q1-jGB",
    "outputId": "0e55d2ac-8af1-4b29-8915-bc5db366198d"
   },
   "outputs": [
    {
     "data": {
      "image/png": "[encoded data removed]",
      "text/plain": [
       "<Figure size 640x480 with 1 Axes>"
      ]
     },
     "metadata": {},
     "output_type": "display_data"
    }
   ],
   "source": [
    "sns.countplot(data=df,x='Consumer disputed?')\n",
    "plt.xticks(rotation=90)\n",
    "plt.title('Did the consumer disputed?')\n",
    "plt.show()"
   ]
  },
  {
   "cell_type": "code",
   "execution_count": 24,
   "metadata": {
    "execution": {
     "iopub.execute_input": "2023-09-22T12:43:50.846452Z",
     "iopub.status.busy": "2023-09-22T12:43:50.846029Z",
     "iopub.status.idle": "2023-09-22T12:43:51.263717Z",
     "shell.execute_reply": "2023-09-22T12:43:51.262614Z",
     "shell.execute_reply.started": "2023-09-22T12:43:50.846423Z"
    },
    "id": "Zircoiab-uwF"
   },
   "outputs": [],
   "source": [
    "# Top 5 Disputed and Non-disputed companies\n",
    "top5_disputed = df['Company'].loc[df['Consumer disputed?'] == 'Yes'].value_counts()[:5]\n",
    "top5_nodisputed = df['Company'].loc[df['Consumer disputed?'] == 'No'].value_counts()[:5]"
   ]
  },
  {
   "cell_type": "code",
   "execution_count": 25,
   "metadata": {
    "execution": {
     "iopub.execute_input": "2023-09-22T12:43:51.265328Z",
     "iopub.status.busy": "2023-09-22T12:43:51.264939Z",
     "iopub.status.idle": "2023-09-22T12:43:51.270209Z",
     "shell.execute_reply": "2023-09-22T12:43:51.269390Z",
     "shell.execute_reply.started": "2023-09-22T12:43:51.265298Z"
    },
    "id": "SOy8eu72-9AR",
    "outputId": "1149af4a-ff6a-4560-e404-04fd8225638f"
   },
   "outputs": [
    {
     "name": "stdout",
     "output_type": "stream",
     "text": [
      "Top 5 Disputed Companies:\n",
      "Company\n",
      "BANK OF AMERICA, NATIONAL ASSOCIATION    14387\n",
      "WELLS FARGO & COMPANY                    11717\n",
      "EQUIFAX, INC.                            10079\n",
      "JPMORGAN CHASE & CO.                      9523\n",
      "CITIBANK, N.A.                            6697\n",
      "Name: count, dtype: int64\n"
     ]
    }
   ],
   "source": [
    "print('Top 5 Disputed Companies:')\n",
    "print(top5_disputed)"
   ]
  },
  {
   "cell_type": "markdown",
   "metadata": {},
   "source": [
    "#### Top 5 Companies Disputed"
   ]
  },
  {
   "cell_type": "code",
   "execution_count": 26,
   "metadata": {
    "execution": {
     "iopub.execute_input": "2023-09-22T12:43:51.271718Z",
     "iopub.status.busy": "2023-09-22T12:43:51.271405Z",
     "iopub.status.idle": "2023-09-22T12:43:51.513676Z",
     "shell.execute_reply": "2023-09-22T12:43:51.512736Z",
     "shell.execute_reply.started": "2023-09-22T12:43:51.271689Z"
    },
    "id": "Zk5h1U_k_RMx",
    "outputId": "c6f2b0f3-529a-4077-942b-eba529910169"
   },
   "outputs": [
    {
     "data": {
      "image/png": "[encoded data removed]",
      "text/plain": [
       "<Figure size 640x480 with 1 Axes>"
      ]
     },
     "metadata": {},
     "output_type": "display_data"
    }
   ],
   "source": [
    "sns.barplot(x=top5_disputed.index,y=top5_disputed)\n",
    "plt.xticks(rotation=90)\n",
    "plt.title('Top 5 Disputes')\n",
    "plt.show()"
   ]
  },
  {
   "cell_type": "code",
   "execution_count": 27,
   "metadata": {
    "execution": {
     "iopub.execute_input": "2023-09-22T12:43:51.515058Z",
     "iopub.status.busy": "2023-09-22T12:43:51.514723Z",
     "iopub.status.idle": "2023-09-22T12:43:51.520173Z",
     "shell.execute_reply": "2023-09-22T12:43:51.519372Z",
     "shell.execute_reply.started": "2023-09-22T12:43:51.515028Z"
    },
    "id": "WLItaRbP-_eR",
    "outputId": "0f32d9a8-1ec4-44a8-8622-3038d67ae68b"
   },
   "outputs": [
    {
     "name": "stdout",
     "output_type": "stream",
     "text": [
      "Top 5 Non-Disputed Companies:\n",
      "Company\n",
      "BANK OF AMERICA, NATIONAL ASSOCIATION     51605\n",
      "WELLS FARGO & COMPANY                     41976\n",
      "Experian Information Solutions Inc.       40292\n",
      "EQUIFAX, INC.                             38311\n",
      "TRANSUNION INTERMEDIATE HOLDINGS, INC.    34368\n",
      "Name: count, dtype: int64\n"
     ]
    }
   ],
   "source": [
    "print('Top 5 Non-Disputed Companies:')\n",
    "print(top5_nodisputed)"
   ]
  },
  {
   "cell_type": "markdown",
   "metadata": {},
   "source": [
    "#### Top 5 companies Non-disputed"
   ]
  },
  {
   "cell_type": "code",
   "execution_count": 28,
   "metadata": {
    "execution": {
     "iopub.execute_input": "2023-09-22T12:43:51.521637Z",
     "iopub.status.busy": "2023-09-22T12:43:51.521331Z",
     "iopub.status.idle": "2023-09-22T12:43:51.759970Z",
     "shell.execute_reply": "2023-09-22T12:43:51.759015Z",
     "shell.execute_reply.started": "2023-09-22T12:43:51.521608Z"
    },
    "id": "c5wlrreM_JDa",
    "outputId": "7f165e82-120c-4c63-f07b-7500e347b7d8"
   },
   "outputs": [
    {
     "data": {
      "image/png": "[encoded data removed]",
      "text/plain": [
       "<Figure size 640x480 with 1 Axes>"
      ]
     },
     "metadata": {},
     "output_type": "display_data"
    }
   ],
   "source": [
    "sns.barplot(x=top5_nodisputed.index,y=top5_nodisputed)\n",
    "plt.xticks(rotation=90)\n",
    "plt.title('Top 5 No Disputes')\n",
    "plt.show()"
   ]
  },
  {
   "cell_type": "code",
   "execution_count": 29,
   "metadata": {
    "execution": {
     "iopub.execute_input": "2023-09-22T12:43:51.761574Z",
     "iopub.status.busy": "2023-09-22T12:43:51.761244Z",
     "iopub.status.idle": "2023-09-22T12:43:53.176024Z",
     "shell.execute_reply": "2023-09-22T12:43:53.175047Z",
     "shell.execute_reply.started": "2023-09-22T12:43:51.761544Z"
    },
    "id": "P9AW5am1ApwI",
    "outputId": "c15dd75b-d383-4ec3-e00f-e6c7bb9f4074"
   },
   "outputs": [
    {
     "data": {
      "text/html": [
       "<div>\n",
       "<style scoped>\n",
       "    .dataframe tbody tr th:only-of-type {\n",
       "        vertical-align: middle;\n",
       "    }\n",
       "\n",
       "    .dataframe tbody tr th {\n",
       "        vertical-align: top;\n",
       "    }\n",
       "\n",
       "    .dataframe thead th {\n",
       "        text-align: right;\n",
       "    }\n",
       "</style>\n",
       "<table border=\"1\" class=\"dataframe\">\n",
       "  <thead>\n",
       "    <tr style=\"text-align: right;\">\n",
       "      <th></th>\n",
       "      <th>Date received</th>\n",
       "      <th>Product</th>\n",
       "      <th>Sub-product</th>\n",
       "      <th>Issue</th>\n",
       "      <th>Sub-issue</th>\n",
       "      <th>Consumer complaint narrative</th>\n",
       "      <th>Company public response</th>\n",
       "      <th>Company</th>\n",
       "      <th>State</th>\n",
       "      <th>ZIP code</th>\n",
       "      <th>Tags</th>\n",
       "      <th>Consumer consent provided?</th>\n",
       "      <th>Submitted via</th>\n",
       "      <th>Date sent to company</th>\n",
       "      <th>Company response to consumer</th>\n",
       "      <th>Timely response?</th>\n",
       "      <th>Consumer disputed?</th>\n",
       "      <th>Complaint ID</th>\n",
       "      <th>Year received</th>\n",
       "      <th>Month received</th>\n",
       "    </tr>\n",
       "  </thead>\n",
       "  <tbody>\n",
       "    <tr>\n",
       "      <th>0</th>\n",
       "      <td>2023-08-25</td>\n",
       "      <td>Credit reporting, repair, or other</td>\n",
       "      <td>Credit reporting</td>\n",
       "      <td>Incorrect information on your report</td>\n",
       "      <td>Information belongs to someone else</td>\n",
       "      <td>NaN</td>\n",
       "      <td>NaN</td>\n",
       "      <td>EQUIFAX, INC.</td>\n",
       "      <td>FL</td>\n",
       "      <td>33009</td>\n",
       "      <td>NaN</td>\n",
       "      <td>NaN</td>\n",
       "      <td>Web</td>\n",
       "      <td>2023-08-25</td>\n",
       "      <td>Closed with explanation</td>\n",
       "      <td>Yes</td>\n",
       "      <td>NaN</td>\n",
       "      <td>7523056</td>\n",
       "      <td>2023</td>\n",
       "      <td>8</td>\n",
       "    </tr>\n",
       "    <tr>\n",
       "      <th>1</th>\n",
       "      <td>2023-08-25</td>\n",
       "      <td>Credit reporting, repair, or other</td>\n",
       "      <td>Credit reporting</td>\n",
       "      <td>Improper use of your report</td>\n",
       "      <td>Credit inquiries on your report that you don't...</td>\n",
       "      <td>NaN</td>\n",
       "      <td>NaN</td>\n",
       "      <td>EQUIFAX, INC.</td>\n",
       "      <td>MI</td>\n",
       "      <td>48234</td>\n",
       "      <td>NaN</td>\n",
       "      <td>NaN</td>\n",
       "      <td>Web</td>\n",
       "      <td>2023-08-25</td>\n",
       "      <td>Closed with explanation</td>\n",
       "      <td>Yes</td>\n",
       "      <td>NaN</td>\n",
       "      <td>7523057</td>\n",
       "      <td>2023</td>\n",
       "      <td>8</td>\n",
       "    </tr>\n",
       "    <tr>\n",
       "      <th>2</th>\n",
       "      <td>2023-08-23</td>\n",
       "      <td>Credit reporting, repair, or other</td>\n",
       "      <td>Credit reporting</td>\n",
       "      <td>Problem with a credit reporting company's inve...</td>\n",
       "      <td>Their investigation did not fix an error on yo...</td>\n",
       "      <td>NaN</td>\n",
       "      <td>NaN</td>\n",
       "      <td>EQUIFAX, INC.</td>\n",
       "      <td>GA</td>\n",
       "      <td>30034</td>\n",
       "      <td>NaN</td>\n",
       "      <td>NaN</td>\n",
       "      <td>Web</td>\n",
       "      <td>2023-08-23</td>\n",
       "      <td>In progress</td>\n",
       "      <td>Yes</td>\n",
       "      <td>NaN</td>\n",
       "      <td>7446803</td>\n",
       "      <td>2023</td>\n",
       "      <td>8</td>\n",
       "    </tr>\n",
       "    <tr>\n",
       "      <th>3</th>\n",
       "      <td>2023-08-23</td>\n",
       "      <td>Credit reporting, repair, or other</td>\n",
       "      <td>Credit reporting</td>\n",
       "      <td>Problem with a credit reporting company's inve...</td>\n",
       "      <td>Was not notified of investigation status or re...</td>\n",
       "      <td>NaN</td>\n",
       "      <td>NaN</td>\n",
       "      <td>EQUIFAX, INC.</td>\n",
       "      <td>CO</td>\n",
       "      <td>80249</td>\n",
       "      <td>NaN</td>\n",
       "      <td>NaN</td>\n",
       "      <td>Web</td>\n",
       "      <td>2023-08-23</td>\n",
       "      <td>In progress</td>\n",
       "      <td>Yes</td>\n",
       "      <td>NaN</td>\n",
       "      <td>7446804</td>\n",
       "      <td>2023</td>\n",
       "      <td>8</td>\n",
       "    </tr>\n",
       "    <tr>\n",
       "      <th>4</th>\n",
       "      <td>2023-08-23</td>\n",
       "      <td>Credit reporting, repair, or other</td>\n",
       "      <td>Credit reporting</td>\n",
       "      <td>Problem with a credit reporting company's inve...</td>\n",
       "      <td>Their investigation did not fix an error on yo...</td>\n",
       "      <td>NaN</td>\n",
       "      <td>NaN</td>\n",
       "      <td>TRANSUNION INTERMEDIATE HOLDINGS, INC.</td>\n",
       "      <td>NY</td>\n",
       "      <td>XXXXX</td>\n",
       "      <td>NaN</td>\n",
       "      <td>NaN</td>\n",
       "      <td>Web</td>\n",
       "      <td>2023-08-23</td>\n",
       "      <td>In progress</td>\n",
       "      <td>Yes</td>\n",
       "      <td>NaN</td>\n",
       "      <td>7442566</td>\n",
       "      <td>2023</td>\n",
       "      <td>8</td>\n",
       "    </tr>\n",
       "  </tbody>\n",
       "</table>\n",
       "</div>"
      ],
      "text/plain": [
       "  Date received                             Product       Sub-product  \\\n",
       "0    2023-08-25  Credit reporting, repair, or other  Credit reporting   \n",
       "1    2023-08-25  Credit reporting, repair, or other  Credit reporting   \n",
       "2    2023-08-23  Credit reporting, repair, or other  Credit reporting   \n",
       "3    2023-08-23  Credit reporting, repair, or other  Credit reporting   \n",
       "4    2023-08-23  Credit reporting, repair, or other  Credit reporting   \n",
       "\n",
       "                                               Issue  \\\n",
       "0               Incorrect information on your report   \n",
       "1                        Improper use of your report   \n",
       "2  Problem with a credit reporting company's inve...   \n",
       "3  Problem with a credit reporting company's inve...   \n",
       "4  Problem with a credit reporting company's inve...   \n",
       "\n",
       "                                           Sub-issue  \\\n",
       "0                Information belongs to someone else   \n",
       "1  Credit inquiries on your report that you don't...   \n",
       "2  Their investigation did not fix an error on yo...   \n",
       "3  Was not notified of investigation status or re...   \n",
       "4  Their investigation did not fix an error on yo...   \n",
       "\n",
       "  Consumer complaint narrative Company public response  \\\n",
       "0                          NaN                     NaN   \n",
       "1                          NaN                     NaN   \n",
       "2                          NaN                     NaN   \n",
       "3                          NaN                     NaN   \n",
       "4                          NaN                     NaN   \n",
       "\n",
       "                                  Company State ZIP code Tags  \\\n",
       "0                           EQUIFAX, INC.    FL    33009  NaN   \n",
       "1                           EQUIFAX, INC.    MI    48234  NaN   \n",
       "2                           EQUIFAX, INC.    GA    30034  NaN   \n",
       "3                           EQUIFAX, INC.    CO    80249  NaN   \n",
       "4  TRANSUNION INTERMEDIATE HOLDINGS, INC.    NY    XXXXX  NaN   \n",
       "\n",
       "  Consumer consent provided? Submitted via Date sent to company  \\\n",
       "0                        NaN           Web           2023-08-25   \n",
       "1                        NaN           Web           2023-08-25   \n",
       "2                        NaN           Web           2023-08-23   \n",
       "3                        NaN           Web           2023-08-23   \n",
       "4                        NaN           Web           2023-08-23   \n",
       "\n",
       "  Company response to consumer Timely response? Consumer disputed?  \\\n",
       "0      Closed with explanation              Yes                NaN   \n",
       "1      Closed with explanation              Yes                NaN   \n",
       "2                  In progress              Yes                NaN   \n",
       "3                  In progress              Yes                NaN   \n",
       "4                  In progress              Yes                NaN   \n",
       "\n",
       "   Complaint ID  Year received  Month received  \n",
       "0       7523056           2023               8  \n",
       "1       7523057           2023               8  \n",
       "2       7446803           2023               8  \n",
       "3       7446804           2023               8  \n",
       "4       7442566           2023               8  "
      ]
     },
     "execution_count": 29,
     "metadata": {},
     "output_type": "execute_result"
    }
   ],
   "source": [
    "# Converting \"Date received\" to pandas datetime format\n",
    "df['Date received'] = pd.to_datetime(df['Date received'])\n",
    "# Extracting Year and Month from \"Date received\"\n",
    "df['Year received'], df['Month received'] = df['Date received'].dt.year, df['Date received'].dt.month\n",
    "df.head()"
   ]
  },
  {
   "cell_type": "markdown",
   "metadata": {},
   "source": [
    "Counting records for each **Year received** and **Consumer disputed?**"
   ]
  },
  {
   "cell_type": "code",
   "execution_count": 30,
   "metadata": {
    "execution": {
     "iopub.execute_input": "2023-09-22T12:43:53.177517Z",
     "iopub.status.busy": "2023-09-22T12:43:53.177212Z",
     "iopub.status.idle": "2023-09-22T12:43:53.888313Z",
     "shell.execute_reply": "2023-09-22T12:43:53.887096Z",
     "shell.execute_reply.started": "2023-09-22T12:43:53.177489Z"
    },
    "id": "Z0Fs2VC7Byj6"
   },
   "outputs": [],
   "source": [
    "groups = df.groupby(['Year received','Consumer disputed?'])['Company'].apply(lambda x: x.value_counts())"
   ]
  },
  {
   "cell_type": "code",
   "execution_count": 31,
   "metadata": {
    "execution": {
     "iopub.execute_input": "2023-09-22T12:43:53.889911Z",
     "iopub.status.busy": "2023-09-22T12:43:53.889603Z",
     "iopub.status.idle": "2023-09-22T12:43:53.899659Z",
     "shell.execute_reply": "2023-09-22T12:43:53.898785Z",
     "shell.execute_reply.started": "2023-09-22T12:43:53.889882Z"
    },
    "id": "zVUV9prFCUN6",
    "outputId": "109271bf-66e9-4d37-b811-b073a4029dbf"
   },
   "outputs": [
    {
     "data": {
      "text/plain": [
       "Year received  Consumer disputed?                                       \n",
       "2011           No                  BANK OF AMERICA, NATIONAL ASSOCIATION    431\n",
       "                                   JPMORGAN CHASE & CO.                     298\n",
       "                                   CITIBANK, N.A.                           255\n",
       "                                   CAPITAL ONE FINANCIAL CORPORATION        201\n",
       "                                   WELLS FARGO & COMPANY                    170\n",
       "                                                                           ... \n",
       "2017           Yes                 LAW OFFICE OF JOHN E. LINDNER P.A.         1\n",
       "                                   Markoff Law LLC                            1\n",
       "                                   Nationwide Recovery Systems, Ltd           1\n",
       "                                   Aqua Finance, Inc.                         1\n",
       "                                   ResidentCheck, Inc.                        1\n",
       "Name: Company, Length: 18222, dtype: int64"
      ]
     },
     "execution_count": 31,
     "metadata": {},
     "output_type": "execute_result"
    }
   ],
   "source": [
    "groups"
   ]
  },
  {
   "cell_type": "code",
   "execution_count": 32,
   "metadata": {
    "execution": {
     "iopub.execute_input": "2023-09-22T12:43:53.901027Z",
     "iopub.status.busy": "2023-09-22T12:43:53.900723Z",
     "iopub.status.idle": "2023-09-22T12:43:53.910087Z",
     "shell.execute_reply": "2023-09-22T12:43:53.909281Z",
     "shell.execute_reply.started": "2023-09-22T12:43:53.900998Z"
    },
    "id": "K7HS5LnaCYSv"
   },
   "outputs": [],
   "source": [
    "d = {'Count': groups}"
   ]
  },
  {
   "cell_type": "code",
   "execution_count": 33,
   "metadata": {
    "execution": {
     "iopub.execute_input": "2023-09-22T12:43:53.911550Z",
     "iopub.status.busy": "2023-09-22T12:43:53.911247Z",
     "iopub.status.idle": "2023-09-22T12:43:53.932876Z",
     "shell.execute_reply": "2023-09-22T12:43:53.931969Z",
     "shell.execute_reply.started": "2023-09-22T12:43:53.911522Z"
    },
    "id": "dmSTSHcHCnoi",
    "outputId": "91282abc-59f8-40c2-d3ca-e788e8963c9d"
   },
   "outputs": [
    {
     "data": {
      "text/html": [
       "<div>\n",
       "<style scoped>\n",
       "    .dataframe tbody tr th:only-of-type {\n",
       "        vertical-align: middle;\n",
       "    }\n",
       "\n",
       "    .dataframe tbody tr th {\n",
       "        vertical-align: top;\n",
       "    }\n",
       "\n",
       "    .dataframe thead th {\n",
       "        text-align: right;\n",
       "    }\n",
       "</style>\n",
       "<table border=\"1\" class=\"dataframe\">\n",
       "  <thead>\n",
       "    <tr style=\"text-align: right;\">\n",
       "      <th></th>\n",
       "      <th>Year received</th>\n",
       "      <th>Consumer disputed?</th>\n",
       "      <th>level_2</th>\n",
       "      <th>Count</th>\n",
       "    </tr>\n",
       "  </thead>\n",
       "  <tbody>\n",
       "    <tr>\n",
       "      <th>766</th>\n",
       "      <td>2013</td>\n",
       "      <td>No</td>\n",
       "      <td>BANK OF AMERICA, NATIONAL ASSOCIATION</td>\n",
       "      <td>12887</td>\n",
       "    </tr>\n",
       "    <tr>\n",
       "      <th>10657</th>\n",
       "      <td>2016</td>\n",
       "      <td>No</td>\n",
       "      <td>EQUIFAX, INC.</td>\n",
       "      <td>12643</td>\n",
       "    </tr>\n",
       "    <tr>\n",
       "      <th>10658</th>\n",
       "      <td>2016</td>\n",
       "      <td>No</td>\n",
       "      <td>Experian Information Solutions Inc.</td>\n",
       "      <td>12545</td>\n",
       "    </tr>\n",
       "    <tr>\n",
       "      <th>110</th>\n",
       "      <td>2012</td>\n",
       "      <td>No</td>\n",
       "      <td>BANK OF AMERICA, NATIONAL ASSOCIATION</td>\n",
       "      <td>12318</td>\n",
       "    </tr>\n",
       "    <tr>\n",
       "      <th>10659</th>\n",
       "      <td>2016</td>\n",
       "      <td>No</td>\n",
       "      <td>TRANSUNION INTERMEDIATE HOLDINGS, INC.</td>\n",
       "      <td>11311</td>\n",
       "    </tr>\n",
       "    <tr>\n",
       "      <th>...</th>\n",
       "      <td>...</td>\n",
       "      <td>...</td>\n",
       "      <td>...</td>\n",
       "      <td>...</td>\n",
       "    </tr>\n",
       "    <tr>\n",
       "      <th>2596</th>\n",
       "      <td>2013</td>\n",
       "      <td>Yes</td>\n",
       "      <td>Merchants Credit Corporation</td>\n",
       "      <td>1</td>\n",
       "    </tr>\n",
       "    <tr>\n",
       "      <th>2597</th>\n",
       "      <td>2013</td>\n",
       "      <td>Yes</td>\n",
       "      <td>Houston Home Loan, Inc.</td>\n",
       "      <td>1</td>\n",
       "    </tr>\n",
       "    <tr>\n",
       "      <th>2598</th>\n",
       "      <td>2013</td>\n",
       "      <td>Yes</td>\n",
       "      <td>Eagle Accounts Group, Inc.</td>\n",
       "      <td>1</td>\n",
       "    </tr>\n",
       "    <tr>\n",
       "      <th>2599</th>\n",
       "      <td>2013</td>\n",
       "      <td>Yes</td>\n",
       "      <td>Credit Service Company, INC</td>\n",
       "      <td>1</td>\n",
       "    </tr>\n",
       "    <tr>\n",
       "      <th>18221</th>\n",
       "      <td>2017</td>\n",
       "      <td>Yes</td>\n",
       "      <td>ResidentCheck, Inc.</td>\n",
       "      <td>1</td>\n",
       "    </tr>\n",
       "  </tbody>\n",
       "</table>\n",
       "<p>18222 rows × 4 columns</p>\n",
       "</div>"
      ],
      "text/plain": [
       "       Year received Consumer disputed?  \\\n",
       "766             2013                 No   \n",
       "10657           2016                 No   \n",
       "10658           2016                 No   \n",
       "110             2012                 No   \n",
       "10659           2016                 No   \n",
       "...              ...                ...   \n",
       "2596            2013                Yes   \n",
       "2597            2013                Yes   \n",
       "2598            2013                Yes   \n",
       "2599            2013                Yes   \n",
       "18221           2017                Yes   \n",
       "\n",
       "                                      level_2  Count  \n",
       "766     BANK OF AMERICA, NATIONAL ASSOCIATION  12887  \n",
       "10657                           EQUIFAX, INC.  12643  \n",
       "10658     Experian Information Solutions Inc.  12545  \n",
       "110     BANK OF AMERICA, NATIONAL ASSOCIATION  12318  \n",
       "10659  TRANSUNION INTERMEDIATE HOLDINGS, INC.  11311  \n",
       "...                                       ...    ...  \n",
       "2596             Merchants Credit Corporation      1  \n",
       "2597                  Houston Home Loan, Inc.      1  \n",
       "2598               Eagle Accounts Group, Inc.      1  \n",
       "2599              Credit Service Company, INC      1  \n",
       "18221                     ResidentCheck, Inc.      1  \n",
       "\n",
       "[18222 rows x 4 columns]"
      ]
     },
     "execution_count": 33,
     "metadata": {},
     "output_type": "execute_result"
    }
   ],
   "source": [
    "year_df = pd.DataFrame(data=d).reset_index()\n",
    "year_df.sort_values(by='Count', ascending=False)"
   ]
  },
  {
   "cell_type": "code",
   "execution_count": 34,
   "metadata": {
    "execution": {
     "iopub.execute_input": "2023-09-22T12:43:53.934270Z",
     "iopub.status.busy": "2023-09-22T12:43:53.933897Z",
     "iopub.status.idle": "2023-09-22T12:43:53.939675Z",
     "shell.execute_reply": "2023-09-22T12:43:53.938870Z",
     "shell.execute_reply.started": "2023-09-22T12:43:53.934241Z"
    },
    "id": "rGC-gk1lCn9i"
   },
   "outputs": [],
   "source": [
    "count_df = year_df.rename(columns={\"level_2\": \"Company\"})"
   ]
  },
  {
   "cell_type": "code",
   "execution_count": 35,
   "metadata": {
    "execution": {
     "iopub.execute_input": "2023-09-22T12:43:53.941205Z",
     "iopub.status.busy": "2023-09-22T12:43:53.940854Z",
     "iopub.status.idle": "2023-09-22T12:43:53.955219Z",
     "shell.execute_reply": "2023-09-22T12:43:53.954410Z",
     "shell.execute_reply.started": "2023-09-22T12:43:53.941159Z"
    },
    "id": "PMOIxYPZC0fz",
    "outputId": "5e3b40b0-342f-43c7-e4eb-d81b66c086ef"
   },
   "outputs": [
    {
     "data": {
      "text/html": [
       "<div>\n",
       "<style scoped>\n",
       "    .dataframe tbody tr th:only-of-type {\n",
       "        vertical-align: middle;\n",
       "    }\n",
       "\n",
       "    .dataframe tbody tr th {\n",
       "        vertical-align: top;\n",
       "    }\n",
       "\n",
       "    .dataframe thead th {\n",
       "        text-align: right;\n",
       "    }\n",
       "</style>\n",
       "<table border=\"1\" class=\"dataframe\">\n",
       "  <thead>\n",
       "    <tr style=\"text-align: right;\">\n",
       "      <th></th>\n",
       "      <th>Year received</th>\n",
       "      <th>Consumer disputed?</th>\n",
       "      <th>Company</th>\n",
       "      <th>Count</th>\n",
       "    </tr>\n",
       "  </thead>\n",
       "  <tbody>\n",
       "    <tr>\n",
       "      <th>0</th>\n",
       "      <td>2011</td>\n",
       "      <td>No</td>\n",
       "      <td>BANK OF AMERICA, NATIONAL ASSOCIATION</td>\n",
       "      <td>431</td>\n",
       "    </tr>\n",
       "    <tr>\n",
       "      <th>1</th>\n",
       "      <td>2011</td>\n",
       "      <td>No</td>\n",
       "      <td>JPMORGAN CHASE &amp; CO.</td>\n",
       "      <td>298</td>\n",
       "    </tr>\n",
       "    <tr>\n",
       "      <th>2</th>\n",
       "      <td>2011</td>\n",
       "      <td>No</td>\n",
       "      <td>CITIBANK, N.A.</td>\n",
       "      <td>255</td>\n",
       "    </tr>\n",
       "    <tr>\n",
       "      <th>3</th>\n",
       "      <td>2011</td>\n",
       "      <td>No</td>\n",
       "      <td>CAPITAL ONE FINANCIAL CORPORATION</td>\n",
       "      <td>201</td>\n",
       "    </tr>\n",
       "    <tr>\n",
       "      <th>4</th>\n",
       "      <td>2011</td>\n",
       "      <td>No</td>\n",
       "      <td>WELLS FARGO &amp; COMPANY</td>\n",
       "      <td>170</td>\n",
       "    </tr>\n",
       "    <tr>\n",
       "      <th>...</th>\n",
       "      <td>...</td>\n",
       "      <td>...</td>\n",
       "      <td>...</td>\n",
       "      <td>...</td>\n",
       "    </tr>\n",
       "    <tr>\n",
       "      <th>18217</th>\n",
       "      <td>2017</td>\n",
       "      <td>Yes</td>\n",
       "      <td>LAW OFFICE OF JOHN E. LINDNER P.A.</td>\n",
       "      <td>1</td>\n",
       "    </tr>\n",
       "    <tr>\n",
       "      <th>18218</th>\n",
       "      <td>2017</td>\n",
       "      <td>Yes</td>\n",
       "      <td>Markoff Law LLC</td>\n",
       "      <td>1</td>\n",
       "    </tr>\n",
       "    <tr>\n",
       "      <th>18219</th>\n",
       "      <td>2017</td>\n",
       "      <td>Yes</td>\n",
       "      <td>Nationwide Recovery Systems, Ltd</td>\n",
       "      <td>1</td>\n",
       "    </tr>\n",
       "    <tr>\n",
       "      <th>18220</th>\n",
       "      <td>2017</td>\n",
       "      <td>Yes</td>\n",
       "      <td>Aqua Finance, Inc.</td>\n",
       "      <td>1</td>\n",
       "    </tr>\n",
       "    <tr>\n",
       "      <th>18221</th>\n",
       "      <td>2017</td>\n",
       "      <td>Yes</td>\n",
       "      <td>ResidentCheck, Inc.</td>\n",
       "      <td>1</td>\n",
       "    </tr>\n",
       "  </tbody>\n",
       "</table>\n",
       "<p>18222 rows × 4 columns</p>\n",
       "</div>"
      ],
      "text/plain": [
       "       Year received Consumer disputed?  \\\n",
       "0               2011                 No   \n",
       "1               2011                 No   \n",
       "2               2011                 No   \n",
       "3               2011                 No   \n",
       "4               2011                 No   \n",
       "...              ...                ...   \n",
       "18217           2017                Yes   \n",
       "18218           2017                Yes   \n",
       "18219           2017                Yes   \n",
       "18220           2017                Yes   \n",
       "18221           2017                Yes   \n",
       "\n",
       "                                     Company  Count  \n",
       "0      BANK OF AMERICA, NATIONAL ASSOCIATION    431  \n",
       "1                       JPMORGAN CHASE & CO.    298  \n",
       "2                             CITIBANK, N.A.    255  \n",
       "3          CAPITAL ONE FINANCIAL CORPORATION    201  \n",
       "4                      WELLS FARGO & COMPANY    170  \n",
       "...                                      ...    ...  \n",
       "18217     LAW OFFICE OF JOHN E. LINDNER P.A.      1  \n",
       "18218                        Markoff Law LLC      1  \n",
       "18219       Nationwide Recovery Systems, Ltd      1  \n",
       "18220                     Aqua Finance, Inc.      1  \n",
       "18221                    ResidentCheck, Inc.      1  \n",
       "\n",
       "[18222 rows x 4 columns]"
      ]
     },
     "execution_count": 35,
     "metadata": {},
     "output_type": "execute_result"
    }
   ],
   "source": [
    "count_df"
   ]
  },
  {
   "cell_type": "markdown",
   "metadata": {},
   "source": [
    "#### Top 4 Companies with Consumer disputed as \"Yes\""
   ]
  },
  {
   "cell_type": "code",
   "execution_count": 36,
   "metadata": {
    "execution": {
     "iopub.execute_input": "2023-09-22T12:43:53.956661Z",
     "iopub.status.busy": "2023-09-22T12:43:53.956300Z",
     "iopub.status.idle": "2023-09-22T12:43:53.979494Z",
     "shell.execute_reply": "2023-09-22T12:43:53.978558Z",
     "shell.execute_reply.started": "2023-09-22T12:43:53.956633Z"
    },
    "id": "70gGVkJMC07h"
   },
   "outputs": [],
   "source": [
    "# Top 4 companies with Consumer disputed as \"Yes\"\n",
    "boa_disputes = count_df.loc[(count_df['Company'] == 'BANK OF AMERICA, NATIONAL ASSOCIATION') & (count_df['Consumer disputed?'] == 'Yes')]\n",
    "wfc_disputes = count_df.loc[(count_df['Company'] == 'WELLS FARGO & COMPANY') & (count_df['Consumer disputed?'] == 'Yes')]\n",
    "jp_disputes = count_df.loc[(count_df['Company'] == 'JPMORGAN CHASE & CO.') & (count_df['Consumer disputed?'] == 'Yes')]\n",
    "citi_disputes = count_df.loc[(count_df['Company'] == 'CITIBANK, N.A.') & (count_df['Consumer disputed?'] == 'Yes')]"
   ]
  },
  {
   "cell_type": "code",
   "execution_count": 37,
   "metadata": {
    "execution": {
     "iopub.execute_input": "2023-09-22T12:43:53.981251Z",
     "iopub.status.busy": "2023-09-22T12:43:53.980591Z",
     "iopub.status.idle": "2023-09-22T12:43:53.991842Z",
     "shell.execute_reply": "2023-09-22T12:43:53.990898Z",
     "shell.execute_reply.started": "2023-09-22T12:43:53.981197Z"
    },
    "id": "3KhxqPg5EjRO"
   },
   "outputs": [],
   "source": [
    "years = boa_disputes['Year received'].values.tolist()"
   ]
  },
  {
   "cell_type": "code",
   "execution_count": 38,
   "metadata": {
    "execution": {
     "iopub.execute_input": "2023-09-22T12:43:54.002110Z",
     "iopub.status.busy": "2023-09-22T12:43:54.001716Z",
     "iopub.status.idle": "2023-09-22T12:43:54.007892Z",
     "shell.execute_reply": "2023-09-22T12:43:54.006976Z",
     "shell.execute_reply.started": "2023-09-22T12:43:54.002079Z"
    },
    "id": "RDAY26HVE6c7"
   },
   "outputs": [],
   "source": [
    "boa_disputes_amount = boa_disputes['Count'].values.tolist()\n",
    "wfc_disputes_amount = wfc_disputes['Count'].values.tolist()\n",
    "jp_disputes_amount = jp_disputes['Count'].values.tolist()\n",
    "citi_disputes_amount = citi_disputes['Count'].values.tolist()"
   ]
  },
  {
   "cell_type": "markdown",
   "metadata": {},
   "source": [
    "#### Number of Disputes (Top 4 Companies) from 2011-2017"
   ]
  },
  {
   "cell_type": "code",
   "execution_count": 39,
   "metadata": {
    "execution": {
     "iopub.execute_input": "2023-09-22T12:43:54.009343Z",
     "iopub.status.busy": "2023-09-22T12:43:54.009017Z",
     "iopub.status.idle": "2023-09-22T12:43:54.440579Z",
     "shell.execute_reply": "2023-09-22T12:43:54.439439Z",
     "shell.execute_reply.started": "2023-09-22T12:43:54.009313Z"
    },
    "id": "IMIMpnChElP-",
    "outputId": "35c5d83a-cbc5-4ba5-a08e-04e681732c58"
   },
   "outputs": [
    {
     "data": {
      "image/png": "[encoded data removed]",
      "text/plain": [
       "<Figure size 640x480 with 1 Axes>"
      ]
     },
     "metadata": {},
     "output_type": "display_data"
    }
   ],
   "source": [
    "sns.lineplot(x=years,y=boa_disputes_amount,label='Bank of America')\n",
    "sns.lineplot(x=years,y=wfc_disputes_amount,label='Wells Fargo & Company')\n",
    "sns.lineplot(x=years,y=jp_disputes_amount,label='JPMorgan Chase & Co')\n",
    "sns.lineplot(x=years,y=citi_disputes_amount,label='Citibank')\n",
    "plt.legend()\n",
    "plt.xlabel('Year')\n",
    "plt.ylabel('No of Disputes')\n",
    "plt.title('Number of Disputes(Top 4 Companies)')\n",
    "plt.show()"
   ]
  },
  {
   "cell_type": "markdown",
   "metadata": {},
   "source": [
    "#### Top 10 Complaints in Sub-product"
   ]
  },
  {
   "cell_type": "code",
   "execution_count": 40,
   "metadata": {
    "execution": {
     "iopub.execute_input": "2023-09-22T12:43:54.442225Z",
     "iopub.status.busy": "2023-09-22T12:43:54.441875Z",
     "iopub.status.idle": "2023-09-22T12:43:55.281215Z",
     "shell.execute_reply": "2023-09-22T12:43:55.280135Z",
     "shell.execute_reply.started": "2023-09-22T12:43:54.442170Z"
    }
   },
   "outputs": [
    {
     "data": {
      "image/png": "[encoded data removed]",
      "text/plain": [
       "<Figure size 640x480 with 1 Axes>"
      ]
     },
     "metadata": {},
     "output_type": "display_data"
    }
   ],
   "source": [
    "sns.barplot(data=df,y=df['Sub-product'].value_counts().sort_values(ascending=False)[:10].index,\n",
    "           x=df['Sub-product'].value_counts().sort_values(ascending=False)[:10])\n",
    "plt.title('Top 10 complaints in Sub-product')\n",
    "plt.show()"
   ]
  },
  {
   "cell_type": "markdown",
   "metadata": {},
   "source": [
    "#### Top 10 Companies with Most complaints"
   ]
  },
  {
   "cell_type": "code",
   "execution_count": 41,
   "metadata": {
    "execution": {
     "iopub.execute_input": "2023-09-22T12:43:55.282989Z",
     "iopub.status.busy": "2023-09-22T12:43:55.282685Z",
     "iopub.status.idle": "2023-09-22T12:43:56.180580Z",
     "shell.execute_reply": "2023-09-22T12:43:56.179641Z",
     "shell.execute_reply.started": "2023-09-22T12:43:55.282963Z"
    }
   },
   "outputs": [
    {
     "data": {
      "image/png": "[encoded data removed]",
      "text/plain": [
       "<Figure size 640x480 with 1 Axes>"
      ]
     },
     "metadata": {},
     "output_type": "display_data"
    }
   ],
   "source": [
    "sns.barplot(data=df,y=df['Company'].value_counts().sort_values(ascending=False)[:10].index,\n",
    "           x = df['Company'].value_counts().sort_values(ascending=False)[:10])\n",
    "plt.title('Top 10 companies with Complaints')\n",
    "plt.show()"
   ]
  },
  {
   "cell_type": "markdown",
   "metadata": {},
   "source": [
    "Since we are performing Text Classification on consumer complaints, \n",
    "\n",
    "We'll remove all columns except the **Consumer complaint narrative** and **Product**"
   ]
  },
  {
   "cell_type": "code",
   "execution_count": 42,
   "metadata": {
    "execution": {
     "iopub.execute_input": "2023-09-22T12:43:56.182105Z",
     "iopub.status.busy": "2023-09-22T12:43:56.181790Z",
     "iopub.status.idle": "2023-09-22T12:43:56.488834Z",
     "shell.execute_reply": "2023-09-22T12:43:56.487756Z",
     "shell.execute_reply.started": "2023-09-22T12:43:56.182075Z"
    },
    "id": "rURRoNE8FGtH"
   },
   "outputs": [],
   "source": [
    "new_df = df[['Product','Consumer complaint narrative']].copy()"
   ]
  },
  {
   "cell_type": "code",
   "execution_count": 43,
   "metadata": {
    "execution": {
     "iopub.execute_input": "2023-09-22T12:43:56.490360Z",
     "iopub.status.busy": "2023-09-22T12:43:56.490026Z",
     "iopub.status.idle": "2023-09-22T12:43:56.499974Z",
     "shell.execute_reply": "2023-09-22T12:43:56.499052Z",
     "shell.execute_reply.started": "2023-09-22T12:43:56.490331Z"
    },
    "id": "seeF7HFTH9fI",
    "outputId": "4aee1c6d-5be2-466e-c1e6-cf7dd28b55c5"
   },
   "outputs": [
    {
     "data": {
      "text/html": [
       "<div>\n",
       "<style scoped>\n",
       "    .dataframe tbody tr th:only-of-type {\n",
       "        vertical-align: middle;\n",
       "    }\n",
       "\n",
       "    .dataframe tbody tr th {\n",
       "        vertical-align: top;\n",
       "    }\n",
       "\n",
       "    .dataframe thead th {\n",
       "        text-align: right;\n",
       "    }\n",
       "</style>\n",
       "<table border=\"1\" class=\"dataframe\">\n",
       "  <thead>\n",
       "    <tr style=\"text-align: right;\">\n",
       "      <th></th>\n",
       "      <th>Product</th>\n",
       "      <th>Consumer complaint narrative</th>\n",
       "    </tr>\n",
       "  </thead>\n",
       "  <tbody>\n",
       "    <tr>\n",
       "      <th>0</th>\n",
       "      <td>Credit reporting, repair, or other</td>\n",
       "      <td>NaN</td>\n",
       "    </tr>\n",
       "    <tr>\n",
       "      <th>1</th>\n",
       "      <td>Credit reporting, repair, or other</td>\n",
       "      <td>NaN</td>\n",
       "    </tr>\n",
       "    <tr>\n",
       "      <th>2</th>\n",
       "      <td>Credit reporting, repair, or other</td>\n",
       "      <td>NaN</td>\n",
       "    </tr>\n",
       "    <tr>\n",
       "      <th>3</th>\n",
       "      <td>Credit reporting, repair, or other</td>\n",
       "      <td>NaN</td>\n",
       "    </tr>\n",
       "    <tr>\n",
       "      <th>4</th>\n",
       "      <td>Credit reporting, repair, or other</td>\n",
       "      <td>NaN</td>\n",
       "    </tr>\n",
       "  </tbody>\n",
       "</table>\n",
       "</div>"
      ],
      "text/plain": [
       "                              Product Consumer complaint narrative\n",
       "0  Credit reporting, repair, or other                          NaN\n",
       "1  Credit reporting, repair, or other                          NaN\n",
       "2  Credit reporting, repair, or other                          NaN\n",
       "3  Credit reporting, repair, or other                          NaN\n",
       "4  Credit reporting, repair, or other                          NaN"
      ]
     },
     "execution_count": 43,
     "metadata": {},
     "output_type": "execute_result"
    }
   ],
   "source": [
    "new_df.head()"
   ]
  },
  {
   "cell_type": "code",
   "execution_count": 44,
   "metadata": {
    "execution": {
     "iopub.execute_input": "2023-09-22T12:43:56.501534Z",
     "iopub.status.busy": "2023-09-22T12:43:56.501177Z",
     "iopub.status.idle": "2023-09-22T12:43:56.510575Z",
     "shell.execute_reply": "2023-09-22T12:43:56.509756Z",
     "shell.execute_reply.started": "2023-09-22T12:43:56.501503Z"
    },
    "id": "O0eWtPBDH-Id",
    "outputId": "dbccf810-add8-41d0-fbdb-03c6b03d8ab0"
   },
   "outputs": [
    {
     "data": {
      "text/plain": [
       "(4051252, 2)"
      ]
     },
     "execution_count": 44,
     "metadata": {},
     "output_type": "execute_result"
    }
   ],
   "source": [
    "new_df.shape"
   ]
  },
  {
   "cell_type": "markdown",
   "metadata": {},
   "source": [
    "Dropping Rows with Missing values in **Consumer complaint**"
   ]
  },
  {
   "cell_type": "code",
   "execution_count": 45,
   "metadata": {
    "execution": {
     "iopub.execute_input": "2023-09-22T12:43:56.512000Z",
     "iopub.status.busy": "2023-09-22T12:43:56.511695Z",
     "iopub.status.idle": "2023-09-22T12:43:56.975756Z",
     "shell.execute_reply": "2023-09-22T12:43:56.974705Z",
     "shell.execute_reply.started": "2023-09-22T12:43:56.511971Z"
    },
    "id": "tfspXQt8IG7U",
    "outputId": "834f870f-af50-424e-f65d-3e1d689f6b31"
   },
   "outputs": [
    {
     "data": {
      "text/plain": [
       "Product                               0\n",
       "Consumer complaint narrative    2584946\n",
       "dtype: int64"
      ]
     },
     "execution_count": 45,
     "metadata": {},
     "output_type": "execute_result"
    }
   ],
   "source": [
    "new_df.isnull().sum()"
   ]
  },
  {
   "cell_type": "code",
   "execution_count": 46,
   "metadata": {
    "execution": {
     "iopub.execute_input": "2023-09-22T12:43:56.977268Z",
     "iopub.status.busy": "2023-09-22T12:43:56.976938Z",
     "iopub.status.idle": "2023-09-22T12:43:57.533154Z",
     "shell.execute_reply": "2023-09-22T12:43:57.531996Z",
     "shell.execute_reply.started": "2023-09-22T12:43:56.977238Z"
    },
    "id": "0-wXdsByIES-"
   },
   "outputs": [],
   "source": [
    "new_df.dropna(inplace=True)"
   ]
  },
  {
   "cell_type": "code",
   "execution_count": 47,
   "metadata": {
    "execution": {
     "iopub.execute_input": "2023-09-22T12:43:57.534685Z",
     "iopub.status.busy": "2023-09-22T12:43:57.534386Z",
     "iopub.status.idle": "2023-09-22T12:43:57.540757Z",
     "shell.execute_reply": "2023-09-22T12:43:57.539752Z",
     "shell.execute_reply.started": "2023-09-22T12:43:57.534656Z"
    },
    "id": "vHz12ZxfIKzx",
    "outputId": "543309ad-1968-4cd1-a10e-f5a3aae41e97"
   },
   "outputs": [
    {
     "data": {
      "text/plain": [
       "(1466306, 2)"
      ]
     },
     "execution_count": 47,
     "metadata": {},
     "output_type": "execute_result"
    }
   ],
   "source": [
    "new_df.shape"
   ]
  },
  {
   "cell_type": "code",
   "execution_count": 48,
   "metadata": {
    "execution": {
     "iopub.execute_input": "2023-09-22T12:43:57.542270Z",
     "iopub.status.busy": "2023-09-22T12:43:57.541948Z",
     "iopub.status.idle": "2023-09-22T12:43:57.554407Z",
     "shell.execute_reply": "2023-09-22T12:43:57.553452Z",
     "shell.execute_reply.started": "2023-09-22T12:43:57.542240Z"
    },
    "id": "pH6pxEfXISsZ",
    "outputId": "1c8298e8-f243-4b70-9566-f6b6a20cffe0"
   },
   "outputs": [
    {
     "data": {
      "text/html": [
       "<div>\n",
       "<style scoped>\n",
       "    .dataframe tbody tr th:only-of-type {\n",
       "        vertical-align: middle;\n",
       "    }\n",
       "\n",
       "    .dataframe tbody tr th {\n",
       "        vertical-align: top;\n",
       "    }\n",
       "\n",
       "    .dataframe thead th {\n",
       "        text-align: right;\n",
       "    }\n",
       "</style>\n",
       "<table border=\"1\" class=\"dataframe\">\n",
       "  <thead>\n",
       "    <tr style=\"text-align: right;\">\n",
       "      <th></th>\n",
       "      <th>Product</th>\n",
       "      <th>Consumer complaint narrative</th>\n",
       "    </tr>\n",
       "  </thead>\n",
       "  <tbody>\n",
       "    <tr>\n",
       "      <th>14</th>\n",
       "      <td>Credit reporting, repair, or other</td>\n",
       "      <td>I am a victim of identity theft please remove ...</td>\n",
       "    </tr>\n",
       "    <tr>\n",
       "      <th>17</th>\n",
       "      <td>Credit reporting, repair, or other</td>\n",
       "      <td>Please remove this inquiry from my credit repo...</td>\n",
       "    </tr>\n",
       "    <tr>\n",
       "      <th>18</th>\n",
       "      <td>Credit reporting, repair, or other</td>\n",
       "      <td>The following inquiries appear on my account. ...</td>\n",
       "    </tr>\n",
       "    <tr>\n",
       "      <th>19</th>\n",
       "      <td>Credit reporting, repair, or other</td>\n",
       "      <td>I've found that my credit report has erroneous...</td>\n",
       "    </tr>\n",
       "    <tr>\n",
       "      <th>24</th>\n",
       "      <td>Credit reporting, repair, or other</td>\n",
       "      <td>Synchrony, Bank discount tire had Called me fo...</td>\n",
       "    </tr>\n",
       "  </tbody>\n",
       "</table>\n",
       "</div>"
      ],
      "text/plain": [
       "                               Product  \\\n",
       "14  Credit reporting, repair, or other   \n",
       "17  Credit reporting, repair, or other   \n",
       "18  Credit reporting, repair, or other   \n",
       "19  Credit reporting, repair, or other   \n",
       "24  Credit reporting, repair, or other   \n",
       "\n",
       "                         Consumer complaint narrative  \n",
       "14  I am a victim of identity theft please remove ...  \n",
       "17  Please remove this inquiry from my credit repo...  \n",
       "18  The following inquiries appear on my account. ...  \n",
       "19  I've found that my credit report has erroneous...  \n",
       "24  Synchrony, Bank discount tire had Called me fo...  "
      ]
     },
     "execution_count": 48,
     "metadata": {},
     "output_type": "execute_result"
    }
   ],
   "source": [
    "new_df.head()"
   ]
  },
  {
   "cell_type": "code",
   "execution_count": 49,
   "metadata": {
    "execution": {
     "iopub.execute_input": "2023-09-22T12:43:57.555919Z",
     "iopub.status.busy": "2023-09-22T12:43:57.555589Z",
     "iopub.status.idle": "2023-09-22T12:43:57.562399Z",
     "shell.execute_reply": "2023-09-22T12:43:57.561428Z",
     "shell.execute_reply.started": "2023-09-22T12:43:57.555888Z"
    },
    "id": "iq-A0I6qJ35g"
   },
   "outputs": [],
   "source": [
    "new_df.columns = ['Product','Complaint']"
   ]
  },
  {
   "cell_type": "code",
   "execution_count": 50,
   "metadata": {
    "execution": {
     "iopub.execute_input": "2023-09-22T12:43:57.563921Z",
     "iopub.status.busy": "2023-09-22T12:43:57.563616Z",
     "iopub.status.idle": "2023-09-22T12:43:57.576788Z",
     "shell.execute_reply": "2023-09-22T12:43:57.575876Z",
     "shell.execute_reply.started": "2023-09-22T12:43:57.563892Z"
    },
    "id": "0UZlPczPKQtY",
    "outputId": "803eb5ce-e32b-408f-b304-990baffedb73"
   },
   "outputs": [
    {
     "data": {
      "text/html": [
       "<div>\n",
       "<style scoped>\n",
       "    .dataframe tbody tr th:only-of-type {\n",
       "        vertical-align: middle;\n",
       "    }\n",
       "\n",
       "    .dataframe tbody tr th {\n",
       "        vertical-align: top;\n",
       "    }\n",
       "\n",
       "    .dataframe thead th {\n",
       "        text-align: right;\n",
       "    }\n",
       "</style>\n",
       "<table border=\"1\" class=\"dataframe\">\n",
       "  <thead>\n",
       "    <tr style=\"text-align: right;\">\n",
       "      <th></th>\n",
       "      <th>Product</th>\n",
       "      <th>Complaint</th>\n",
       "    </tr>\n",
       "  </thead>\n",
       "  <tbody>\n",
       "    <tr>\n",
       "      <th>14</th>\n",
       "      <td>Credit reporting, repair, or other</td>\n",
       "      <td>I am a victim of identity theft please remove ...</td>\n",
       "    </tr>\n",
       "    <tr>\n",
       "      <th>17</th>\n",
       "      <td>Credit reporting, repair, or other</td>\n",
       "      <td>Please remove this inquiry from my credit repo...</td>\n",
       "    </tr>\n",
       "    <tr>\n",
       "      <th>18</th>\n",
       "      <td>Credit reporting, repair, or other</td>\n",
       "      <td>The following inquiries appear on my account. ...</td>\n",
       "    </tr>\n",
       "    <tr>\n",
       "      <th>19</th>\n",
       "      <td>Credit reporting, repair, or other</td>\n",
       "      <td>I've found that my credit report has erroneous...</td>\n",
       "    </tr>\n",
       "    <tr>\n",
       "      <th>24</th>\n",
       "      <td>Credit reporting, repair, or other</td>\n",
       "      <td>Synchrony, Bank discount tire had Called me fo...</td>\n",
       "    </tr>\n",
       "  </tbody>\n",
       "</table>\n",
       "</div>"
      ],
      "text/plain": [
       "                               Product  \\\n",
       "14  Credit reporting, repair, or other   \n",
       "17  Credit reporting, repair, or other   \n",
       "18  Credit reporting, repair, or other   \n",
       "19  Credit reporting, repair, or other   \n",
       "24  Credit reporting, repair, or other   \n",
       "\n",
       "                                            Complaint  \n",
       "14  I am a victim of identity theft please remove ...  \n",
       "17  Please remove this inquiry from my credit repo...  \n",
       "18  The following inquiries appear on my account. ...  \n",
       "19  I've found that my credit report has erroneous...  \n",
       "24  Synchrony, Bank discount tire had Called me fo...  "
      ]
     },
     "execution_count": 50,
     "metadata": {},
     "output_type": "execute_result"
    }
   ],
   "source": [
    "new_df.head()"
   ]
  },
  {
   "cell_type": "markdown",
   "metadata": {},
   "source": [
    "### Text Pre-Processing"
   ]
  },
  {
   "cell_type": "markdown",
   "metadata": {},
   "source": [
    "**LowerCase**\n",
    "\n",
    "- The most common approach in text cleaning is capitalization or lower case due to the diversity of capitalization to form a sentence.\n",
    "- This technique will project all words in text and document into the same feature space.\n",
    "- However, it would also cause problems with exceptional cases such as the USA or UK, which could be solved by replacing typos, slang, acronyms or informal abbreviations technique."
   ]
  },
  {
   "cell_type": "code",
   "execution_count": 51,
   "metadata": {
    "execution": {
     "iopub.execute_input": "2023-09-22T12:43:57.578092Z",
     "iopub.status.busy": "2023-09-22T12:43:57.577798Z",
     "iopub.status.idle": "2023-09-22T12:43:59.808153Z",
     "shell.execute_reply": "2023-09-22T12:43:59.807094Z",
     "shell.execute_reply.started": "2023-09-22T12:43:57.578063Z"
    },
    "id": "mZ33z-03KRvA"
   },
   "outputs": [],
   "source": [
    "# Converting Lowercase\n",
    "new_df['clean_text'] = new_df['Complaint'].apply(lambda x:x.lower())"
   ]
  },
  {
   "cell_type": "code",
   "execution_count": 52,
   "metadata": {
    "execution": {
     "iopub.execute_input": "2023-09-22T12:43:59.809618Z",
     "iopub.status.busy": "2023-09-22T12:43:59.809320Z",
     "iopub.status.idle": "2023-09-22T12:43:59.813638Z",
     "shell.execute_reply": "2023-09-22T12:43:59.812729Z",
     "shell.execute_reply.started": "2023-09-22T12:43:59.809591Z"
    },
    "id": "bUZQBAeFKZPp"
   },
   "outputs": [],
   "source": [
    "import re"
   ]
  },
  {
   "cell_type": "markdown",
   "metadata": {},
   "source": [
    "**Noise Removal**\n",
    "\n",
    "Text data could include various unnecessary characters or punctuation such as URLs, HTML tags, non-ASCII characters, or other special characters (symbols, emojis, and other graphic characters)."
   ]
  },
  {
   "cell_type": "code",
   "execution_count": 53,
   "metadata": {
    "execution": {
     "iopub.execute_input": "2023-09-22T12:43:59.815119Z",
     "iopub.status.busy": "2023-09-22T12:43:59.814790Z",
     "iopub.status.idle": "2023-09-22T12:43:59.825434Z",
     "shell.execute_reply": "2023-09-22T12:43:59.824547Z",
     "shell.execute_reply.started": "2023-09-22T12:43:59.815091Z"
    },
    "id": "V9WmyCw5Kbdi"
   },
   "outputs": [],
   "source": [
    "def remove_URL(text):\n",
    "    \"\"\"\n",
    "        Remove URLs from a sample string\n",
    "    \"\"\"\n",
    "    return re.sub(r\"https?://\\S+|www\\.\\S+\", \"\", text)\n",
    "\n",
    "def remove_html(text):\n",
    "    \"\"\"\n",
    "        Remove the html in sample text\n",
    "    \"\"\"\n",
    "    html = re.compile(r\"<.*?>|&([a-z0-9]+|#[0-9]{1,6}|#x[0-9a-f]{1,6});\")\n",
    "    return re.sub(html, \"\", text)\n",
    "\n",
    "def remove_non_ascii(text):\n",
    "    \"\"\"\n",
    "        Remove non-ASCII characters\n",
    "    \"\"\"\n",
    "    return re.sub(r'[^\\x00-\\x7f]',r'', text)"
   ]
  },
  {
   "cell_type": "code",
   "execution_count": 54,
   "metadata": {
    "execution": {
     "iopub.execute_input": "2023-09-22T12:43:59.826738Z",
     "iopub.status.busy": "2023-09-22T12:43:59.826461Z",
     "iopub.status.idle": "2023-09-22T12:44:36.515895Z",
     "shell.execute_reply": "2023-09-22T12:44:36.514680Z",
     "shell.execute_reply.started": "2023-09-22T12:43:59.826712Z"
    },
    "id": "oB_sziCKKeAS"
   },
   "outputs": [],
   "source": [
    "new_df['clean_text'] = new_df['clean_text'].apply(lambda x:remove_URL(x))"
   ]
  },
  {
   "cell_type": "code",
   "execution_count": 55,
   "metadata": {
    "execution": {
     "iopub.execute_input": "2023-09-22T12:44:36.517733Z",
     "iopub.status.busy": "2023-09-22T12:44:36.517424Z",
     "iopub.status.idle": "2023-09-22T12:45:17.861216Z",
     "shell.execute_reply": "2023-09-22T12:45:17.859973Z",
     "shell.execute_reply.started": "2023-09-22T12:44:36.517705Z"
    },
    "id": "LwZF6XtQKqhi"
   },
   "outputs": [],
   "source": [
    "new_df['clean_text'] = new_df['clean_text'].apply(lambda x:remove_html(x))"
   ]
  },
  {
   "cell_type": "code",
   "execution_count": 56,
   "metadata": {
    "execution": {
     "iopub.execute_input": "2023-09-22T12:45:17.863003Z",
     "iopub.status.busy": "2023-09-22T12:45:17.862704Z",
     "iopub.status.idle": "2023-09-22T12:45:44.645791Z",
     "shell.execute_reply": "2023-09-22T12:45:44.644634Z",
     "shell.execute_reply.started": "2023-09-22T12:45:17.862976Z"
    },
    "id": "CViaWk0sKtZJ"
   },
   "outputs": [],
   "source": [
    "new_df['clean_text'] = new_df['clean_text'].apply(lambda x:remove_non_ascii(x))"
   ]
  },
  {
   "cell_type": "markdown",
   "metadata": {},
   "source": [
    "**Remove special characters:**\n",
    "\n",
    "The special characters could be symbols, emojis, and other graphic characters. We use the \"Toxic Comment Classification Challenge\" dataset as the \"Real or Not? NLP with Disaster Tweets\" dataset do not have any special charaters in their text."
   ]
  },
  {
   "cell_type": "code",
   "execution_count": 57,
   "metadata": {
    "execution": {
     "iopub.execute_input": "2023-09-22T12:45:44.647873Z",
     "iopub.status.busy": "2023-09-22T12:45:44.647444Z",
     "iopub.status.idle": "2023-09-22T12:45:44.653802Z",
     "shell.execute_reply": "2023-09-22T12:45:44.652899Z",
     "shell.execute_reply.started": "2023-09-22T12:45:44.647830Z"
    },
    "id": "RI2aHtulKvl5"
   },
   "outputs": [],
   "source": [
    "def remove_special_characters(text):\n",
    "    \"\"\"\n",
    "        Remove special special characters, including symbols, emojis, and other graphic characters\n",
    "    \"\"\"\n",
    "    emoji_pattern = re.compile(\n",
    "        '['\n",
    "        u'\\U0001F600-\\U0001F64F'  # emoticons\n",
    "        u'\\U0001F300-\\U0001F5FF'  # symbols & pictographs\n",
    "        u'\\U0001F680-\\U0001F6FF'  # transport & map symbols\n",
    "        u'\\U0001F1E0-\\U0001F1FF'  # flags (iOS)\n",
    "        u'\\U00002702-\\U000027B0'\n",
    "        u'\\U000024C2-\\U0001F251'\n",
    "        ']+',\n",
    "        flags=re.UNICODE)\n",
    "    return emoji_pattern.sub(r'', text)"
   ]
  },
  {
   "cell_type": "code",
   "execution_count": 58,
   "metadata": {
    "execution": {
     "iopub.execute_input": "2023-09-22T12:45:44.655325Z",
     "iopub.status.busy": "2023-09-22T12:45:44.654918Z",
     "iopub.status.idle": "2023-09-22T12:47:10.578338Z",
     "shell.execute_reply": "2023-09-22T12:47:10.577082Z",
     "shell.execute_reply.started": "2023-09-22T12:45:44.655294Z"
    },
    "id": "8jTDc8uDLAoB"
   },
   "outputs": [],
   "source": [
    "new_df['clean_text'] = new_df['clean_text'].apply(lambda x:remove_special_characters(x))"
   ]
  },
  {
   "cell_type": "markdown",
   "metadata": {},
   "source": [
    "**Remove punctuations:**"
   ]
  },
  {
   "cell_type": "code",
   "execution_count": 59,
   "metadata": {
    "execution": {
     "iopub.execute_input": "2023-09-22T12:47:10.580083Z",
     "iopub.status.busy": "2023-09-22T12:47:10.579745Z",
     "iopub.status.idle": "2023-09-22T12:47:10.585154Z",
     "shell.execute_reply": "2023-09-22T12:47:10.584232Z",
     "shell.execute_reply.started": "2023-09-22T12:47:10.580054Z"
    },
    "id": "CH1JgnPmLDh5"
   },
   "outputs": [],
   "source": [
    "import string\n",
    "def remove_punct(text):\n",
    "    \"\"\"\n",
    "        Remove the punctuation\n",
    "    \"\"\"\n",
    "#     return re.sub(r'[]!\"$%&\\'()*+,./:;=#@?[\\^_`{|}~-]+', \"\", text)\n",
    "    return text.translate(str.maketrans('', '', string.punctuation))\n"
   ]
  },
  {
   "cell_type": "code",
   "execution_count": 60,
   "metadata": {
    "execution": {
     "iopub.execute_input": "2023-09-22T12:47:10.586507Z",
     "iopub.status.busy": "2023-09-22T12:47:10.586230Z",
     "iopub.status.idle": "2023-09-22T12:47:23.462025Z",
     "shell.execute_reply": "2023-09-22T12:47:23.460869Z",
     "shell.execute_reply.started": "2023-09-22T12:47:10.586481Z"
    },
    "id": "8fTO_S-MLGaa"
   },
   "outputs": [],
   "source": [
    "new_df['clean_text'] = new_df['clean_text'].apply(lambda x:remove_punct(x))"
   ]
  },
  {
   "cell_type": "code",
   "execution_count": 61,
   "metadata": {
    "execution": {
     "iopub.execute_input": "2023-09-22T12:47:23.485265Z",
     "iopub.status.busy": "2023-09-22T12:47:23.484920Z",
     "iopub.status.idle": "2023-09-22T12:47:23.580216Z",
     "shell.execute_reply": "2023-09-22T12:47:23.579042Z",
     "shell.execute_reply.started": "2023-09-22T12:47:23.485235Z"
    },
    "id": "F_OKW10wLc0B"
   },
   "outputs": [],
   "source": [
    "new_df.drop('Complaint',axis=1,inplace=True)"
   ]
  },
  {
   "cell_type": "code",
   "execution_count": 62,
   "metadata": {
    "execution": {
     "iopub.execute_input": "2023-09-22T12:47:23.581976Z",
     "iopub.status.busy": "2023-09-22T12:47:23.581673Z",
     "iopub.status.idle": "2023-09-22T12:47:23.592195Z",
     "shell.execute_reply": "2023-09-22T12:47:23.591327Z",
     "shell.execute_reply.started": "2023-09-22T12:47:23.581947Z"
    },
    "id": "UyRa61LRPw1R",
    "outputId": "7d6aed0e-8206-439e-bbb6-ef90198d8b32"
   },
   "outputs": [
    {
     "data": {
      "text/html": [
       "<div>\n",
       "<style scoped>\n",
       "    .dataframe tbody tr th:only-of-type {\n",
       "        vertical-align: middle;\n",
       "    }\n",
       "\n",
       "    .dataframe tbody tr th {\n",
       "        vertical-align: top;\n",
       "    }\n",
       "\n",
       "    .dataframe thead th {\n",
       "        text-align: right;\n",
       "    }\n",
       "</style>\n",
       "<table border=\"1\" class=\"dataframe\">\n",
       "  <thead>\n",
       "    <tr style=\"text-align: right;\">\n",
       "      <th></th>\n",
       "      <th>Product</th>\n",
       "      <th>clean_text</th>\n",
       "    </tr>\n",
       "  </thead>\n",
       "  <tbody>\n",
       "    <tr>\n",
       "      <th>14</th>\n",
       "      <td>Credit reporting, repair, or other</td>\n",
       "      <td>i am a victim of identity theft please remove ...</td>\n",
       "    </tr>\n",
       "    <tr>\n",
       "      <th>17</th>\n",
       "      <td>Credit reporting, repair, or other</td>\n",
       "      <td>please remove this inquiry from my credit repo...</td>\n",
       "    </tr>\n",
       "    <tr>\n",
       "      <th>18</th>\n",
       "      <td>Credit reporting, repair, or other</td>\n",
       "      <td>the following inquiries appear on my account t...</td>\n",
       "    </tr>\n",
       "    <tr>\n",
       "      <th>19</th>\n",
       "      <td>Credit reporting, repair, or other</td>\n",
       "      <td>ive found that my credit report has erroneous ...</td>\n",
       "    </tr>\n",
       "    <tr>\n",
       "      <th>24</th>\n",
       "      <td>Credit reporting, repair, or other</td>\n",
       "      <td>synchrony bank discount tire had called me for...</td>\n",
       "    </tr>\n",
       "  </tbody>\n",
       "</table>\n",
       "</div>"
      ],
      "text/plain": [
       "                               Product  \\\n",
       "14  Credit reporting, repair, or other   \n",
       "17  Credit reporting, repair, or other   \n",
       "18  Credit reporting, repair, or other   \n",
       "19  Credit reporting, repair, or other   \n",
       "24  Credit reporting, repair, or other   \n",
       "\n",
       "                                           clean_text  \n",
       "14  i am a victim of identity theft please remove ...  \n",
       "17  please remove this inquiry from my credit repo...  \n",
       "18  the following inquiries appear on my account t...  \n",
       "19  ive found that my credit report has erroneous ...  \n",
       "24  synchrony bank discount tire had called me for...  "
      ]
     },
     "execution_count": 62,
     "metadata": {},
     "output_type": "execute_result"
    }
   ],
   "source": [
    "new_df.head()"
   ]
  },
  {
   "cell_type": "markdown",
   "metadata": {},
   "source": [
    "The data is huge and requires more computational power."
   ]
  },
  {
   "cell_type": "code",
   "execution_count": 63,
   "metadata": {
    "execution": {
     "iopub.execute_input": "2023-09-22T12:47:23.594071Z",
     "iopub.status.busy": "2023-09-22T12:47:23.593756Z",
     "iopub.status.idle": "2023-09-22T12:47:23.601255Z",
     "shell.execute_reply": "2023-09-22T12:47:23.600333Z",
     "shell.execute_reply.started": "2023-09-22T12:47:23.594035Z"
    }
   },
   "outputs": [
    {
     "name": "stdout",
     "output_type": "stream",
     "text": [
      "Size of data: (1466306, 2)\n"
     ]
    }
   ],
   "source": [
    "print('Size of data: {}'.format(new_df.shape))"
   ]
  },
  {
   "cell_type": "markdown",
   "metadata": {},
   "source": [
    "We'll use 20% of data for building ML models"
   ]
  },
  {
   "cell_type": "code",
   "execution_count": 64,
   "metadata": {
    "execution": {
     "iopub.execute_input": "2023-09-22T12:47:23.602613Z",
     "iopub.status.busy": "2023-09-22T12:47:23.602338Z",
     "iopub.status.idle": "2023-09-22T12:47:23.610320Z",
     "shell.execute_reply": "2023-09-22T12:47:23.609401Z",
     "shell.execute_reply.started": "2023-09-22T12:47:23.602587Z"
    }
   },
   "outputs": [
    {
     "name": "stdout",
     "output_type": "stream",
     "text": [
      "20% of data: 293261.2\n"
     ]
    }
   ],
   "source": [
    "print('20% of data: {}'.format(new_df.shape[0]*0.2))"
   ]
  },
  {
   "cell_type": "markdown",
   "metadata": {},
   "source": [
    "Sampling 20% of data"
   ]
  },
  {
   "cell_type": "code",
   "execution_count": 65,
   "metadata": {
    "execution": {
     "iopub.execute_input": "2023-09-22T12:47:23.612274Z",
     "iopub.status.busy": "2023-09-22T12:47:23.611796Z",
     "iopub.status.idle": "2023-09-22T12:47:23.700752Z",
     "shell.execute_reply": "2023-09-22T12:47:23.699501Z",
     "shell.execute_reply.started": "2023-09-22T12:47:23.612232Z"
    },
    "id": "LtXVNfFpW5eG"
   },
   "outputs": [],
   "source": [
    "new_df = new_df.sample(frac=0.15,random_state=42)"
   ]
  },
  {
   "cell_type": "code",
   "execution_count": 66,
   "metadata": {
    "execution": {
     "iopub.execute_input": "2023-09-22T12:47:23.702497Z",
     "iopub.status.busy": "2023-09-22T12:47:23.702170Z",
     "iopub.status.idle": "2023-09-22T12:47:23.706954Z",
     "shell.execute_reply": "2023-09-22T12:47:23.706005Z",
     "shell.execute_reply.started": "2023-09-22T12:47:23.702467Z"
    },
    "id": "F5HUfBcbP0Mp"
   },
   "outputs": [],
   "source": [
    "from sklearn.preprocessing import LabelEncoder\n",
    "le = LabelEncoder()"
   ]
  },
  {
   "cell_type": "code",
   "execution_count": 67,
   "metadata": {
    "execution": {
     "iopub.execute_input": "2023-09-22T12:47:23.708441Z",
     "iopub.status.busy": "2023-09-22T12:47:23.708047Z",
     "iopub.status.idle": "2023-09-22T12:47:23.721540Z",
     "shell.execute_reply": "2023-09-22T12:47:23.720541Z",
     "shell.execute_reply.started": "2023-09-22T12:47:23.708412Z"
    },
    "id": "ARihpo6JQZ0J"
   },
   "outputs": [],
   "source": [
    "X = new_df['clean_text']\n",
    "y = new_df['Product']"
   ]
  },
  {
   "cell_type": "markdown",
   "metadata": {},
   "source": [
    "Encoding Target variable **Product** using Label Encoder"
   ]
  },
  {
   "cell_type": "code",
   "execution_count": 68,
   "metadata": {
    "execution": {
     "iopub.execute_input": "2023-09-22T12:47:23.722898Z",
     "iopub.status.busy": "2023-09-22T12:47:23.722610Z",
     "iopub.status.idle": "2023-09-22T12:47:23.787215Z",
     "shell.execute_reply": "2023-09-22T12:47:23.785884Z",
     "shell.execute_reply.started": "2023-09-22T12:47:23.722871Z"
    },
    "id": "lc20OFbtQkTa"
   },
   "outputs": [],
   "source": [
    "y = le.fit_transform(y.values)"
   ]
  },
  {
   "cell_type": "code",
   "execution_count": 69,
   "metadata": {
    "execution": {
     "iopub.execute_input": "2023-09-22T12:47:23.789002Z",
     "iopub.status.busy": "2023-09-22T12:47:23.788673Z",
     "iopub.status.idle": "2023-09-22T12:47:26.372908Z",
     "shell.execute_reply": "2023-09-22T12:47:26.371707Z",
     "shell.execute_reply.started": "2023-09-22T12:47:23.788971Z"
    }
   },
   "outputs": [],
   "source": [
    "text_length = [len(x.split()) for x in new_df['clean_text']]"
   ]
  },
  {
   "cell_type": "markdown",
   "metadata": {},
   "source": [
    "#### Special Text Features"
   ]
  },
  {
   "cell_type": "code",
   "execution_count": 70,
   "metadata": {
    "execution": {
     "iopub.execute_input": "2023-09-22T12:47:26.374452Z",
     "iopub.status.busy": "2023-09-22T12:47:26.374137Z",
     "iopub.status.idle": "2023-09-22T12:47:26.395539Z",
     "shell.execute_reply": "2023-09-22T12:47:26.394613Z",
     "shell.execute_reply.started": "2023-09-22T12:47:26.374423Z"
    }
   },
   "outputs": [
    {
     "data": {
      "text/plain": [
       "179.41590208505724"
      ]
     },
     "execution_count": 70,
     "metadata": {},
     "output_type": "execute_result"
    }
   ],
   "source": [
    "# Average no of words in sentence\n",
    "np.mean(text_length)"
   ]
  },
  {
   "cell_type": "code",
   "execution_count": 71,
   "metadata": {
    "execution": {
     "iopub.execute_input": "2023-09-22T12:47:26.396882Z",
     "iopub.status.busy": "2023-09-22T12:47:26.396606Z",
     "iopub.status.idle": "2023-09-22T12:47:26.421442Z",
     "shell.execute_reply": "2023-09-22T12:47:26.420503Z",
     "shell.execute_reply.started": "2023-09-22T12:47:26.396855Z"
    }
   },
   "outputs": [
    {
     "data": {
      "text/plain": [
       "5605"
      ]
     },
     "execution_count": 71,
     "metadata": {},
     "output_type": "execute_result"
    }
   ],
   "source": [
    "# Maximum no of words in sentence\n",
    "np.max(text_length)"
   ]
  },
  {
   "cell_type": "code",
   "execution_count": 72,
   "metadata": {
    "execution": {
     "iopub.execute_input": "2023-09-22T12:47:26.423030Z",
     "iopub.status.busy": "2023-09-22T12:47:26.422603Z",
     "iopub.status.idle": "2023-09-22T12:47:26.445366Z",
     "shell.execute_reply": "2023-09-22T12:47:26.444450Z",
     "shell.execute_reply.started": "2023-09-22T12:47:26.423000Z"
    }
   },
   "outputs": [
    {
     "data": {
      "text/plain": [
       "1"
      ]
     },
     "execution_count": 72,
     "metadata": {},
     "output_type": "execute_result"
    }
   ],
   "source": [
    "# Minimum no of words in sentence\n",
    "np.min(text_length)"
   ]
  },
  {
   "cell_type": "code",
   "execution_count": 73,
   "metadata": {
    "execution": {
     "iopub.execute_input": "2023-09-22T12:47:26.446893Z",
     "iopub.status.busy": "2023-09-22T12:47:26.446564Z",
     "iopub.status.idle": "2023-09-22T12:47:26.472282Z",
     "shell.execute_reply": "2023-09-22T12:47:26.471472Z",
     "shell.execute_reply.started": "2023-09-22T12:47:26.446865Z"
    }
   },
   "outputs": [
    {
     "data": {
      "text/plain": [
       "119.0"
      ]
     },
     "execution_count": 73,
     "metadata": {},
     "output_type": "execute_result"
    }
   ],
   "source": [
    "# Median no of words in sentence\n",
    "np.median(text_length)"
   ]
  },
  {
   "cell_type": "markdown",
   "metadata": {},
   "source": [
    "Deleting **df** and **new_df** to free memory"
   ]
  },
  {
   "cell_type": "code",
   "execution_count": 74,
   "metadata": {
    "execution": {
     "iopub.execute_input": "2023-09-22T12:47:26.473514Z",
     "iopub.status.busy": "2023-09-22T12:47:26.473254Z",
     "iopub.status.idle": "2023-09-22T12:47:26.477280Z",
     "shell.execute_reply": "2023-09-22T12:47:26.476453Z",
     "shell.execute_reply.started": "2023-09-22T12:47:26.473489Z"
    },
    "id": "ulgKyOvQQsBK"
   },
   "outputs": [],
   "source": [
    "del df"
   ]
  },
  {
   "cell_type": "code",
   "execution_count": 75,
   "metadata": {
    "execution": {
     "iopub.execute_input": "2023-09-22T12:47:26.478551Z",
     "iopub.status.busy": "2023-09-22T12:47:26.478278Z",
     "iopub.status.idle": "2023-09-22T12:47:26.485861Z",
     "shell.execute_reply": "2023-09-22T12:47:26.484997Z",
     "shell.execute_reply.started": "2023-09-22T12:47:26.478525Z"
    },
    "id": "3ewAKHM2QzrS"
   },
   "outputs": [],
   "source": [
    "del new_df"
   ]
  },
  {
   "cell_type": "markdown",
   "metadata": {},
   "source": [
    "Splitting Data into **train** and **test** split"
   ]
  },
  {
   "cell_type": "code",
   "execution_count": 76,
   "metadata": {
    "execution": {
     "iopub.execute_input": "2023-09-22T12:47:26.487158Z",
     "iopub.status.busy": "2023-09-22T12:47:26.486875Z",
     "iopub.status.idle": "2023-09-22T12:47:26.580782Z",
     "shell.execute_reply": "2023-09-22T12:47:26.579659Z",
     "shell.execute_reply.started": "2023-09-22T12:47:26.487132Z"
    },
    "id": "N7K9cKgdQCXR"
   },
   "outputs": [],
   "source": [
    "from sklearn.model_selection import train_test_split\n",
    "\n",
    "X_train, X_test, y_train, y_test = train_test_split(X,y,test_size=0.2,shuffle=True,random_state=42,stratify=y)"
   ]
  },
  {
   "cell_type": "code",
   "execution_count": 77,
   "metadata": {
    "execution": {
     "iopub.execute_input": "2023-09-22T12:47:26.582555Z",
     "iopub.status.busy": "2023-09-22T12:47:26.582266Z",
     "iopub.status.idle": "2023-09-22T12:47:26.588460Z",
     "shell.execute_reply": "2023-09-22T12:47:26.587623Z",
     "shell.execute_reply.started": "2023-09-22T12:47:26.582530Z"
    },
    "id": "wxXVQyywQ5NW",
    "outputId": "94c20110-efda-4032-d643-8a68f8b1135f"
   },
   "outputs": [
    {
     "data": {
      "text/plain": [
       "((175956,), (43990,), (175956,), (43990,))"
      ]
     },
     "execution_count": 77,
     "metadata": {},
     "output_type": "execute_result"
    }
   ],
   "source": [
    "X_train.shape, X_test.shape, y_train.shape, y_test.shape"
   ]
  },
  {
   "cell_type": "code",
   "execution_count": 78,
   "metadata": {
    "execution": {
     "iopub.execute_input": "2023-09-22T12:47:26.589875Z",
     "iopub.status.busy": "2023-09-22T12:47:26.589569Z",
     "iopub.status.idle": "2023-09-22T12:47:26.605282Z",
     "shell.execute_reply": "2023-09-22T12:47:26.604437Z",
     "shell.execute_reply.started": "2023-09-22T12:47:26.589845Z"
    }
   },
   "outputs": [
    {
     "data": {
      "text/plain": [
       "1    157510\n",
       "2     32808\n",
       "3     16149\n",
       "0     13479\n",
       "Name: count, dtype: int64"
      ]
     },
     "execution_count": 78,
     "metadata": {},
     "output_type": "execute_result"
    }
   ],
   "source": [
    "pd.DataFrame(y).value_counts()"
   ]
  },
  {
   "cell_type": "code",
   "execution_count": 79,
   "metadata": {
    "execution": {
     "iopub.execute_input": "2023-09-22T12:47:26.606614Z",
     "iopub.status.busy": "2023-09-22T12:47:26.606340Z",
     "iopub.status.idle": "2023-09-22T12:47:26.610644Z",
     "shell.execute_reply": "2023-09-22T12:47:26.609655Z",
     "shell.execute_reply.started": "2023-09-22T12:47:26.606588Z"
    }
   },
   "outputs": [],
   "source": [
    "from sklearn.metrics import accuracy_score, classification_report"
   ]
  },
  {
   "cell_type": "markdown",
   "metadata": {},
   "source": [
    "**Metric:** Multi class ROC-AUC\n",
    "\n",
    "**Multi-class ROC-AUC** (Receiver Operating Characteristic - Area Under the Curve) is a metric used for evaluating the performance of multi-class classification models. It is an extension of the ROC-AUC metric commonly used in binary classification.\n",
    "\n",
    "In multi-class classification, you have more than two classes, and each class is treated as a positive class one at a time, while the others are treated as negative classes. The multi-class ROC-AUC score is computed by considering each class separately and then averaging the results. Here's why it's used:\n",
    "\n",
    "**Handling Imbalanced Classes:** Multi-class ROC-AUC is especially useful when dealing with imbalanced datasets where some classes have many more examples than others. It provides a measure of the model's ability to distinguish between each class and the rest, which is important when you have class imbalance.\n",
    "\n",
    "**Class Separability:** It measures the ability of the model to separate each class from the rest. High ROC-AUC values indicate that the model can effectively differentiate between the positive class and the other classes."
   ]
  },
  {
   "cell_type": "code",
   "execution_count": 80,
   "metadata": {
    "execution": {
     "iopub.execute_input": "2023-09-22T12:47:26.612107Z",
     "iopub.status.busy": "2023-09-22T12:47:26.611809Z",
     "iopub.status.idle": "2023-09-22T12:47:26.621613Z",
     "shell.execute_reply": "2023-09-22T12:47:26.620605Z",
     "shell.execute_reply.started": "2023-09-22T12:47:26.612078Z"
    }
   },
   "outputs": [],
   "source": [
    "from sklearn import metrics\n",
    "\n",
    "def multi_class_roc_auc(predictions, target):\n",
    "\n",
    "    num_classes = len(set(target))  # Number of unique classes\n",
    "    roc_auc_scores = []\n",
    "\n",
    "    for class_label in range(num_classes):\n",
    "        # Create binary labels for the current class vs. the rest\n",
    "        binary_labels = [1 if label == class_label else 0 for label in target]\n",
    "        # Calculate ROC AUC for the current class\n",
    "        fpr, tpr, thresholds = metrics.roc_curve(binary_labels, predictions[:, class_label])\n",
    "        roc_auc = metrics.auc(fpr, tpr)\n",
    "        roc_auc_scores.append(roc_auc)\n",
    "\n",
    "    # Return the average ROC AUC score\n",
    "    return sum(roc_auc_scores) / num_classes"
   ]
  },
  {
   "cell_type": "code",
   "execution_count": 90,
   "metadata": {
    "execution": {
     "iopub.execute_input": "2023-09-22T12:56:06.456024Z",
     "iopub.status.busy": "2023-09-22T12:56:06.455564Z",
     "iopub.status.idle": "2023-09-22T12:56:06.461408Z",
     "shell.execute_reply": "2023-09-22T12:56:06.460157Z",
     "shell.execute_reply.started": "2023-09-22T12:56:06.455984Z"
    }
   },
   "outputs": [],
   "source": [
    "scores_model = []"
   ]
  },
  {
   "cell_type": "markdown",
   "metadata": {},
   "source": [
    "#### Selection of Multi Classification model and Model Evaluation"
   ]
  },
  {
   "cell_type": "markdown",
   "metadata": {},
   "source": [
    "We've done the required Text pre-processing.\n",
    "\n",
    "Now Let's Start model Building. We'll train many ML models and compare the performance of the models\n",
    "\n",
    "- Logistic Regression\n",
    "- Naive Bayes\n",
    "- SGD Classifier\n",
    "- LSTM (Neural networks)\n",
    "- BERT (Transformers)"
   ]
  },
  {
   "cell_type": "markdown",
   "metadata": {},
   "source": [
    "Create a TF-IDF vectorizer with specified text preprocessing options and transform the training and test text data into TF-IDF feature matrices.\n"
   ]
  },
  {
   "cell_type": "code",
   "execution_count": 82,
   "metadata": {
    "execution": {
     "iopub.execute_input": "2023-09-22T12:47:26.631326Z",
     "iopub.status.busy": "2023-09-22T12:47:26.631011Z",
     "iopub.status.idle": "2023-09-22T12:50:38.491292Z",
     "shell.execute_reply": "2023-09-22T12:50:38.490044Z",
     "shell.execute_reply.started": "2023-09-22T12:47:26.631297Z"
    },
    "id": "luKuODfHQ_-W",
    "outputId": "7adc96af-d580-433c-ef81-58bafea41fdb"
   },
   "outputs": [
    {
     "name": "stderr",
     "output_type": "stream",
     "text": [
      "/usr/local/lib/python3.8/site-packages/sklearn/utils/_param_validation.py:591: FutureWarning: Passing an int for a boolean parameter is deprecated in version 1.2 and won't be supported anymore in version 1.4.\n",
      "  warnings.warn(\n"
     ]
    }
   ],
   "source": [
    "tfv = TfidfVectorizer(min_df=3,  max_features=None,\n",
    "            strip_accents='unicode', analyzer='word',token_pattern=r'\\w{1,}',\n",
    "            ngram_range=(1, 3), use_idf=1,smooth_idf=1,sublinear_tf=2,\n",
    "            stop_words = 'english', norm='l2')\n",
    "\n",
    "tfv.fit(list(X_train)+list(X_test))\n",
    "X_train_tfv = tfv.transform(X_train)\n",
    "X_test_tfv = tfv.transform(X_test)"
   ]
  },
  {
   "cell_type": "markdown",
   "metadata": {},
   "source": [
    "**Logistic Regression**"
   ]
  },
  {
   "cell_type": "code",
   "execution_count": 83,
   "metadata": {
    "_kg_hide-output": true,
    "execution": {
     "iopub.execute_input": "2023-09-22T12:50:38.493101Z",
     "iopub.status.busy": "2023-09-22T12:50:38.492787Z",
     "iopub.status.idle": "2023-09-22T12:55:13.343555Z",
     "shell.execute_reply": "2023-09-22T12:55:13.342425Z",
     "shell.execute_reply.started": "2023-09-22T12:50:38.493072Z"
    },
    "id": "g2z18_TXRXRB"
   },
   "outputs": [
    {
     "data": {
      "text/html": [
       "<style>#sk-container-id-1 {color: black;}#sk-container-id-1 pre{padding: 0;}#sk-container-id-1 div.sk-toggleable {background-color: white;}#sk-container-id-1 label.sk-toggleable__label {cursor: pointer;display: block;width: 100%;margin-bottom: 0;padding: 0.3em;box-sizing: border-box;text-align: center;}#sk-container-id-1 label.sk-toggleable__label-arrow:before {content: \"▸\";float: left;margin-right: 0.25em;color: #696969;}#sk-container-id-1 label.sk-toggleable__label-arrow:hover:before {color: black;}#sk-container-id-1 div.sk-estimator:hover label.sk-toggleable__label-arrow:before {color: black;}#sk-container-id-1 div.sk-toggleable__content {max-height: 0;max-width: 0;overflow: hidden;text-align: left;background-color: #f0f8ff;}#sk-container-id-1 div.sk-toggleable__content pre {margin: 0.2em;color: black;border-radius: 0.25em;background-color: #f0f8ff;}#sk-container-id-1 input.sk-toggleable__control:checked~div.sk-toggleable__content {max-height: 200px;max-width: 100%;overflow: auto;}#sk-container-id-1 input.sk-toggleable__control:checked~label.sk-toggleable__label-arrow:before {content: \"▾\";}#sk-container-id-1 div.sk-estimator input.sk-toggleable__control:checked~label.sk-toggleable__label {background-color: #d4ebff;}#sk-container-id-1 div.sk-label input.sk-toggleable__control:checked~label.sk-toggleable__label {background-color: #d4ebff;}#sk-container-id-1 input.sk-hidden--visually {border: 0;clip: rect(1px 1px 1px 1px);clip: rect(1px, 1px, 1px, 1px);height: 1px;margin: -1px;overflow: hidden;padding: 0;position: absolute;width: 1px;}#sk-container-id-1 div.sk-estimator {font-family: monospace;background-color: #f0f8ff;border: 1px dotted black;border-radius: 0.25em;box-sizing: border-box;margin-bottom: 0.5em;}#sk-container-id-1 div.sk-estimator:hover {background-color: #d4ebff;}#sk-container-id-1 div.sk-parallel-item::after {content: \"\";width: 100%;border-bottom: 1px solid gray;flex-grow: 1;}#sk-container-id-1 div.sk-label:hover label.sk-toggleable__label {background-color: #d4ebff;}#sk-container-id-1 div.sk-serial::before {content: \"\";position: absolute;border-left: 1px solid gray;box-sizing: border-box;top: 0;bottom: 0;left: 50%;z-index: 0;}#sk-container-id-1 div.sk-serial {display: flex;flex-direction: column;align-items: center;background-color: white;padding-right: 0.2em;padding-left: 0.2em;position: relative;}#sk-container-id-1 div.sk-item {position: relative;z-index: 1;}#sk-container-id-1 div.sk-parallel {display: flex;align-items: stretch;justify-content: center;background-color: white;position: relative;}#sk-container-id-1 div.sk-item::before, #sk-container-id-1 div.sk-parallel-item::before {content: \"\";position: absolute;border-left: 1px solid gray;box-sizing: border-box;top: 0;bottom: 0;left: 50%;z-index: -1;}#sk-container-id-1 div.sk-parallel-item {display: flex;flex-direction: column;z-index: 1;position: relative;background-color: white;}#sk-container-id-1 div.sk-parallel-item:first-child::after {align-self: flex-end;width: 50%;}#sk-container-id-1 div.sk-parallel-item:last-child::after {align-self: flex-start;width: 50%;}#sk-container-id-1 div.sk-parallel-item:only-child::after {width: 0;}#sk-container-id-1 div.sk-dashed-wrapped {border: 1px dashed gray;margin: 0 0.4em 0.5em 0.4em;box-sizing: border-box;padding-bottom: 0.4em;background-color: white;}#sk-container-id-1 div.sk-label label {font-family: monospace;font-weight: bold;display: inline-block;line-height: 1.2em;}#sk-container-id-1 div.sk-label-container {text-align: center;}#sk-container-id-1 div.sk-container {/* jupyter's `normalize.less` sets `[hidden] { display: none; }` but bootstrap.min.css set `[hidden] { display: none !important; }` so we also need the `!important` here to be able to override the default hidden behavior on the sphinx rendered scikit-learn.org. See: https://github.com/scikit-learn/scikit-learn/issues/21755 */display: inline-block !important;position: relative;}#sk-container-id-1 div.sk-text-repr-fallback {display: none;}</style><div id=\"sk-container-id-1\" class=\"sk-top-container\"><div class=\"sk-text-repr-fallback\"><pre>LogisticRegression(C=2, class_weight=&#x27;balanced&#x27;, max_iter=1000, n_jobs=-1,\n",
       "                   solver=&#x27;newton-cg&#x27;)</pre><b>In a Jupyter environment, please rerun this cell to show the HTML representation or trust the notebook. <br />On GitHub, the HTML representation is unable to render, please try loading this page with nbviewer.org.</b></div><div class=\"sk-container\" hidden><div class=\"sk-item\"><div class=\"sk-estimator sk-toggleable\"><input class=\"sk-toggleable__control sk-hidden--visually\" id=\"sk-estimator-id-1\" type=\"checkbox\" checked><label for=\"sk-estimator-id-1\" class=\"sk-toggleable__label sk-toggleable__label-arrow\">LogisticRegression</label><div class=\"sk-toggleable__content\"><pre>LogisticRegression(C=2, class_weight=&#x27;balanced&#x27;, max_iter=1000, n_jobs=-1,\n",
       "                   solver=&#x27;newton-cg&#x27;)</pre></div></div></div></div></div>"
      ],
      "text/plain": [
       "LogisticRegression(C=2, class_weight='balanced', max_iter=1000, n_jobs=-1,\n",
       "                   solver='newton-cg')"
      ]
     },
     "execution_count": 83,
     "metadata": {},
     "output_type": "execute_result"
    }
   ],
   "source": [
    "# Fitting a simple Logistic Regression on TFIDF\n",
    "log_reg = LogisticRegression(C = 2, max_iter = 1000, n_jobs=-1,solver='newton-cg',class_weight='balanced')\n",
    "log_reg.fit(X_train_tfv, y_train)"
   ]
  },
  {
   "cell_type": "code",
   "execution_count": 91,
   "metadata": {
    "execution": {
     "iopub.execute_input": "2023-09-22T12:56:08.952336Z",
     "iopub.status.busy": "2023-09-22T12:56:08.951917Z",
     "iopub.status.idle": "2023-09-22T12:56:09.258396Z",
     "shell.execute_reply": "2023-09-22T12:56:09.257087Z",
     "shell.execute_reply.started": "2023-09-22T12:56:08.952298Z"
    }
   },
   "outputs": [],
   "source": [
    "scores_model.append({'Model': 'Logistic Regression','AUC_Score': multi_class_roc_auc(log_reg.predict_proba(X_test_tfv),y_test),'Accuracy':accuracy_score(log_reg.predict(X_test_tfv),y_test)})"
   ]
  },
  {
   "cell_type": "markdown",
   "metadata": {},
   "source": [
    "These results represent the performance of a logistic regression model trained on text data with TF-IDF features.\n",
    "\n",
    "**Precision:**\n",
    "\n",
    "- Class 0: When the model predicts class 0, it is correct 66% of the time.\n",
    "- Class 1: When the model predicts class 1, it is correct 96% of the time.\n",
    "- Class 2: When the model predicts class 2, it is correct 75% of the time.\n",
    "- Class 3: When the model predicts class 3, it is correct 87% of the time.\n",
    "\n",
    "**Recall:**\n",
    "\n",
    "- Class 0: The model correctly identifies 82% of the actual class 0 instances.\n",
    "- Class 1: The model correctly identifies 91% of the actual class 1 instances.\n",
    "- Class 2: The model correctly identifies 84% of the actual class 2 instances.\n",
    "- Class 3: The model correctly identifies 93% of the actual class 3 instances.\n",
    "\n",
    "**F1-Score:**\n",
    "\n",
    "- Class 0: The F1-score, which balances precision and recall, is 0.73.\n",
    "- Class 1: The F1-score is 0.94, indicating a strong balance between precision and recall.\n",
    "- Class 2: The F1-score is 0.79, showing a good balance between precision and recall.\n",
    "- Class 3: The F1-score is 0.90, indicating a strong balance between precision and recall.\n",
    "\n",
    "**Accuracy:** The overall accuracy of the model is 90%, meaning it correctly predicts the class labels for 90% of the entire dataset."
   ]
  },
  {
   "cell_type": "code",
   "execution_count": 85,
   "metadata": {
    "execution": {
     "iopub.execute_input": "2023-09-22T12:55:13.665056Z",
     "iopub.status.busy": "2023-09-22T12:55:13.664771Z",
     "iopub.status.idle": "2023-09-22T12:55:13.834750Z",
     "shell.execute_reply": "2023-09-22T12:55:13.833740Z",
     "shell.execute_reply.started": "2023-09-22T12:55:13.665029Z"
    }
   },
   "outputs": [
    {
     "name": "stdout",
     "output_type": "stream",
     "text": [
      "              precision    recall  f1-score   support\n",
      "\n",
      "           0       0.66      0.82      0.73      2696\n",
      "           1       0.96      0.91      0.94     31502\n",
      "           2       0.75      0.84      0.79      6562\n",
      "           3       0.87      0.93      0.90      3230\n",
      "\n",
      "    accuracy                           0.90     43990\n",
      "   macro avg       0.81      0.88      0.84     43990\n",
      "weighted avg       0.91      0.90      0.90     43990\n",
      "\n"
     ]
    }
   ],
   "source": [
    "print(classification_report(y_test, log_reg.predict(X_test_tfv)))"
   ]
  },
  {
   "cell_type": "markdown",
   "metadata": {},
   "source": [
    "**Naive Bayes**"
   ]
  },
  {
   "cell_type": "code",
   "execution_count": 87,
   "metadata": {
    "execution": {
     "iopub.execute_input": "2023-09-22T12:55:13.842730Z",
     "iopub.status.busy": "2023-09-22T12:55:13.842349Z",
     "iopub.status.idle": "2023-09-22T12:55:14.472732Z",
     "shell.execute_reply": "2023-09-22T12:55:14.471657Z",
     "shell.execute_reply.started": "2023-09-22T12:55:13.842700Z"
    }
   },
   "outputs": [
    {
     "data": {
      "text/html": [
       "<style>#sk-container-id-2 {color: black;}#sk-container-id-2 pre{padding: 0;}#sk-container-id-2 div.sk-toggleable {background-color: white;}#sk-container-id-2 label.sk-toggleable__label {cursor: pointer;display: block;width: 100%;margin-bottom: 0;padding: 0.3em;box-sizing: border-box;text-align: center;}#sk-container-id-2 label.sk-toggleable__label-arrow:before {content: \"▸\";float: left;margin-right: 0.25em;color: #696969;}#sk-container-id-2 label.sk-toggleable__label-arrow:hover:before {color: black;}#sk-container-id-2 div.sk-estimator:hover label.sk-toggleable__label-arrow:before {color: black;}#sk-container-id-2 div.sk-toggleable__content {max-height: 0;max-width: 0;overflow: hidden;text-align: left;background-color: #f0f8ff;}#sk-container-id-2 div.sk-toggleable__content pre {margin: 0.2em;color: black;border-radius: 0.25em;background-color: #f0f8ff;}#sk-container-id-2 input.sk-toggleable__control:checked~div.sk-toggleable__content {max-height: 200px;max-width: 100%;overflow: auto;}#sk-container-id-2 input.sk-toggleable__control:checked~label.sk-toggleable__label-arrow:before {content: \"▾\";}#sk-container-id-2 div.sk-estimator input.sk-toggleable__control:checked~label.sk-toggleable__label {background-color: #d4ebff;}#sk-container-id-2 div.sk-label input.sk-toggleable__control:checked~label.sk-toggleable__label {background-color: #d4ebff;}#sk-container-id-2 input.sk-hidden--visually {border: 0;clip: rect(1px 1px 1px 1px);clip: rect(1px, 1px, 1px, 1px);height: 1px;margin: -1px;overflow: hidden;padding: 0;position: absolute;width: 1px;}#sk-container-id-2 div.sk-estimator {font-family: monospace;background-color: #f0f8ff;border: 1px dotted black;border-radius: 0.25em;box-sizing: border-box;margin-bottom: 0.5em;}#sk-container-id-2 div.sk-estimator:hover {background-color: #d4ebff;}#sk-container-id-2 div.sk-parallel-item::after {content: \"\";width: 100%;border-bottom: 1px solid gray;flex-grow: 1;}#sk-container-id-2 div.sk-label:hover label.sk-toggleable__label {background-color: #d4ebff;}#sk-container-id-2 div.sk-serial::before {content: \"\";position: absolute;border-left: 1px solid gray;box-sizing: border-box;top: 0;bottom: 0;left: 50%;z-index: 0;}#sk-container-id-2 div.sk-serial {display: flex;flex-direction: column;align-items: center;background-color: white;padding-right: 0.2em;padding-left: 0.2em;position: relative;}#sk-container-id-2 div.sk-item {position: relative;z-index: 1;}#sk-container-id-2 div.sk-parallel {display: flex;align-items: stretch;justify-content: center;background-color: white;position: relative;}#sk-container-id-2 div.sk-item::before, #sk-container-id-2 div.sk-parallel-item::before {content: \"\";position: absolute;border-left: 1px solid gray;box-sizing: border-box;top: 0;bottom: 0;left: 50%;z-index: -1;}#sk-container-id-2 div.sk-parallel-item {display: flex;flex-direction: column;z-index: 1;position: relative;background-color: white;}#sk-container-id-2 div.sk-parallel-item:first-child::after {align-self: flex-end;width: 50%;}#sk-container-id-2 div.sk-parallel-item:last-child::after {align-self: flex-start;width: 50%;}#sk-container-id-2 div.sk-parallel-item:only-child::after {width: 0;}#sk-container-id-2 div.sk-dashed-wrapped {border: 1px dashed gray;margin: 0 0.4em 0.5em 0.4em;box-sizing: border-box;padding-bottom: 0.4em;background-color: white;}#sk-container-id-2 div.sk-label label {font-family: monospace;font-weight: bold;display: inline-block;line-height: 1.2em;}#sk-container-id-2 div.sk-label-container {text-align: center;}#sk-container-id-2 div.sk-container {/* jupyter's `normalize.less` sets `[hidden] { display: none; }` but bootstrap.min.css set `[hidden] { display: none !important; }` so we also need the `!important` here to be able to override the default hidden behavior on the sphinx rendered scikit-learn.org. See: https://github.com/scikit-learn/scikit-learn/issues/21755 */display: inline-block !important;position: relative;}#sk-container-id-2 div.sk-text-repr-fallback {display: none;}</style><div id=\"sk-container-id-2\" class=\"sk-top-container\"><div class=\"sk-text-repr-fallback\"><pre>MultinomialNB()</pre><b>In a Jupyter environment, please rerun this cell to show the HTML representation or trust the notebook. <br />On GitHub, the HTML representation is unable to render, please try loading this page with nbviewer.org.</b></div><div class=\"sk-container\" hidden><div class=\"sk-item\"><div class=\"sk-estimator sk-toggleable\"><input class=\"sk-toggleable__control sk-hidden--visually\" id=\"sk-estimator-id-2\" type=\"checkbox\" checked><label for=\"sk-estimator-id-2\" class=\"sk-toggleable__label sk-toggleable__label-arrow\">MultinomialNB</label><div class=\"sk-toggleable__content\"><pre>MultinomialNB()</pre></div></div></div></div></div>"
      ],
      "text/plain": [
       "MultinomialNB()"
      ]
     },
     "execution_count": 87,
     "metadata": {},
     "output_type": "execute_result"
    }
   ],
   "source": [
    "# naive bayes\n",
    "nb = MultinomialNB()\n",
    "nb.fit(X_train_tfv, y_train)"
   ]
  },
  {
   "cell_type": "code",
   "execution_count": 92,
   "metadata": {
    "execution": {
     "iopub.execute_input": "2023-09-22T12:56:13.066859Z",
     "iopub.status.busy": "2023-09-22T12:56:13.066405Z",
     "iopub.status.idle": "2023-09-22T12:56:13.374490Z",
     "shell.execute_reply": "2023-09-22T12:56:13.373221Z",
     "shell.execute_reply.started": "2023-09-22T12:56:13.066819Z"
    }
   },
   "outputs": [],
   "source": [
    "scores_model.append({'Model': 'Naive bayes','AUC_Score': multi_class_roc_auc(nb.predict_proba(X_test_tfv),y_test),'Accuracy':accuracy_score(nb.predict(X_test_tfv),y_test)})"
   ]
  },
  {
   "cell_type": "code",
   "execution_count": 93,
   "metadata": {
    "execution": {
     "iopub.execute_input": "2023-09-22T12:56:14.957387Z",
     "iopub.status.busy": "2023-09-22T12:56:14.956912Z",
     "iopub.status.idle": "2023-09-22T12:56:15.125575Z",
     "shell.execute_reply": "2023-09-22T12:56:15.124352Z",
     "shell.execute_reply.started": "2023-09-22T12:56:14.957346Z"
    }
   },
   "outputs": [
    {
     "name": "stdout",
     "output_type": "stream",
     "text": [
      "              precision    recall  f1-score   support\n",
      "\n",
      "           0       0.97      0.06      0.11      2696\n",
      "           1       0.77      0.99      0.87     31502\n",
      "           2       0.89      0.29      0.44      6562\n",
      "           3       0.98      0.33      0.50      3230\n",
      "\n",
      "    accuracy                           0.78     43990\n",
      "   macro avg       0.90      0.42      0.48     43990\n",
      "weighted avg       0.82      0.78      0.73     43990\n",
      "\n"
     ]
    }
   ],
   "source": [
    "print(classification_report(y_test, nb.predict(X_test_tfv)))"
   ]
  },
  {
   "cell_type": "markdown",
   "metadata": {},
   "source": [
    "**SGD Classifier**"
   ]
  },
  {
   "cell_type": "code",
   "execution_count": 94,
   "metadata": {
    "execution": {
     "iopub.execute_input": "2023-09-22T12:56:23.783867Z",
     "iopub.status.busy": "2023-09-22T12:56:23.782740Z",
     "iopub.status.idle": "2023-09-22T12:56:32.967161Z",
     "shell.execute_reply": "2023-09-22T12:56:32.964785Z",
     "shell.execute_reply.started": "2023-09-22T12:56:23.783807Z"
    }
   },
   "outputs": [
    {
     "data": {
      "text/html": [
       "<style>#sk-container-id-3 {color: black;}#sk-container-id-3 pre{padding: 0;}#sk-container-id-3 div.sk-toggleable {background-color: white;}#sk-container-id-3 label.sk-toggleable__label {cursor: pointer;display: block;width: 100%;margin-bottom: 0;padding: 0.3em;box-sizing: border-box;text-align: center;}#sk-container-id-3 label.sk-toggleable__label-arrow:before {content: \"▸\";float: left;margin-right: 0.25em;color: #696969;}#sk-container-id-3 label.sk-toggleable__label-arrow:hover:before {color: black;}#sk-container-id-3 div.sk-estimator:hover label.sk-toggleable__label-arrow:before {color: black;}#sk-container-id-3 div.sk-toggleable__content {max-height: 0;max-width: 0;overflow: hidden;text-align: left;background-color: #f0f8ff;}#sk-container-id-3 div.sk-toggleable__content pre {margin: 0.2em;color: black;border-radius: 0.25em;background-color: #f0f8ff;}#sk-container-id-3 input.sk-toggleable__control:checked~div.sk-toggleable__content {max-height: 200px;max-width: 100%;overflow: auto;}#sk-container-id-3 input.sk-toggleable__control:checked~label.sk-toggleable__label-arrow:before {content: \"▾\";}#sk-container-id-3 div.sk-estimator input.sk-toggleable__control:checked~label.sk-toggleable__label {background-color: #d4ebff;}#sk-container-id-3 div.sk-label input.sk-toggleable__control:checked~label.sk-toggleable__label {background-color: #d4ebff;}#sk-container-id-3 input.sk-hidden--visually {border: 0;clip: rect(1px 1px 1px 1px);clip: rect(1px, 1px, 1px, 1px);height: 1px;margin: -1px;overflow: hidden;padding: 0;position: absolute;width: 1px;}#sk-container-id-3 div.sk-estimator {font-family: monospace;background-color: #f0f8ff;border: 1px dotted black;border-radius: 0.25em;box-sizing: border-box;margin-bottom: 0.5em;}#sk-container-id-3 div.sk-estimator:hover {background-color: #d4ebff;}#sk-container-id-3 div.sk-parallel-item::after {content: \"\";width: 100%;border-bottom: 1px solid gray;flex-grow: 1;}#sk-container-id-3 div.sk-label:hover label.sk-toggleable__label {background-color: #d4ebff;}#sk-container-id-3 div.sk-serial::before {content: \"\";position: absolute;border-left: 1px solid gray;box-sizing: border-box;top: 0;bottom: 0;left: 50%;z-index: 0;}#sk-container-id-3 div.sk-serial {display: flex;flex-direction: column;align-items: center;background-color: white;padding-right: 0.2em;padding-left: 0.2em;position: relative;}#sk-container-id-3 div.sk-item {position: relative;z-index: 1;}#sk-container-id-3 div.sk-parallel {display: flex;align-items: stretch;justify-content: center;background-color: white;position: relative;}#sk-container-id-3 div.sk-item::before, #sk-container-id-3 div.sk-parallel-item::before {content: \"\";position: absolute;border-left: 1px solid gray;box-sizing: border-box;top: 0;bottom: 0;left: 50%;z-index: -1;}#sk-container-id-3 div.sk-parallel-item {display: flex;flex-direction: column;z-index: 1;position: relative;background-color: white;}#sk-container-id-3 div.sk-parallel-item:first-child::after {align-self: flex-end;width: 50%;}#sk-container-id-3 div.sk-parallel-item:last-child::after {align-self: flex-start;width: 50%;}#sk-container-id-3 div.sk-parallel-item:only-child::after {width: 0;}#sk-container-id-3 div.sk-dashed-wrapped {border: 1px dashed gray;margin: 0 0.4em 0.5em 0.4em;box-sizing: border-box;padding-bottom: 0.4em;background-color: white;}#sk-container-id-3 div.sk-label label {font-family: monospace;font-weight: bold;display: inline-block;line-height: 1.2em;}#sk-container-id-3 div.sk-label-container {text-align: center;}#sk-container-id-3 div.sk-container {/* jupyter's `normalize.less` sets `[hidden] { display: none; }` but bootstrap.min.css set `[hidden] { display: none !important; }` so we also need the `!important` here to be able to override the default hidden behavior on the sphinx rendered scikit-learn.org. See: https://github.com/scikit-learn/scikit-learn/issues/21755 */display: inline-block !important;position: relative;}#sk-container-id-3 div.sk-text-repr-fallback {display: none;}</style><div id=\"sk-container-id-3\" class=\"sk-top-container\"><div class=\"sk-text-repr-fallback\"><pre>SGDClassifier(alpha=0.001, loss=&#x27;modified_huber&#x27;, max_iter=5,\n",
       "              penalty=&#x27;elasticnet&#x27;, random_state=42, tol=None)</pre><b>In a Jupyter environment, please rerun this cell to show the HTML representation or trust the notebook. <br />On GitHub, the HTML representation is unable to render, please try loading this page with nbviewer.org.</b></div><div class=\"sk-container\" hidden><div class=\"sk-item\"><div class=\"sk-estimator sk-toggleable\"><input class=\"sk-toggleable__control sk-hidden--visually\" id=\"sk-estimator-id-3\" type=\"checkbox\" checked><label for=\"sk-estimator-id-3\" class=\"sk-toggleable__label sk-toggleable__label-arrow\">SGDClassifier</label><div class=\"sk-toggleable__content\"><pre>SGDClassifier(alpha=0.001, loss=&#x27;modified_huber&#x27;, max_iter=5,\n",
       "              penalty=&#x27;elasticnet&#x27;, random_state=42, tol=None)</pre></div></div></div></div></div>"
      ],
      "text/plain": [
       "SGDClassifier(alpha=0.001, loss='modified_huber', max_iter=5,\n",
       "              penalty='elasticnet', random_state=42, tol=None)"
      ]
     },
     "execution_count": 94,
     "metadata": {},
     "output_type": "execute_result"
    }
   ],
   "source": [
    "from sklearn.linear_model import SGDClassifier\n",
    "\n",
    "sgd = SGDClassifier(loss='modified_huber', penalty='elasticnet',alpha=1e-3, random_state=42, max_iter=5, tol=None)\n",
    "sgd.fit(X_train_tfv, y_train)"
   ]
  },
  {
   "cell_type": "code",
   "execution_count": 95,
   "metadata": {
    "execution": {
     "iopub.execute_input": "2023-09-22T12:56:32.973105Z",
     "iopub.status.busy": "2023-09-22T12:56:32.971682Z",
     "iopub.status.idle": "2023-09-22T12:56:33.134297Z",
     "shell.execute_reply": "2023-09-22T12:56:33.133236Z",
     "shell.execute_reply.started": "2023-09-22T12:56:32.973029Z"
    }
   },
   "outputs": [],
   "source": [
    "preds_sgd = sgd.predict(X_test_tfv)"
   ]
  },
  {
   "cell_type": "code",
   "execution_count": 96,
   "metadata": {
    "execution": {
     "iopub.execute_input": "2023-09-22T12:56:33.136295Z",
     "iopub.status.busy": "2023-09-22T12:56:33.135960Z",
     "iopub.status.idle": "2023-09-22T12:56:33.350000Z",
     "shell.execute_reply": "2023-09-22T12:56:33.348880Z",
     "shell.execute_reply.started": "2023-09-22T12:56:33.136267Z"
    }
   },
   "outputs": [],
   "source": [
    "scores_model.append({'Model': 'SGD Classifier','AUC_Score': multi_class_roc_auc(sgd.predict_proba(X_test_tfv),y_test),'Accuracy':accuracy_score(preds_sgd,y_test)})"
   ]
  },
  {
   "cell_type": "code",
   "execution_count": 97,
   "metadata": {
    "execution": {
     "iopub.execute_input": "2023-09-22T12:56:33.352811Z",
     "iopub.status.busy": "2023-09-22T12:56:33.352498Z",
     "iopub.status.idle": "2023-09-22T12:56:33.423135Z",
     "shell.execute_reply": "2023-09-22T12:56:33.422191Z",
     "shell.execute_reply.started": "2023-09-22T12:56:33.352782Z"
    }
   },
   "outputs": [
    {
     "name": "stdout",
     "output_type": "stream",
     "text": [
      "              precision    recall  f1-score   support\n",
      "\n",
      "           0       0.90      0.20      0.32      2696\n",
      "           1       0.81      0.99      0.89     31502\n",
      "           2       0.85      0.40      0.54      6562\n",
      "           3       0.93      0.56      0.70      3230\n",
      "\n",
      "    accuracy                           0.82     43990\n",
      "   macro avg       0.87      0.54      0.61     43990\n",
      "weighted avg       0.83      0.82      0.79     43990\n",
      "\n"
     ]
    }
   ],
   "source": [
    "print(classification_report(y_test, preds_sgd))"
   ]
  },
  {
   "cell_type": "markdown",
   "metadata": {},
   "source": [
    "**LinearSVC** does not have **predict_proba()** to calculate probabilities of predicted classes.\n",
    "\n",
    "So we'll use **CalibratedClassifierCV**\n",
    "\n",
    "**CalibratedClassifierCV** is a class in scikit-learn (sklearn) that provides a way to calibrate the probability outputs of a classifier. It's particularly useful when you want to obtain well-calibrated probability estimates from a classifier, especially in scenarios where the original classifier's probabilities may not be well-calibrated, such as with linear classifiers like Support Vector Machines (SVM) or logistic regression."
   ]
  },
  {
   "cell_type": "code",
   "execution_count": null,
   "metadata": {
    "execution": {
     "iopub.status.busy": "2023-09-22T16:37:39.254466Z",
     "iopub.status.idle": "2023-09-22T16:37:39.255238Z",
     "shell.execute_reply": "2023-09-22T16:37:39.255026Z",
     "shell.execute_reply.started": "2023-09-22T16:37:39.255004Z"
    }
   },
   "outputs": [],
   "source": [
    "from sklearn.svm import LinearSVC\n",
    "from sklearn.calibration import CalibratedClassifierCV\n",
    "svc = LinearSVC()"
   ]
  },
  {
   "cell_type": "code",
   "execution_count": 99,
   "metadata": {
    "execution": {
     "iopub.execute_input": "2023-09-22T12:56:33.441197Z",
     "iopub.status.busy": "2023-09-22T12:56:33.440813Z",
     "iopub.status.idle": "2023-09-22T12:57:52.685103Z",
     "shell.execute_reply": "2023-09-22T12:57:52.682821Z",
     "shell.execute_reply.started": "2023-09-22T12:56:33.441158Z"
    }
   },
   "outputs": [
    {
     "name": "stderr",
     "output_type": "stream",
     "text": [
      "/usr/local/lib/python3.8/site-packages/sklearn/svm/_classes.py:32: FutureWarning: The default value of `dual` will change from `True` to `'auto'` in 1.5. Set the value of `dual` explicitly to suppress the warning.\n",
      "  warnings.warn(\n",
      "/usr/local/lib/python3.8/site-packages/sklearn/svm/_classes.py:32: FutureWarning: The default value of `dual` will change from `True` to `'auto'` in 1.5. Set the value of `dual` explicitly to suppress the warning.\n",
      "  warnings.warn(\n",
      "/usr/local/lib/python3.8/site-packages/sklearn/svm/_classes.py:32: FutureWarning: The default value of `dual` will change from `True` to `'auto'` in 1.5. Set the value of `dual` explicitly to suppress the warning.\n",
      "  warnings.warn(\n",
      "/usr/local/lib/python3.8/site-packages/sklearn/svm/_classes.py:32: FutureWarning: The default value of `dual` will change from `True` to `'auto'` in 1.5. Set the value of `dual` explicitly to suppress the warning.\n",
      "  warnings.warn(\n",
      "/usr/local/lib/python3.8/site-packages/sklearn/svm/_classes.py:32: FutureWarning: The default value of `dual` will change from `True` to `'auto'` in 1.5. Set the value of `dual` explicitly to suppress the warning.\n",
      "  warnings.warn(\n"
     ]
    },
    {
     "data": {
      "text/html": [
       "<style>#sk-container-id-4 {color: black;}#sk-container-id-4 pre{padding: 0;}#sk-container-id-4 div.sk-toggleable {background-color: white;}#sk-container-id-4 label.sk-toggleable__label {cursor: pointer;display: block;width: 100%;margin-bottom: 0;padding: 0.3em;box-sizing: border-box;text-align: center;}#sk-container-id-4 label.sk-toggleable__label-arrow:before {content: \"▸\";float: left;margin-right: 0.25em;color: #696969;}#sk-container-id-4 label.sk-toggleable__label-arrow:hover:before {color: black;}#sk-container-id-4 div.sk-estimator:hover label.sk-toggleable__label-arrow:before {color: black;}#sk-container-id-4 div.sk-toggleable__content {max-height: 0;max-width: 0;overflow: hidden;text-align: left;background-color: #f0f8ff;}#sk-container-id-4 div.sk-toggleable__content pre {margin: 0.2em;color: black;border-radius: 0.25em;background-color: #f0f8ff;}#sk-container-id-4 input.sk-toggleable__control:checked~div.sk-toggleable__content {max-height: 200px;max-width: 100%;overflow: auto;}#sk-container-id-4 input.sk-toggleable__control:checked~label.sk-toggleable__label-arrow:before {content: \"▾\";}#sk-container-id-4 div.sk-estimator input.sk-toggleable__control:checked~label.sk-toggleable__label {background-color: #d4ebff;}#sk-container-id-4 div.sk-label input.sk-toggleable__control:checked~label.sk-toggleable__label {background-color: #d4ebff;}#sk-container-id-4 input.sk-hidden--visually {border: 0;clip: rect(1px 1px 1px 1px);clip: rect(1px, 1px, 1px, 1px);height: 1px;margin: -1px;overflow: hidden;padding: 0;position: absolute;width: 1px;}#sk-container-id-4 div.sk-estimator {font-family: monospace;background-color: #f0f8ff;border: 1px dotted black;border-radius: 0.25em;box-sizing: border-box;margin-bottom: 0.5em;}#sk-container-id-4 div.sk-estimator:hover {background-color: #d4ebff;}#sk-container-id-4 div.sk-parallel-item::after {content: \"\";width: 100%;border-bottom: 1px solid gray;flex-grow: 1;}#sk-container-id-4 div.sk-label:hover label.sk-toggleable__label {background-color: #d4ebff;}#sk-container-id-4 div.sk-serial::before {content: \"\";position: absolute;border-left: 1px solid gray;box-sizing: border-box;top: 0;bottom: 0;left: 50%;z-index: 0;}#sk-container-id-4 div.sk-serial {display: flex;flex-direction: column;align-items: center;background-color: white;padding-right: 0.2em;padding-left: 0.2em;position: relative;}#sk-container-id-4 div.sk-item {position: relative;z-index: 1;}#sk-container-id-4 div.sk-parallel {display: flex;align-items: stretch;justify-content: center;background-color: white;position: relative;}#sk-container-id-4 div.sk-item::before, #sk-container-id-4 div.sk-parallel-item::before {content: \"\";position: absolute;border-left: 1px solid gray;box-sizing: border-box;top: 0;bottom: 0;left: 50%;z-index: -1;}#sk-container-id-4 div.sk-parallel-item {display: flex;flex-direction: column;z-index: 1;position: relative;background-color: white;}#sk-container-id-4 div.sk-parallel-item:first-child::after {align-self: flex-end;width: 50%;}#sk-container-id-4 div.sk-parallel-item:last-child::after {align-self: flex-start;width: 50%;}#sk-container-id-4 div.sk-parallel-item:only-child::after {width: 0;}#sk-container-id-4 div.sk-dashed-wrapped {border: 1px dashed gray;margin: 0 0.4em 0.5em 0.4em;box-sizing: border-box;padding-bottom: 0.4em;background-color: white;}#sk-container-id-4 div.sk-label label {font-family: monospace;font-weight: bold;display: inline-block;line-height: 1.2em;}#sk-container-id-4 div.sk-label-container {text-align: center;}#sk-container-id-4 div.sk-container {/* jupyter's `normalize.less` sets `[hidden] { display: none; }` but bootstrap.min.css set `[hidden] { display: none !important; }` so we also need the `!important` here to be able to override the default hidden behavior on the sphinx rendered scikit-learn.org. See: https://github.com/scikit-learn/scikit-learn/issues/21755 */display: inline-block !important;position: relative;}#sk-container-id-4 div.sk-text-repr-fallback {display: none;}</style><div id=\"sk-container-id-4\" class=\"sk-top-container\"><div class=\"sk-text-repr-fallback\"><pre>CalibratedClassifierCV(estimator=LinearSVC())</pre><b>In a Jupyter environment, please rerun this cell to show the HTML representation or trust the notebook. <br />On GitHub, the HTML representation is unable to render, please try loading this page with nbviewer.org.</b></div><div class=\"sk-container\" hidden><div class=\"sk-item sk-dashed-wrapped\"><div class=\"sk-label-container\"><div class=\"sk-label sk-toggleable\"><input class=\"sk-toggleable__control sk-hidden--visually\" id=\"sk-estimator-id-4\" type=\"checkbox\" ><label for=\"sk-estimator-id-4\" class=\"sk-toggleable__label sk-toggleable__label-arrow\">CalibratedClassifierCV</label><div class=\"sk-toggleable__content\"><pre>CalibratedClassifierCV(estimator=LinearSVC())</pre></div></div></div><div class=\"sk-parallel\"><div class=\"sk-parallel-item\"><div class=\"sk-item\"><div class=\"sk-label-container\"><div class=\"sk-label sk-toggleable\"><input class=\"sk-toggleable__control sk-hidden--visually\" id=\"sk-estimator-id-5\" type=\"checkbox\" ><label for=\"sk-estimator-id-5\" class=\"sk-toggleable__label sk-toggleable__label-arrow\">estimator: LinearSVC</label><div class=\"sk-toggleable__content\"><pre>LinearSVC()</pre></div></div></div><div class=\"sk-serial\"><div class=\"sk-item\"><div class=\"sk-estimator sk-toggleable\"><input class=\"sk-toggleable__control sk-hidden--visually\" id=\"sk-estimator-id-6\" type=\"checkbox\" ><label for=\"sk-estimator-id-6\" class=\"sk-toggleable__label sk-toggleable__label-arrow\">LinearSVC</label><div class=\"sk-toggleable__content\"><pre>LinearSVC()</pre></div></div></div></div></div></div></div></div></div></div>"
      ],
      "text/plain": [
       "CalibratedClassifierCV(estimator=LinearSVC())"
      ]
     },
     "execution_count": 99,
     "metadata": {},
     "output_type": "execute_result"
    }
   ],
   "source": [
    "model_svc = CalibratedClassifierCV(svc)\n",
    "model_svc.fit(X_train_tfv, y_train)"
   ]
  },
  {
   "cell_type": "code",
   "execution_count": 100,
   "metadata": {
    "execution": {
     "iopub.execute_input": "2023-09-22T12:57:52.689708Z",
     "iopub.status.busy": "2023-09-22T12:57:52.688029Z",
     "iopub.status.idle": "2023-09-22T12:57:53.756353Z",
     "shell.execute_reply": "2023-09-22T12:57:53.755029Z",
     "shell.execute_reply.started": "2023-09-22T12:57:52.689630Z"
    }
   },
   "outputs": [],
   "source": [
    "scores_model.append({'Model': 'Linear SVC','AUC_Score': multi_class_roc_auc(model_svc.predict_proba(X_test_tfv),y_test),'Accuracy':accuracy_score(model_svc.predict(X_test_tfv),y_test)})"
   ]
  },
  {
   "cell_type": "code",
   "execution_count": 101,
   "metadata": {
    "execution": {
     "iopub.execute_input": "2023-09-22T12:57:53.758076Z",
     "iopub.status.busy": "2023-09-22T12:57:53.757797Z",
     "iopub.status.idle": "2023-09-22T12:57:54.286472Z",
     "shell.execute_reply": "2023-09-22T12:57:54.285310Z",
     "shell.execute_reply.started": "2023-09-22T12:57:53.758049Z"
    }
   },
   "outputs": [
    {
     "name": "stdout",
     "output_type": "stream",
     "text": [
      "              precision    recall  f1-score   support\n",
      "\n",
      "           0       0.80      0.69      0.74      2696\n",
      "           1       0.93      0.96      0.95     31502\n",
      "           2       0.84      0.76      0.80      6562\n",
      "           3       0.92      0.90      0.91      3230\n",
      "\n",
      "    accuracy                           0.91     43990\n",
      "   macro avg       0.87      0.83      0.85     43990\n",
      "weighted avg       0.91      0.91      0.91     43990\n",
      "\n"
     ]
    }
   ],
   "source": [
    "print(classification_report(y_test, model_svc.predict(X_test_tfv)))"
   ]
  },
  {
   "cell_type": "markdown",
   "metadata": {},
   "source": [
    "#### Comparison of Model Performance"
   ]
  },
  {
   "cell_type": "code",
   "execution_count": 102,
   "metadata": {
    "execution": {
     "iopub.execute_input": "2023-09-22T12:57:54.288124Z",
     "iopub.status.busy": "2023-09-22T12:57:54.287810Z",
     "iopub.status.idle": "2023-09-22T12:57:54.294586Z",
     "shell.execute_reply": "2023-09-22T12:57:54.293575Z",
     "shell.execute_reply.started": "2023-09-22T12:57:54.288096Z"
    }
   },
   "outputs": [
    {
     "data": {
      "text/plain": [
       "[{'Model': 'Logistic Regression',\n",
       "  'AUC_Score': 0.9732551509475689,\n",
       "  'Accuracy': 0.8969538531484428},\n",
       " {'Model': 'Naive bayes',\n",
       "  'AUC_Score': 0.9354380012809702,\n",
       "  'Accuracy': 0.7836781086610594},\n",
       " {'Model': 'SGD Classifier',\n",
       "  'AUC_Score': 0.949440566877984,\n",
       "  'Accuracy': 0.818776994771539},\n",
       " {'Model': 'Linear SVC',\n",
       "  'AUC_Score': 0.9738004526451044,\n",
       "  'Accuracy': 0.9115026142305069}]"
      ]
     },
     "execution_count": 102,
     "metadata": {},
     "output_type": "execute_result"
    }
   ],
   "source": [
    "scores_model"
   ]
  },
  {
   "cell_type": "code",
   "execution_count": 134,
   "metadata": {
    "execution": {
     "iopub.execute_input": "2023-09-22T14:16:23.618061Z",
     "iopub.status.busy": "2023-09-22T14:16:23.617572Z",
     "iopub.status.idle": "2023-09-22T14:16:23.624112Z",
     "shell.execute_reply": "2023-09-22T14:16:23.622616Z",
     "shell.execute_reply.started": "2023-09-22T14:16:23.618025Z"
    }
   },
   "outputs": [],
   "source": [
    "import tensorflow as tf"
   ]
  },
  {
   "cell_type": "markdown",
   "metadata": {},
   "source": [
    "**Tokenization and Padding:** Tokenization and padding text sequences from both the training and test sets to ensure they have consistent lengths, making them suitable for input to machine learning models."
   ]
  },
  {
   "cell_type": "code",
   "execution_count": 135,
   "metadata": {
    "execution": {
     "iopub.execute_input": "2023-09-22T14:16:23.811101Z",
     "iopub.status.busy": "2023-09-22T14:16:23.810654Z",
     "iopub.status.idle": "2023-09-22T14:17:24.257212Z",
     "shell.execute_reply": "2023-09-22T14:17:24.255379Z",
     "shell.execute_reply.started": "2023-09-22T14:16:23.811065Z"
    }
   },
   "outputs": [],
   "source": [
    "token = text.Tokenizer(num_words=None,filters='!\"#$%&()*+,-./:;<=>?@[\\]^_`{|}~',lower=True)\n",
    "max_len = 1500\n",
    "\n",
    "token.fit_on_texts(list(X_train) + list(X_test))\n",
    "X_train_seq = token.texts_to_sequences(X_train)\n",
    "X_test_seq = token.texts_to_sequences(X_test)\n",
    "\n",
    "#zero pad the sequences\n",
    "X_train_pad = sequence.pad_sequences(X_train_seq, maxlen=max_len)\n",
    "X_test_pad = sequence.pad_sequences(X_test_seq, maxlen=max_len)\n",
    "\n",
    "word_index = token.word_index"
   ]
  },
  {
   "cell_type": "code",
   "execution_count": 136,
   "metadata": {
    "execution": {
     "iopub.execute_input": "2023-09-22T14:17:24.259534Z",
     "iopub.status.busy": "2023-09-22T14:17:24.259206Z",
     "iopub.status.idle": "2023-09-22T14:17:24.265120Z",
     "shell.execute_reply": "2023-09-22T14:17:24.263959Z",
     "shell.execute_reply.started": "2023-09-22T14:17:24.259505Z"
    }
   },
   "outputs": [
    {
     "name": "stdout",
     "output_type": "stream",
     "text": [
      "Found 127788 unique tokens.\n"
     ]
    }
   ],
   "source": [
    "print('Found %s unique tokens.' % len(word_index))"
   ]
  },
  {
   "cell_type": "code",
   "execution_count": 137,
   "metadata": {
    "execution": {
     "iopub.execute_input": "2023-09-22T14:17:24.266690Z",
     "iopub.status.busy": "2023-09-22T14:17:24.266401Z",
     "iopub.status.idle": "2023-09-22T14:17:24.279004Z",
     "shell.execute_reply": "2023-09-22T14:17:24.277991Z",
     "shell.execute_reply.started": "2023-09-22T14:17:24.266663Z"
    }
   },
   "outputs": [
    {
     "data": {
      "text/plain": [
       "((175956, 1500), (43990, 1500))"
      ]
     },
     "execution_count": 137,
     "metadata": {},
     "output_type": "execute_result"
    }
   ],
   "source": [
    "X_train_pad.shape, X_test_pad.shape"
   ]
  },
  {
   "cell_type": "markdown",
   "metadata": {},
   "source": [
    "One hot Encoding target variable"
   ]
  },
  {
   "cell_type": "code",
   "execution_count": 138,
   "metadata": {
    "execution": {
     "iopub.execute_input": "2023-09-22T14:17:24.281534Z",
     "iopub.status.busy": "2023-09-22T14:17:24.281239Z",
     "iopub.status.idle": "2023-09-22T14:17:24.298046Z",
     "shell.execute_reply": "2023-09-22T14:17:24.297074Z",
     "shell.execute_reply.started": "2023-09-22T14:17:24.281510Z"
    }
   },
   "outputs": [],
   "source": [
    "y_train_cat = pd.get_dummies(y_train).values\n",
    "y_test_cat = pd.get_dummies(y_test).values"
   ]
  },
  {
   "cell_type": "code",
   "execution_count": 139,
   "metadata": {
    "execution": {
     "iopub.execute_input": "2023-09-22T14:17:24.299374Z",
     "iopub.status.busy": "2023-09-22T14:17:24.299098Z",
     "iopub.status.idle": "2023-09-22T14:17:24.304209Z",
     "shell.execute_reply": "2023-09-22T14:17:24.303100Z",
     "shell.execute_reply.started": "2023-09-22T14:17:24.299349Z"
    }
   },
   "outputs": [],
   "source": [
    "y_train_cat = y_train_cat * 1\n",
    "y_test_cat = y_test_cat * 1"
   ]
  },
  {
   "cell_type": "code",
   "execution_count": 140,
   "metadata": {
    "execution": {
     "iopub.execute_input": "2023-09-22T14:17:24.305800Z",
     "iopub.status.busy": "2023-09-22T14:17:24.305476Z",
     "iopub.status.idle": "2023-09-22T14:17:24.315864Z",
     "shell.execute_reply": "2023-09-22T14:17:24.314744Z",
     "shell.execute_reply.started": "2023-09-22T14:17:24.305761Z"
    }
   },
   "outputs": [
    {
     "data": {
      "text/plain": [
       "((175956, 4), (43990, 4))"
      ]
     },
     "execution_count": 140,
     "metadata": {},
     "output_type": "execute_result"
    }
   ],
   "source": [
    "y_train_cat.shape, y_test_cat.shape"
   ]
  },
  {
   "cell_type": "code",
   "execution_count": 141,
   "metadata": {
    "execution": {
     "iopub.execute_input": "2023-09-22T14:17:24.317174Z",
     "iopub.status.busy": "2023-09-22T14:17:24.316883Z",
     "iopub.status.idle": "2023-09-22T14:17:24.330417Z",
     "shell.execute_reply": "2023-09-22T14:17:24.329412Z",
     "shell.execute_reply.started": "2023-09-22T14:17:24.317147Z"
    }
   },
   "outputs": [
    {
     "data": {
      "text/plain": [
       "<tf.Tensor: shape=(), dtype=int64, numpy=1>"
      ]
     },
     "execution_count": 141,
     "metadata": {},
     "output_type": "execute_result"
    }
   ],
   "source": [
    "y_train[0]"
   ]
  },
  {
   "cell_type": "code",
   "execution_count": 142,
   "metadata": {
    "execution": {
     "iopub.execute_input": "2023-09-22T14:17:24.331744Z",
     "iopub.status.busy": "2023-09-22T14:17:24.331464Z",
     "iopub.status.idle": "2023-09-22T14:17:24.338023Z",
     "shell.execute_reply": "2023-09-22T14:17:24.337029Z",
     "shell.execute_reply.started": "2023-09-22T14:17:24.331720Z"
    }
   },
   "outputs": [
    {
     "data": {
      "text/plain": [
       "array([0, 1, 0, 0])"
      ]
     },
     "execution_count": 142,
     "metadata": {},
     "output_type": "execute_result"
    }
   ],
   "source": [
    "y_train_cat[0]"
   ]
  },
  {
   "cell_type": "markdown",
   "metadata": {},
   "source": [
    "**LSTM (Long short-term Memory networks)**\n",
    "\n",
    "LSTM, which stands for Long Short-Term Memory, is a type of recurrent neural network (RNN) architecture designed to handle the vanishing gradient problem and capture long-term dependencies in sequential data. It is used for various tasks involving sequences, such as natural language processing and time series analysis."
   ]
  },
  {
   "cell_type": "code",
   "execution_count": 143,
   "metadata": {
    "execution": {
     "iopub.execute_input": "2023-09-22T14:17:24.339574Z",
     "iopub.status.busy": "2023-09-22T14:17:24.339297Z",
     "iopub.status.idle": "2023-09-22T14:17:29.415983Z",
     "shell.execute_reply": "2023-09-22T14:17:29.414430Z",
     "shell.execute_reply.started": "2023-09-22T14:17:24.339549Z"
    }
   },
   "outputs": [
    {
     "name": "stdout",
     "output_type": "stream",
     "text": [
      "Model: \"sequential\"\n",
      "_________________________________________________________________\n",
      " Layer (type)                Output Shape              Param #   \n",
      "=================================================================\n",
      " embedding (Embedding)       (None, 1500, 300)         38336700  \n",
      "                                                                 \n",
      " spatial_dropout1d (SpatialD  (None, 1500, 300)        0         \n",
      " ropout1D)                                                       \n",
      "                                                                 \n",
      " bidirectional (Bidirectiona  (None, 600)              1442400   \n",
      " l)                                                              \n",
      "                                                                 \n",
      " dropout_38 (Dropout)        (None, 600)               0         \n",
      "                                                                 \n",
      " flatten (Flatten)           (None, 600)               0         \n",
      "                                                                 \n",
      " dense (Dense)               (None, 64)                38464     \n",
      "                                                                 \n",
      " dropout_39 (Dropout)        (None, 64)                0         \n",
      "                                                                 \n",
      " dense_1 (Dense)             (None, 4)                 260       \n",
      "                                                                 \n",
      "=================================================================\n",
      "Total params: 39,817,824\n",
      "Trainable params: 39,817,824\n",
      "Non-trainable params: 0\n",
      "_________________________________________________________________\n"
     ]
    }
   ],
   "source": [
    "with strategy.scope():\n",
    "    model = Sequential()\n",
    "    model.add(Embedding(len(word_index)+1, 300, input_length=X_train_pad.shape[1]))\n",
    "    model.add(SpatialDropout1D(0.8))\n",
    "    model.add(Bidirectional(LSTM(300, dropout=0.5, recurrent_dropout=0.5)))\n",
    "    model.add(Dropout(0.5))\n",
    "    model.add(Flatten())\n",
    "    model.add(Dense(64,activation='relu'))\n",
    "    model.add(Dropout(0.5))\n",
    "    model.add(Dense(4, activation='softmax'))\n",
    "    model.compile(loss='categorical_crossentropy', optimizer='adam', metrics=['accuracy'])\n",
    "\n",
    "model.summary()"
   ]
  },
  {
   "cell_type": "code",
   "execution_count": 144,
   "metadata": {
    "execution": {
     "iopub.execute_input": "2023-09-22T14:17:29.419882Z",
     "iopub.status.busy": "2023-09-22T14:17:29.419545Z",
     "iopub.status.idle": "2023-09-22T14:17:29.425189Z",
     "shell.execute_reply": "2023-09-22T14:17:29.423945Z",
     "shell.execute_reply.started": "2023-09-22T14:17:29.419851Z"
    }
   },
   "outputs": [],
   "source": [
    "from tensorflow.keras.callbacks import ModelCheckpoint, EarlyStopping, ReduceLROnPlateau"
   ]
  },
  {
   "cell_type": "code",
   "execution_count": 145,
   "metadata": {
    "execution": {
     "iopub.execute_input": "2023-09-22T14:17:29.426608Z",
     "iopub.status.busy": "2023-09-22T14:17:29.426315Z",
     "iopub.status.idle": "2023-09-22T14:17:29.440044Z",
     "shell.execute_reply": "2023-09-22T14:17:29.438859Z",
     "shell.execute_reply.started": "2023-09-22T14:17:29.426580Z"
    }
   },
   "outputs": [],
   "source": [
    "checkpoint_callback = ModelCheckpoint(filepath=\"lstm-1-layer-best_model.h5\", save_best_only=True, monitor=\"val_acc\", mode=\"max\", verbose=1)\n",
    "\n",
    "early_stopping_callback = EarlyStopping(monitor=\"val_acc\", mode=\"max\", patience=10, verbose=1, restore_best_weights=True)\n",
    "\n",
    "reduce_lr_callback = ReduceLROnPlateau(monitor=\"val_loss\", factor=0.1, patience=5, verbose=1, mode=\"min\", min_delta=0.0001, cooldown=0, min_lr=0)\n",
    "\n",
    "callbacks=[checkpoint_callback, early_stopping_callback, reduce_lr_callback]"
   ]
  },
  {
   "cell_type": "code",
   "execution_count": 146,
   "metadata": {
    "execution": {
     "iopub.execute_input": "2023-09-22T14:17:29.441521Z",
     "iopub.status.busy": "2023-09-22T14:17:29.441221Z",
     "iopub.status.idle": "2023-09-22T16:35:14.089640Z",
     "shell.execute_reply": "2023-09-22T16:35:14.088171Z",
     "shell.execute_reply.started": "2023-09-22T14:17:29.441493Z"
    }
   },
   "outputs": [
    {
     "name": "stdout",
     "output_type": "stream",
     "text": [
      "Epoch 1/5\n"
     ]
    },
    {
     "name": "stderr",
     "output_type": "stream",
     "text": [
      "2023-09-22 14:17:46.785953: E tensorflow/core/grappler/optimizers/meta_optimizer.cc:954] model_pruner failed: INVALID_ARGUMENT: Graph does not contain terminal node AssignAddVariableOp.\n",
      "2023-09-22 14:17:47.031107: E tensorflow/core/grappler/optimizers/meta_optimizer.cc:954] model_pruner failed: INVALID_ARGUMENT: Graph does not contain terminal node AssignAddVariableOp.\n"
     ]
    },
    {
     "name": "stdout",
     "output_type": "stream",
     "text": [
      "310/310 [==============================] - ETA: 0s - loss: 0.7549 - accuracy: 0.7274"
     ]
    },
    {
     "name": "stderr",
     "output_type": "stream",
     "text": [
      "2023-09-22 14:45:32.160195: E tensorflow/core/grappler/optimizers/meta_optimizer.cc:954] model_pruner failed: INVALID_ARGUMENT: Graph does not contain terminal node AssignAddVariableOp.\n",
      "2023-09-22 14:45:32.300459: E tensorflow/core/grappler/optimizers/meta_optimizer.cc:954] model_pruner failed: INVALID_ARGUMENT: Graph does not contain terminal node AssignAddVariableOp.\n"
     ]
    },
    {
     "name": "stdout",
     "output_type": "stream",
     "text": [
      "310/310 [==============================] - 1690s 5s/step - loss: 0.7549 - accuracy: 0.7274 - val_loss: 0.6168 - val_accuracy: 0.7818\n",
      "Epoch 2/5\n",
      "310/310 [==============================] - 1643s 5s/step - loss: 0.6740 - accuracy: 0.7330 - val_loss: 0.7247 - val_accuracy: 0.7222\n",
      "Epoch 3/5\n",
      "310/310 [==============================] - 1643s 5s/step - loss: 0.6112 - accuracy: 0.7738 - val_loss: 0.5830 - val_accuracy: 0.7853\n",
      "Epoch 4/5\n",
      "310/310 [==============================] - 1643s 5s/step - loss: 0.5296 - accuracy: 0.8144 - val_loss: 0.6901 - val_accuracy: 0.8121\n",
      "Epoch 5/5\n",
      "310/310 [==============================] - 1642s 5s/step - loss: 0.6752 - accuracy: 0.7519 - val_loss: 0.6210 - val_accuracy: 0.7358\n"
     ]
    }
   ],
   "source": [
    "history_1 = model.fit(X_train_pad, y_train_cat, epochs=5, batch_size=64*strategy.num_replicas_in_sync,validation_split=0.1)"
   ]
  },
  {
   "cell_type": "code",
   "execution_count": 147,
   "metadata": {
    "execution": {
     "iopub.execute_input": "2023-09-22T16:35:14.091962Z",
     "iopub.status.busy": "2023-09-22T16:35:14.091626Z",
     "iopub.status.idle": "2023-09-22T16:37:39.137234Z",
     "shell.execute_reply": "2023-09-22T16:37:39.135863Z",
     "shell.execute_reply.started": "2023-09-22T16:35:14.091928Z"
    }
   },
   "outputs": [
    {
     "name": "stderr",
     "output_type": "stream",
     "text": [
      "2023-09-22 16:35:16.680676: E tensorflow/core/grappler/optimizers/meta_optimizer.cc:954] model_pruner failed: INVALID_ARGUMENT: Graph does not contain terminal node AssignAddVariableOp.\n",
      "2023-09-22 16:35:16.788150: E tensorflow/core/grappler/optimizers/meta_optimizer.cc:954] model_pruner failed: INVALID_ARGUMENT: Graph does not contain terminal node AssignAddVariableOp.\n"
     ]
    },
    {
     "name": "stdout",
     "output_type": "stream",
     "text": [
      "1375/1375 [==============================] - 144s 102ms/step\n"
     ]
    }
   ],
   "source": [
    "probs_bilstm = model.predict(X_test_pad)"
   ]
  },
  {
   "cell_type": "code",
   "execution_count": 148,
   "metadata": {
    "execution": {
     "iopub.execute_input": "2023-09-22T16:37:39.139431Z",
     "iopub.status.busy": "2023-09-22T16:37:39.139099Z",
     "iopub.status.idle": "2023-09-22T16:37:39.148076Z",
     "shell.execute_reply": "2023-09-22T16:37:39.147080Z",
     "shell.execute_reply.started": "2023-09-22T16:37:39.139401Z"
    }
   },
   "outputs": [
    {
     "data": {
      "text/plain": [
       "<tf.Tensor: shape=(43990,), dtype=int64, numpy=array([1, 2, 1, ..., 1, 1, 1])>"
      ]
     },
     "execution_count": 148,
     "metadata": {},
     "output_type": "execute_result"
    }
   ],
   "source": [
    "preds_bilstm = tf.argmax(probs_bilstm,axis=1)\n",
    "preds_bilstm"
   ]
  },
  {
   "cell_type": "markdown",
   "metadata": {},
   "source": [
    "**LSTM**\n",
    "\n",
    "Validation loss: 0.621\n",
    "\n",
    "Validation Accuracy: 0.73"
   ]
  },
  {
   "cell_type": "markdown",
   "metadata": {},
   "source": [
    "#### BERT (Bidirectional Encoder Representations from Transformers)"
   ]
  },
  {
   "cell_type": "code",
   "execution_count": 104,
   "metadata": {
    "execution": {
     "iopub.execute_input": "2023-09-22T12:58:24.530341Z",
     "iopub.status.busy": "2023-09-22T12:58:24.529516Z",
     "iopub.status.idle": "2023-09-22T12:58:39.729251Z",
     "shell.execute_reply": "2023-09-22T12:58:39.727911Z",
     "shell.execute_reply.started": "2023-09-22T12:58:24.530301Z"
    }
   },
   "outputs": [
    {
     "name": "stdout",
     "output_type": "stream",
     "text": [
      "Collecting transformers[sentencepiece]\n",
      "  Downloading transformers-4.33.2-py3-none-any.whl (7.6 MB)\n",
      "\u001b[2K     \u001b[90m━━━━━━━━━━━━━━━━━━━━━━━━━━━━━━━━━━━━━━━━\u001b[0m \u001b[32m7.6/7.6 MB\u001b[0m \u001b[31m45.6 MB/s\u001b[0m eta \u001b[36m0:00:00\u001b[0m00:01\u001b[0m00:01\u001b[0m\n",
      "\u001b[?25hRequirement already satisfied: filelock in /usr/local/lib/python3.8/site-packages (from transformers[sentencepiece]) (3.12.2)\n",
      "Requirement already satisfied: packaging>=20.0 in /usr/local/lib/python3.8/site-packages (from transformers[sentencepiece]) (23.1)\n",
      "Requirement already satisfied: pyyaml>=5.1 in /usr/local/lib/python3.8/site-packages (from transformers[sentencepiece]) (6.0)\n",
      "Requirement already satisfied: numpy>=1.17 in /usr/local/lib/python3.8/site-packages (from transformers[sentencepiece]) (1.23.5)\n",
      "Collecting safetensors>=0.3.1\n",
      "  Downloading safetensors-0.3.3-cp38-cp38-manylinux_2_17_x86_64.manylinux2014_x86_64.whl (1.3 MB)\n",
      "\u001b[2K     \u001b[90m━━━━━━━━━━━━━━━━━━━━━━━━━━━━━━━━━━━━━━━━\u001b[0m \u001b[32m1.3/1.3 MB\u001b[0m \u001b[31m50.5 MB/s\u001b[0m eta \u001b[36m0:00:00\u001b[0m\n",
      "\u001b[?25hRequirement already satisfied: tqdm>=4.27 in /usr/local/lib/python3.8/site-packages (from transformers[sentencepiece]) (4.65.0)\n",
      "Collecting huggingface-hub<1.0,>=0.15.1\n",
      "  Downloading huggingface_hub-0.17.2-py3-none-any.whl (294 kB)\n",
      "\u001b[2K     \u001b[90m━━━━━━━━━━━━━━━━━━━━━━━━━━━━━━━━━━━━━━\u001b[0m \u001b[32m294.9/294.9 kB\u001b[0m \u001b[31m24.0 MB/s\u001b[0m eta \u001b[36m0:00:00\u001b[0m\n",
      "\u001b[?25hRequirement already satisfied: requests in /usr/local/lib/python3.8/site-packages (from transformers[sentencepiece]) (2.31.0)\n",
      "Collecting tokenizers!=0.11.3,<0.14,>=0.11.1\n",
      "  Downloading tokenizers-0.13.3-cp38-cp38-manylinux_2_17_x86_64.manylinux2014_x86_64.whl (7.8 MB)\n",
      "\u001b[2K     \u001b[90m━━━━━━━━━━━━━━━━━━━━━━━━━━━━━━━━━━━━━━━━\u001b[0m \u001b[32m7.8/7.8 MB\u001b[0m \u001b[31m69.2 MB/s\u001b[0m eta \u001b[36m0:00:00\u001b[0m:00:01\u001b[0m00:01\u001b[0m\n",
      "\u001b[?25hRequirement already satisfied: regex!=2019.12.17 in /usr/local/lib/python3.8/site-packages (from transformers[sentencepiece]) (2023.8.8)\n",
      "Requirement already satisfied: protobuf in /usr/local/lib/python3.8/site-packages (from transformers[sentencepiece]) (4.24.3)\n",
      "Collecting sentencepiece!=0.1.92,>=0.1.91\n",
      "  Downloading sentencepiece-0.1.99-cp38-cp38-manylinux_2_17_x86_64.manylinux2014_x86_64.whl (1.3 MB)\n",
      "\u001b[2K     \u001b[90m━━━━━━━━━━━━━━━━━━━━━━━━━━━━━━━━━━━━━━━━\u001b[0m \u001b[32m1.3/1.3 MB\u001b[0m \u001b[31m53.3 MB/s\u001b[0m eta \u001b[36m0:00:00\u001b[0m\n",
      "\u001b[?25hRequirement already satisfied: typing-extensions>=3.7.4.3 in /usr/local/lib/python3.8/site-packages (from huggingface-hub<1.0,>=0.15.1->transformers[sentencepiece]) (4.7.1)\n",
      "Collecting fsspec\n",
      "  Downloading fsspec-2023.9.1-py3-none-any.whl (173 kB)\n",
      "\u001b[2K     \u001b[90m━━━━━━━━━━━━━━━━━━━━━━━━━━━━━━━━━━━━━━\u001b[0m \u001b[32m173.4/173.4 kB\u001b[0m \u001b[31m16.1 MB/s\u001b[0m eta \u001b[36m0:00:00\u001b[0m\n",
      "\u001b[?25hRequirement already satisfied: urllib3<3,>=1.21.1 in /usr/local/lib/python3.8/site-packages (from requests->transformers[sentencepiece]) (1.26.16)\n",
      "Requirement already satisfied: charset-normalizer<4,>=2 in /usr/local/lib/python3.8/site-packages (from requests->transformers[sentencepiece]) (3.2.0)\n",
      "Requirement already satisfied: idna<4,>=2.5 in /usr/local/lib/python3.8/site-packages (from requests->transformers[sentencepiece]) (3.4)\n",
      "Requirement already satisfied: certifi>=2017.4.17 in /usr/local/lib/python3.8/site-packages (from requests->transformers[sentencepiece]) (2023.5.7)\n",
      "Installing collected packages: tokenizers, sentencepiece, safetensors, fsspec, huggingface-hub, transformers\n",
      "Successfully installed fsspec-2023.9.1 huggingface-hub-0.17.2 safetensors-0.3.3 sentencepiece-0.1.99 tokenizers-0.13.3 transformers-4.33.2\n",
      "\u001b[33mWARNING: Running pip as the 'root' user can result in broken permissions and conflicting behaviour with the system package manager. It is recommended to use a virtual environment instead: https://pip.pypa.io/warnings/venv\u001b[0m\u001b[33m\n",
      "\u001b[0m\n",
      "\u001b[1m[\u001b[0m\u001b[34;49mnotice\u001b[0m\u001b[1;39;49m]\u001b[0m\u001b[39;49m A new release of pip is available: \u001b[0m\u001b[31;49m23.0.1\u001b[0m\u001b[39;49m -> \u001b[0m\u001b[32;49m23.2.1\u001b[0m\n",
      "\u001b[1m[\u001b[0m\u001b[34;49mnotice\u001b[0m\u001b[1;39;49m]\u001b[0m\u001b[39;49m To update, run: \u001b[0m\u001b[32;49mpip install --upgrade pip\u001b[0m\n"
     ]
    }
   ],
   "source": [
    "!pip install transformers[sentencepiece]"
   ]
  },
  {
   "cell_type": "code",
   "execution_count": 105,
   "metadata": {
    "execution": {
     "iopub.execute_input": "2023-09-22T12:58:39.731785Z",
     "iopub.status.busy": "2023-09-22T12:58:39.731478Z",
     "iopub.status.idle": "2023-09-22T12:59:10.668578Z",
     "shell.execute_reply": "2023-09-22T12:59:10.667024Z",
     "shell.execute_reply.started": "2023-09-22T12:58:39.731754Z"
    }
   },
   "outputs": [
    {
     "name": "stderr",
     "output_type": "stream",
     "text": [
      "/usr/local/lib/python3.8/site-packages/tqdm/auto.py:21: TqdmWarning: IProgress not found. Please update jupyter and ipywidgets. See https://ipywidgets.readthedocs.io/en/stable/user_install.html\n",
      "  from .autonotebook import tqdm as notebook_tqdm\n"
     ]
    }
   ],
   "source": [
    "from transformers import AutoTokenizer, TFAutoModel, BertTokenizerFast, TFTrainingArguments, TFTrainer, TFBertForSequenceClassification"
   ]
  },
  {
   "cell_type": "code",
   "execution_count": 106,
   "metadata": {
    "execution": {
     "iopub.execute_input": "2023-09-22T12:59:10.670745Z",
     "iopub.status.busy": "2023-09-22T12:59:10.670427Z",
     "iopub.status.idle": "2023-09-22T13:00:17.214339Z",
     "shell.execute_reply": "2023-09-22T13:00:17.213088Z",
     "shell.execute_reply.started": "2023-09-22T12:59:10.670711Z"
    }
   },
   "outputs": [
    {
     "name": "stderr",
     "output_type": "stream",
     "text": [
      "Downloading (…)okenizer_config.json: 100%|██████████| 28.0/28.0 [00:00<00:00, 8.36kB/s]\n",
      "Downloading (…)solve/main/vocab.txt: 100%|██████████| 232k/232k [00:00<00:00, 2.25MB/s]\n",
      "Downloading (…)/main/tokenizer.json: 100%|██████████| 466k/466k [00:00<00:00, 10.3MB/s]\n",
      "Downloading (…)lve/main/config.json: 100%|██████████| 570/570 [00:00<00:00, 302kB/s]\n",
      "Downloading model.safetensors: 100%|██████████| 440M/440M [00:01<00:00, 266MB/s]  \n",
      "All PyTorch model weights were used when initializing TFBertForSequenceClassification.\n",
      "\n",
      "Some weights or buffers of the TF 2.0 model TFBertForSequenceClassification were not initialized from the PyTorch model and are newly initialized: ['classifier.weight', 'classifier.bias']\n",
      "You should probably TRAIN this model on a down-stream task to be able to use it for predictions and inference.\n"
     ]
    }
   ],
   "source": [
    "with strategy.scope():\n",
    "    \n",
    "    tokenizer = BertTokenizerFast.from_pretrained('bert-base-uncased')\n",
    "    model = TFBertForSequenceClassification.from_pretrained('bert-base-uncased', num_labels=4)\n",
    "\n",
    "    # Tokenize your data\n",
    "    train_encodings = tokenizer(list(X_train), truncation=True, padding=True, max_length=256, return_tensors=\"tf\")\n",
    "    val_encodings = tokenizer(list(X_test), truncation=True, padding=True, max_length=256, return_tensors=\"tf\")\n",
    "\n",
    "    # Convert labels to NumPy arrays\n",
    "    y_train = tf.convert_to_tensor(y_train)\n",
    "    y_test = tf.convert_to_tensor(y_test)\n",
    "\n",
    "    # Define a Keras custom callback for early stopping (optional)\n",
    "    early_stopping = tf.keras.callbacks.EarlyStopping(monitor='val_loss', patience=3)\n",
    "\n",
    "    # Define the Keras model\n",
    "    input_ids = tf.keras.layers.Input(shape=(256,), name='input_ids', dtype='int32')\n",
    "    attention_mask = tf.keras.layers.Input(shape=(256,), name='attention_mask', dtype='int32')\n",
    "\n",
    "    output = model({'input_ids': input_ids, 'attention_mask': attention_mask})\n",
    "    keras_model = tf.keras.Model(inputs=[input_ids, attention_mask], outputs=output.logits)\n",
    "\n",
    "    # Compile the model\n",
    "    optimizer = tf.keras.optimizers.Adam(learning_rate=2e-5)\n",
    "    loss = tf.keras.losses.SparseCategoricalCrossentropy(from_logits=True)\n",
    "    metric = tf.keras.metrics.SparseCategoricalAccuracy('accuracy')\n",
    "\n",
    "    keras_model.compile(optimizer=optimizer, loss=loss, metrics=[metric])"
   ]
  },
  {
   "cell_type": "code",
   "execution_count": 108,
   "metadata": {
    "execution": {
     "iopub.execute_input": "2023-09-22T13:13:28.443770Z",
     "iopub.status.busy": "2023-09-22T13:13:28.443163Z",
     "iopub.status.idle": "2023-09-22T13:50:24.307907Z",
     "shell.execute_reply": "2023-09-22T13:50:24.306422Z",
     "shell.execute_reply.started": "2023-09-22T13:13:28.443725Z"
    }
   },
   "outputs": [
    {
     "name": "stdout",
     "output_type": "stream",
     "text": [
      "Epoch 1/5\n",
      "5499/5499 [==============================] - 445s 81ms/step - loss: 0.1971 - accuracy: 0.9312 - val_loss: 0.2487 - val_accuracy: 0.9144\n",
      "Epoch 2/5\n",
      "5499/5499 [==============================] - 444s 81ms/step - loss: 0.1512 - accuracy: 0.9471 - val_loss: 0.2465 - val_accuracy: 0.9155\n",
      "Epoch 3/5\n",
      "5499/5499 [==============================] - 440s 80ms/step - loss: 0.1096 - accuracy: 0.9629 - val_loss: 0.2780 - val_accuracy: 0.9138\n",
      "Epoch 4/5\n",
      "5499/5499 [==============================] - 442s 80ms/step - loss: 0.0799 - accuracy: 0.9734 - val_loss: 0.3148 - val_accuracy: 0.9122\n",
      "Epoch 5/5\n",
      "5499/5499 [==============================] - 444s 81ms/step - loss: 0.0615 - accuracy: 0.9797 - val_loss: 0.3484 - val_accuracy: 0.9137\n"
     ]
    }
   ],
   "source": [
    "# Train the model within the strategy scope\n",
    "with strategy.scope():\n",
    "    # Train the model\n",
    "    history = keras_model.fit(\n",
    "        {'input_ids': train_encodings['input_ids'], 'attention_mask': train_encodings['attention_mask']},\n",
    "        y_train,\n",
    "        epochs=5,\n",
    "        batch_size=32,\n",
    "        validation_data=({'input_ids': val_encodings['input_ids'], 'attention_mask': val_encodings['attention_mask']}, y_test),\n",
    "        callbacks=[early_stopping]  # You can add other callbacks as needed\n",
    "    )"
   ]
  },
  {
   "cell_type": "code",
   "execution_count": 109,
   "metadata": {
    "execution": {
     "iopub.execute_input": "2023-09-22T13:50:24.310325Z",
     "iopub.status.busy": "2023-09-22T13:50:24.310006Z",
     "iopub.status.idle": "2023-09-22T13:50:57.278523Z",
     "shell.execute_reply": "2023-09-22T13:50:57.277229Z",
     "shell.execute_reply.started": "2023-09-22T13:50:24.310295Z"
    }
   },
   "outputs": [
    {
     "name": "stdout",
     "output_type": "stream",
     "text": [
      "1375/1375 [==============================] - 33s 23ms/step - loss: 0.3484 - accuracy: 0.9137\n",
      "Validation loss: 0.34835126996040344, Validation accuracy: 0.9137076735496521\n"
     ]
    }
   ],
   "source": [
    "# Evaluate the model\n",
    "eval_results = keras_model.evaluate(\n",
    "    {'input_ids': val_encodings['input_ids'], 'attention_mask': val_encodings['attention_mask']},\n",
    "    y_test,\n",
    "    batch_size=32\n",
    ")\n",
    "\n",
    "print(f\"Validation loss: {eval_results[0]}, Validation accuracy: {eval_results[1]}\")"
   ]
  },
  {
   "cell_type": "markdown",
   "metadata": {},
   "source": [
    "**BERT** Gives better accuracy and comparatively less loss than other ML Algorithms in just 2 epochs.\n",
    "\n",
    "Let's use BERT for Predictions"
   ]
  },
  {
   "cell_type": "code",
   "execution_count": 110,
   "metadata": {
    "execution": {
     "iopub.execute_input": "2023-09-22T13:50:57.535550Z",
     "iopub.status.busy": "2023-09-22T13:50:57.535196Z",
     "iopub.status.idle": "2023-09-22T13:50:57.541619Z",
     "shell.execute_reply": "2023-09-22T13:50:57.540716Z",
     "shell.execute_reply.started": "2023-09-22T13:50:57.535515Z"
    }
   },
   "outputs": [
    {
     "data": {
      "text/plain": [
       "array(['Consumer Loan', 'Credit reporting, repair, or other',\n",
       "       'Debt collection', 'Mortgage'], dtype=object)"
      ]
     },
     "execution_count": 110,
     "metadata": {},
     "output_type": "execute_result"
    }
   ],
   "source": [
    "le.classes_"
   ]
  },
  {
   "cell_type": "markdown",
   "metadata": {},
   "source": [
    "#### Prediction"
   ]
  },
  {
   "cell_type": "code",
   "execution_count": 133,
   "metadata": {
    "execution": {
     "iopub.execute_input": "2023-09-22T14:14:41.955730Z",
     "iopub.status.busy": "2023-09-22T14:14:41.955324Z",
     "iopub.status.idle": "2023-09-22T14:14:44.876690Z",
     "shell.execute_reply": "2023-09-22T14:14:44.875187Z",
     "shell.execute_reply.started": "2023-09-22T14:14:41.955699Z"
    }
   },
   "outputs": [
    {
     "name": "stdout",
     "output_type": "stream",
     "text": [
      "Predicted Text: ['Credit reporting, repair, or other', 'Consumer Loan', 'Debt collection']\n"
     ]
    }
   ],
   "source": [
    "# Function to predict text from user input\n",
    "def predict_text(user_input):\n",
    "    res = []\n",
    "    \n",
    "    for i in range(len(user_input)):\n",
    "        # Tokenize and preprocess the user input\n",
    "        input_text = [user_input[i]]\n",
    "        input_encodings = tokenizer(input_text, truncation=True, padding=True, return_tensors=\"tf\")\n",
    "\n",
    "        # Extract input_ids and attention_mask\n",
    "        input_ids = input_encodings['input_ids']\n",
    "        attention_mask = input_encodings['attention_mask']\n",
    "\n",
    "        # Manually pad to max_length of 256 if necessary\n",
    "        max_length = 256\n",
    "        if input_ids.shape[1] < max_length:\n",
    "            pad_length = max_length - input_ids.shape[1]\n",
    "            input_ids = np.pad(input_ids, ((0, 0), (0, pad_length)), 'constant', constant_values=0)\n",
    "            attention_mask = np.pad(attention_mask, ((0, 0), (0, pad_length)), 'constant', constant_values=0)\n",
    "\n",
    "        # Make predictions using the model\n",
    "        predictions = keras_model([tf.constant(input_ids), tf.constant(attention_mask)])\n",
    "\n",
    "        # Decode the output to obtain the predicted class index\n",
    "        predicted_class_index = tf.argmax(predictions, axis=1).numpy()[0]\n",
    "\n",
    "        # Decode the class index to obtain the predicted text (assuming you have a label to text mapping)\n",
    "        label_to_text_mapping = list(le.classes_)  # Replace with your label to text mapping\n",
    "        predicted_text = label_to_text_mapping[predicted_class_index]\n",
    "\n",
    "        res.append(predicted_text)\n",
    "    return res\n",
    "# Example usage\n",
    "user_input = [\"I need credit\",'When can i get loan',\"Didn't receive enough information to verify debt\"]\n",
    "predicted_text = predict_text(user_input)\n",
    "print(\"Predicted Text:\", predicted_text)"
   ]
  }
 ],
 "metadata": {
  "kernelspec": {
   "display_name": "Python 3 (ipykernel)",
   "language": "python",
   "name": "python3"
  },
  "language_info": {
   "codemirror_mode": {
    "name": "ipython",
    "version": 3
   },
   "file_extension": ".py",
   "mimetype": "text/x-python",
   "name": "python",
   "nbconvert_exporter": "python",
   "pygments_lexer": "ipython3",
   "version": "3.11.5"
  }
 },
 "nbformat": 4,
 "nbformat_minor": 4
}
